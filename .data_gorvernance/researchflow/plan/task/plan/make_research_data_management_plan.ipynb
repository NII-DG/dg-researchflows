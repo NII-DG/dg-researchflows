{
 "cells": [
  {
   "cell_type": "markdown",
   "metadata": {},
   "source": [
    "# 研究データ管理計画を立てる\n",
    "\n",
    "## 機能概要\n",
    "\n",
    "研究データ管理計画を策定します。<br>\n",
    "研究データ管理計画は、DMP(データマネジメントプラン)とデータガバナンス機能のオリジナル項目によって策定します。<br>\n",
    "研究データ管理計画を策定後、それに基づいたリサーチフローとガバナンスシートが用意されます。<br>"
   ]
  },
  {
   "cell_type": "markdown",
   "metadata": {},
   "source": [
    "## 1. 研究データ管理計画を策定\n",
    "\n",
    "研究データ管理計画をDMPとデータガバナンス機能のオリジナル項目によって策定します。<br>\n",
    "DMPの登録は任意ですが、データガバナンス機能のオリジナル項目はリサーチフローを提供するために登録が必須です。"
   ]
  },
  {
   "cell_type": "code",
   "execution_count": null,
   "metadata": {},
   "outputs": [],
   "source": [
    "# 研究データ管理計画を策定する。\n",
    "import os\n",
    "import sys\n",
    "sys.path.append('../../../../../..')\n",
    "from data_gorvernance.library.plan.make_research_data_management_plan import DGPlaner\n",
    "\n",
    "DGPlaner.generateFormScetion(working_path=os.path.abspath('__file__'))"
   ]
  }
 ],
 "metadata": {
  "kernelspec": {
   "display_name": "env",
   "language": "python",
   "name": "python3"
  },
  "language_info": {
   "name": "python",
   "version": "3.10.9"
  },
  "orig_nbformat": 4
 },
 "nbformat": 4,
 "nbformat_minor": 2
}
