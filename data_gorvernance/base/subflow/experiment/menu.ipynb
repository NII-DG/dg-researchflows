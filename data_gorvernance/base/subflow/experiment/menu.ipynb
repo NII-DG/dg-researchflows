{
 "cells": [
  {
   "cell_type": "markdown",
   "metadata": {},
   "source": [
    "# ＜:subflow_name＞ 実験サブフローメニュー\n",
    "\n",
    "## 機能概要\n",
    "実験サブフローは、実験のプロセスで生じる研究者のタスクを半機械的に実行支援します。<br>\n",
    "個々のタスクの実行支援は、Jupyter Notebook形式で実行可能な手順書として記述されています。<br>\n",
    "各タスクに書かれているコードはご自身に合わせて編集することが可能です。<br>\n",
    "ただし、編集内容によってはコードが正常に動作しなくなる可能性がありますのでご留意ください。<br>\n"
   ]
  },
  {
   "cell_type": "markdown",
   "metadata": {},
   "source": [
    "## サブフローメニューを表示\n",
    "サブフローメニューについては[こちら]()をご参照ください。新規タブで開きます。"
   ]
  },
  {
   "cell_type": "code",
   "execution_count": null,
   "metadata": {
    "disable_pins": true,
    "code_folding": [
        0
    ]
   },
   "outputs": [],
   "source": [
    "# サブフローメニューを表示\n",
    "import os\n",
    "import sys\n",
    "sys.path.append('../../..')\n",
    "from library.subflow import SubflowMenu\n",
    "\n",
    "SubflowMenu.render(working_file=os.path.abspath('__file__'), is_selected=True)"
   ]
  },
  {
   "cell_type": "markdown",
   "metadata": {},
   "source": [
    "## メインメニューへ"
   ]
  },
  {
   "cell_type": "code",
   "execution_count": null,
   "metadata": {
    "disable_pins": true,
    "code_folding": [
        0
    ]
   },
   "outputs": [],
   "source": [
    "# メインメニューへアクセスするボタンを表示\n",
    "import os\n",
    "import sys\n",
    "sys.path.append('../../..')\n",
    "from library import subflow\n",
    "subflow.access_main_menu(working_file=os.path.abspath('__file__'))"
   ]
  }
 ],
 "metadata": {
  "kernelspec": {
   "display_name": "env",
   "language": "python",
   "name": "python3"
  },
  "language_info": {
   "codemirror_mode": {
    "name": "ipython",
    "version": 3
   },
   "file_extension": ".py",
   "mimetype": "text/x-python",
   "name": "python",
   "nbconvert_exporter": "python",
   "pygments_lexer": "ipython3",
   "version": "3.10.9"
  },
  "orig_nbformat": 4
 },
 "nbformat": 4,
 "nbformat_minor": 2
}
