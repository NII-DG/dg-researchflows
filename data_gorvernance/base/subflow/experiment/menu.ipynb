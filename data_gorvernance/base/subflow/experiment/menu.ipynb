{
 "cells": [
  {
   "cell_type": "markdown",
   "metadata": {},
   "source": [
    "# ＜:subflow_name＞ 実験サブフローメニュー\n",
    "\n",
    "各フェーズにおけるタスクをサブフローとして表現します。<br>\n",
    "初めにサブフローメニューの「実験パッケージの構成を用意する」の手順を実行してください。その後に「実験に利用するデータを用意する」→「解析処理を実施する」→「解析環境を参照」の手順を順番にを実行して下さい。<br>\n",
    "残りの4つのサブフローは任意のタイミングで実行可能なタスクです。<br>\n",
    "※薄いグレーのタスクは前提条件のあるタスクで、直前のタスクが実行されていないと実行することができません。濃いグレーのタスクは非推奨のタスクです。"
   ]
  },
  {
   "cell_type": "markdown",
   "metadata": {},
   "source": [
    "## サブフローメニューを表示する"
   ]
  },
  {
   "cell_type": "code",
   "execution_count": null,
   "metadata": {
    "code_folding": [
     0
    ],
    "disable_pins": true
   },
   "outputs": [],
   "source": [
    "\"\"\"\n",
    "サブフローメニューに戻るためにサブフローメニューのページに飛ぶための画面とボタンを用意する。\n",
    "\"\"\"\n",
    "# サブフローメニューを表示する\n",
    "import os\n",
    "import sys\n",
    "sys.path.append('../../..')\n",
    "from library.subflow import SubflowMenu\n",
    "\n",
    "SubflowMenu.render(working_file=os.path.abspath('__file__'), is_selected=True)"
   ]
  },
  {
   "cell_type": "markdown",
   "metadata": {},
   "source": [
    "## メインメニューを表示する"
   ]
  },
  {
   "cell_type": "code",
   "execution_count": null,
   "metadata": {
    "code_folding": [
     0
    ],
    "disable_pins": true
   },
   "outputs": [],
   "source": [
    "\"\"\"\n",
    "メインメニューに戻るためにメインメニューのページに飛ぶための画面とボタンを用意する。\n",
    "\"\"\"\n",
    "# メインメニューを表示する\n",
    "import os\n",
    "import sys\n",
    "sys.path.append('../../..')\n",
    "from library import subflow\n",
    "subflow.access_main_menu(working_file=os.path.abspath('__file__'))"
   ]
  }
 ],
 "metadata": {
  "kernelspec": {
   "display_name": "env",
   "language": "python",
   "name": "python3"
  },
  "language_info": {
   "codemirror_mode": {
    "name": "ipython",
    "version": 3
   },
   "file_extension": ".py",
   "mimetype": "text/x-python",
   "name": "python",
   "nbconvert_exporter": "python",
   "pygments_lexer": "ipython3",
   "version": "3.10.9"
  },
  "orig_nbformat": 4
 },
 "nbformat": 4,
 "nbformat_minor": 2
}
