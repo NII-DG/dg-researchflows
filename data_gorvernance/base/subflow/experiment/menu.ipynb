{
    "cells": [
        {
            "cell_type": "markdown",
            "metadata": {},
            "source": [
                "# <:subflow_name> 実験サブフローメニュー\n",
                "\n",
                "## 機能概要\n",
                "実験サブフローは、実験のプロセスで生じる研究者のタスクを半機械的に実行支援します。<br>\n",
                "個々のタスクの実行支援は、Jupyter Notebook形式で実行可能な手順書として記述されています。<br>\n",
                "各タスクに書かれているコードはご自身に合わせて編集することが可能です。<br>\n",
                "ただし、編集内容によってはコードが正常に動作しなくなる可能性がありますのでご留意ください。<br>\n"
            ]
        },
        {
            "cell_type": "code",
            "execution_count": null,
            "metadata": {},
            "outputs": [],
            "source": [
                "# TODO: Implement code"
            ]
        }
    ],
    "metadata": {
        "language_info": {
            "name": "python"
        },
        "orig_nbformat": 4
    },
    "nbformat": 4,
    "nbformat_minor": 2
}
