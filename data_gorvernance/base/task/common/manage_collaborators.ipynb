{
 "cells": [
  {
   "cell_type": "markdown",
   "metadata": {},
   "source": [
    "# 共同研究者を管理する\n",
    "\n",
    "GRDMプロジェクトの共同研究者の追加や削除、権限の管理を行う。"
   ]
  },
  {
   "cell_type": "markdown",
   "metadata": {},
   "source": [
    "## メニューバー"
   ]
  },
  {
   "cell_type": "code",
   "execution_count": null,
   "metadata": {},
   "outputs": [],
   "source": [
    "# TODO: Implement the menu bar"
   ]
  },
  {
   "cell_type": "markdown",
   "metadata": {},
   "source": [
    "##  1. 共同研究者の管理操作フォーム"
   ]
  },
  {
   "cell_type": "code",
   "execution_count": null,
   "metadata": {},
   "outputs": [],
   "source": [
    "# TODO: Implement\n",
    "import os\n",
    "import sys\n",
    "sys.path.append('../../../../..') # 研究準備\n",
    "sys.path.append('../../../../../..') # 研究準備以外\n",
    "from library.common.manage_collaborators import CollaboratorManager\n",
    "CollaboratorManager.generateFormScetion(working_path=os.path.abspath('__file__'))"
   ]
  },
  {
   "cell_type": "markdown",
   "metadata": {},
   "source": [
    "## 2. 入力・選択した共同研究者の管理情報を反映する。"
   ]
  },
  {
   "cell_type": "markdown",
   "metadata": {},
   "source": [
    "### 2-1. 情報の反映"
   ]
  },
  {
   "cell_type": "code",
   "execution_count": null,
   "metadata": {},
   "outputs": [],
   "source": [
    "# TODO: Implement"
   ]
  },
  {
   "cell_type": "markdown",
   "metadata": {},
   "source": [
    "### 2-2. タスクを完了させる"
   ]
  },
  {
   "cell_type": "code",
   "execution_count": null,
   "metadata": {},
   "outputs": [],
   "source": [
    "import os\n",
    "import sys\n",
    "sys.path.append('../../../../..') # 研究準備\n",
    "sys.path.append('../../../../../..') # 研究準備以外\n",
    "from library.common.manage_collaborators import CollaboratorManager\n",
    "CollaboratorManager.completed_task(working_path=os.path.abspath('__file__'))"
   ]
  },
  {
   "cell_type": "markdown",
   "metadata": {},
   "source": [
    "## サブフローメニューへ\n",
    "\n",
    "サブフローメニューへアクセスするボタンを表示します"
   ]
  },
  {
   "cell_type": "code",
   "execution_count": null,
   "metadata": {},
   "outputs": [],
   "source": [
    "import os\n",
    "import sys\n",
    "sys.path.append('../../../../..') # 研究準備\n",
    "sys.path.append('../../../../../..') # 研究準備以外\n",
    "from library.common.manage_collaborators import CollaboratorManager\n",
    "CollaboratorManager.return_subflow_menu(working_path=os.path.abspath('__file__'))"
   ]
  }
 ],
 "metadata": {
  "kernelspec": {
   "display_name": "env",
   "language": "python",
   "name": "python3"
  },
  "language_info": {
   "name": "python",
   "version": "3.10.9"
  },
  "orig_nbformat": 4
 },
 "nbformat": 4,
 "nbformat_minor": 2
}
