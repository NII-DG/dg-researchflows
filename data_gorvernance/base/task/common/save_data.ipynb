{
 "cells": [
  {
   "cell_type": "markdown",
   "metadata": {},
   "source": [
    "# リサーチフローを保存する\n",
    "\n",
    "リサーチフローの内容をGanukun RDMのプロジェクトに保存するタスクです。 "
   ]
  },
  {
   "cell_type": "markdown",
   "metadata": {},
   "source": [
    "## Gakunin RDMに保存する\n",
    "リサーチフローのすべてをGakunin RDMに保存します。<br>"
   ]
  },
  {
   "cell_type": "code",
   "execution_count": null,
   "metadata": {
    "code_folding": [
     0
    ],
    "disable_pins": true
   },
   "outputs": [],
   "source": [
    "# Gakunin RDMに保存する\n",
    "import os\n",
    "\n",
    "from IPython.core.display import Javascript\n",
    "from IPython.display import display\n",
    "import panel as pn\n",
    "\n",
    "from library.task_director import TaskDirector\n",
    "from library.utils.save import all_sync_path\n",
    "\n",
    "\n",
    "script_file_name = 'save_data'\n",
    "notebook_name = script_file_name+'.ipynb'\n",
    "\n",
    "\n",
    "class DataSaver(TaskDirector):\n",
    "\n",
    "    def __init__(self, working_path:str) -> None:\n",
    "        \"\"\"DataSaver コンストラクタ\n",
    "\n",
    "        Args:\n",
    "            working_path (str): [実行Notebookファイルパス]\n",
    "        \"\"\"\n",
    "        super().__init__(working_path, notebook_name)\n",
    "\n",
    "    @TaskDirector.task_cell(\"1\")\n",
    "    def generateFormScetion(self):\n",
    "        # タスク開始によるサブフローステータス管理JSONの更新\n",
    "        self.doing_task()\n",
    "\n",
    "        # フォーム定義\n",
    "        source = all_sync_path(self._abs_root_path)\n",
    "        self.define_save_form(source)\n",
    "        # フォーム表示\n",
    "        pn.extension()\n",
    "        form_section = pn.WidgetBox()\n",
    "        form_section.append(self.save_form_box)\n",
    "        form_section.append(self.save_msg_output)\n",
    "        display(form_section)\n",
    "        display(Javascript('IPython.notebook.save_checkpoint();'))\n",
    "\n",
    "\n",
    "DataSaver(working_path=os.path.abspath('__file__')).generateFormScetion()"
   ]
  },
  {
   "cell_type": "markdown",
   "metadata": {},
   "source": [
    "## サブフローメニューを表示する\n",
    "\n",
    "サブフローメニューへ遷移するボタンを表示します。"
   ]
  },
  {
   "cell_type": "code",
   "execution_count": null,
   "metadata": {
    "code_folding": [
     0
    ],
    "disable_pins": true
   },
   "outputs": [],
   "source": [
    "# サブフローメニューを表示する\n",
    "import os\n",
    "from library.task_director import TaskDirector\n",
    "\n",
    "script_file_name = 'save_data'\n",
    "notebook_name = script_file_name+'.ipynb'\n",
    "TaskDirector(os.path.abspath('__file__'), notebook_name).return_subflow_menu()"
   ]
  }
 ],
 "metadata": {
  "language_info": {
   "name": "python"
  },
  "orig_nbformat": 4
 },
 "nbformat": 4,
 "nbformat_minor": 2
}
