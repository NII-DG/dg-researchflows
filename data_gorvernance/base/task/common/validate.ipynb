{
 "cells": [
  {
   "cell_type": "markdown",
   "metadata": {},
   "source": [
    "# ガバナンス状態を検証する\n",
    "データガバナンス機能で作成したデータやGakunin RDMで付与したメタデータを検証、実験の再現性を確認するタスクです。"
   ]
  },
  {
   "cell_type": "markdown",
   "metadata": {},
   "source": [
    "## 1. 検証画面（dg-web）を表示する"
   ]
  },
  {
   "cell_type": "code",
   "execution_count": null,
   "metadata": {
    "code_folding": [
     0
    ],
    "disable_pins": true
   },
   "outputs": [],
   "source": [
    "# 検証画面（dg-web）を表示する\n",
    "import sys\n",
    "\n",
    "import panel as pn\n",
    "from IPython.display import display\n",
    "from IPython.core.display import Javascript\n",
    "\n",
    "sys.path.append('../../../../../..')\n",
    "from library.utils.html.button import create_button\n",
    "from library.utils.config import message as msg_config\n",
    "\n",
    "def access_validate():\n",
    "    button_width = 500\n",
    "    url = 'https://web.dg.nii.ac.jp/'\n",
    "    obj = create_button(\n",
    "        url=url,\n",
    "        target='_blank',\n",
    "        msg=msg_config.get('task', 'open_validate'),\n",
    "        button_width=f'{button_width}px'\n",
    "    )\n",
    "    pn.extension()\n",
    "    display(pn.pane.HTML(obj, width=button_width))\n",
    "    display(Javascript('IPython.notebook.save_checkpoint();'))\n",
    "\n",
    "access_validate()"
   ]
  },
  {
   "cell_type": "markdown",
   "metadata": {},
   "source": [
    "## サブフローメニューへ\n",
    "\n",
    "サブフローメニューへアクセスするボタンを表示します"
   ]
  },
  {
   "cell_type": "code",
   "execution_count": null,
   "metadata": {
    "code_folding": [
     0
    ],
    "disable_pins": true
   },
   "outputs": [],
   "source": [
    "# サブフローメニューへアクセスするボタンを表示\n",
    "import os\n",
    "import sys\n",
    "sys.path.append('../../../../..') # 研究準備\n",
    "sys.path.append('../../../../../..') # 研究準備以外\n",
    "from library.task_director import TaskDirector\n",
    "\n",
    "script_file_name = \"validate\"\n",
    "notebook_name = script_file_name+'.ipynb'\n",
    "TaskDirector(os.path.abspath('__file__'), notebook_name).return_subflow_menu()"
   ]
  }
 ],
 "metadata": {
  "language_info": {
   "name": "python"
  },
  "orig_nbformat": 4
 },
 "nbformat": 4,
 "nbformat_minor": 2
}
