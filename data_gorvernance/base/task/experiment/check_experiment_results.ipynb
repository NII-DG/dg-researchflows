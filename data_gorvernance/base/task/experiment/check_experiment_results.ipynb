{
 "cells": [
  {
   "cell_type": "markdown",
   "metadata": {},
   "source": [
    "# 解析結果を参照する\n",
    "\n",
    "解析処理実施後に出力データが想定したものになっているかを確認するタスクです。"
   ]
  },
  {
   "cell_type": "markdown",
   "metadata": {},
   "source": [
    "## 解析結果を確認する"
   ]
  },
  {
   "cell_type": "markdown",
   "metadata": {},
   "source": [
    "### 実験フォルダを開く\n",
    "実験サブフロー作成時に指定されたフォルダを開きます。<br>\n",
    "※解析環境を構築するタスクで作成したMDXなどの別環境で解析を実施した場合は、リサーチフローから直接アクセスはできませんので、それぞれの環境で確認をお願いします。"
   ]
  },
  {
   "cell_type": "code",
   "execution_count": null,
   "metadata": {
    "code_folding": [
        0
    ],
    "disable_pins": true
   },
   "outputs": [],
   "source": [
    "# 実験フォルダを開く\n",
    "import os\n",
    "import sys\n",
    "\n",
    "import panel as pn\n",
    "from IPython.display import display\n",
    "from IPython.core.display import Javascript\n",
    "\n",
    "sys.path.append('../../../../../..')\n",
    "from library.utils.html.button import create_button\n",
    "from library.utils.config import message as msg_config\n",
    "from library.utils import file\n",
    "from library.utils.setting import get_data_dir\n",
    "\n",
    "def access_main_menu(working_file):\n",
    "    button_width = 500\n",
    "    data_dir = get_data_dir(working_file)\n",
    "    link = file.relative_path(data_dir, os.path.dirname(working_file))\n",
    "    obj = create_button(\n",
    "        url=link,\n",
    "        target='_blank',\n",
    "        msg=msg_config.get('subflow_menu', 'access_main_menu'),\n",
    "        button_width=f'{button_width}px'\n",
    "    )\n",
    "    pn.extension()\n",
    "    display(pn.pane.HTML(obj, width=button_width))\n",
    "    display(Javascript('IPython.notebook.save_checkpoint();'))\n",
    "\n",
    "access_main_menu(os.path.abspath('__file__'))"
   ]
  },
  {
   "cell_type": "markdown",
   "metadata": {},
   "source": [
    "### 解析結果を保存する\n",
    "解析結果が想定したものになっていない場合は、解析プログラムやパラメータを修正するなどして想定したものが得られるように思考を繰り返します。想定されるものが得られた場合は、Gakunin RDMに保存してください。<br>\n",
    "想定されない結果の場合でも、必要に応じて考察の参考データや証跡として残すことを検討してください。同様にGakunin RDMへ保存することをお勧めします。"
   ]
  },
  {
   "cell_type": "markdown",
   "metadata": {},
   "source": [
    "## 再現性確認の準備\n",
    "TODO"
   ]
  },
  {
   "cell_type": "markdown",
   "metadata": {},
   "source": [
    "## 2. Gakunin RDMに保存する"
   ]
  },
  {
   "cell_type": "code",
   "execution_count": null,
   "metadata": {
    "code_folding": [
        0
    ],
    "disable_pins": true
   },
   "outputs": [],
   "source": [
    "# Gakunin RDMに保存する\n",
    "import os\n",
    "import sys\n",
    "\n",
    "sys.path.append('../../../../../..')\n",
    "from library.task_director import TaskDirector\n",
    "\n",
    "script_file_name = \"prepare_data\"\n",
    "notebook_name = script_file_name+'.ipynb'\n",
    "\n",
    "class DataPreparer(TaskDirector):\n",
    "\n",
    "    def __init__(self, working_path:str) -> None:\n",
    "        \"\"\"ExperimentEnvBuilder コンストラクタ\n",
    "\n",
    "        Args:\n",
    "            working_path (str): [実行Notebookファイルパス]\n",
    "        \"\"\"\n",
    "        super().__init__(working_path, notebook_name)\n",
    "        self.data_dir = get_data_dir(self.nb_working_file_path)\n",
    "\n",
    "    TaskDirector.task_cell(\"3\")\n",
    "    def completed_task(self):\n",
    "        # フォーム定義\n",
    "        source = [self.data_dir]\n",
    "        self.define_save_form(source)\n",
    "        # フォーム表示\n",
    "        pn.extension()\n",
    "        form_section = pn.WidgetBox()\n",
    "        form_section.append(self.save_form_box)\n",
    "        form_section.append(self.save_msg_output)\n",
    "        display(form_section)\n",
    "\n",
    "DataPreparer(working_path=os.path.abspath('__file__')).completed_task()"
   ]
  },
  {
   "cell_type": "markdown",
   "metadata": {},
   "source": [
    "## サブフローメニューへ\n",
    "\n",
    "サブフローメニューへアクセスするボタンを表示します"
   ]
  },
  {
   "cell_type": "code",
   "execution_count": null,
   "metadata": {
    "code_folding": [
     0
    ],
    "disable_pins": true
   },
   "outputs": [],
   "source": [
    "# サブフローメニューへアクセスするボタンを表示\n",
    "import os\n",
    "import sys\n",
    "sys.path.append('../../../../../..')\n",
    "from library.task_director import TaskDirector\n",
    "\n",
    "script_file_name = \"check_experiment_results\"\n",
    "notebook_name = script_file_name+'.ipynb'\n",
    "TaskDirector(os.path.abspath('__file__'), notebook_name).return_subflow_menu()"
   ]
  }
 ],
 "metadata": {
  "language_info": {
   "name": "python"
  },
  "orig_nbformat": 4
 },
 "nbformat": 4,
 "nbformat_minor": 2
}
