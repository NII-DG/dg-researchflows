{
 "cells": [
  {
   "cell_type": "markdown",
   "metadata": {},
   "source": [
    "# 解析結果を参照する\n",
    "\n",
    "解析処理実施後に出力データが想定したものになっているかを確認するタスクです。"
   ]
  },
  {
   "cell_type": "markdown",
   "metadata": {},
   "source": [
    "## 解析結果を確認する"
   ]
  },
  {
   "cell_type": "markdown",
   "metadata": {},
   "source": [
    "### 実験フォルダを開く\n",
    "実験サブフロー作成時に指定されたフォルダを開きます。<br>\n",
    "※解析環境を構築するタスクで作成したmdxなどの別環境で解析を実施した場合は、リサーチフローから直接アクセスはできませんので、それぞれの環境で確認をお願いします。"
   ]
  },
  {
   "cell_type": "code",
   "execution_count": null,
   "metadata": {
    "code_folding": [
     0
    ],
    "disable_pins": true
   },
   "outputs": [],
   "source": [
    "# 実験フォルダを開く\n",
    "import os\n",
    "import sys\n",
    "\n",
    "sys.path.append('../../../../../..')\n",
    "from library.utils.access import open_data_folder\n",
    "\n",
    "open_data_folder(os.path.abspath('__file__'))"
   ]
  },
  {
   "cell_type": "markdown",
   "metadata": {},
   "source": [
    "### 解析結果を保存する\n",
    "解析結果が想定したものになっていない場合は、解析プログラムやパラメータを修正するなどして想定したものが得られるように思考を繰り返します。想定されるものが得られた場合は、Gakunin RDMに保存してください。<br>\n",
    "想定されない結果の場合でも、必要に応じて考察の参考データや証跡として残すことを検討してください。同様にGakunin RDMへ保存することをお勧めします。"
   ]
  },
  {
   "cell_type": "markdown",
   "metadata": {},
   "source": [
    "## Gakunin RDMに保存する\n",
    "タスクの状態をGakunin RDMに保存します。"
   ]
  },
  {
   "cell_type": "code",
   "execution_count": null,
   "metadata": {
    "code_folding": [
     0
    ],
    "disable_pins": true
   },
   "outputs": [],
   "source": [
    "# Gakunin RDMに保存する\n",
    "import os\n",
    "import sys\n",
    "\n",
    "import panel as pn\n",
    "from IPython.display import display\n",
    "\n",
    "sys.path.append('../../../../../..')\n",
    "from library.task_director import TaskDirector\n",
    "from library.utils.setting import get_data_dir\n",
    "\n",
    "script_file_name = \"check_experiment_results.ipynb\"\n",
    "notebook_name = script_file_name+'.ipynb'\n",
    "\n",
    "class ResultsChecker(TaskDirector):\n",
    "    \"\"\"GRDMに保存するクラスです。\n",
    "\n",
    "    Attributes:\n",
    "        instance:\n",
    "            data_dir(str):データディレクトリのパス\n",
    "    \"\"\"\n",
    "\n",
    "    def __init__(self, working_path:str) -> None:\n",
    "        \"\"\"ResultsCheckerの コンストラクタのメソッドです。\n",
    "\n",
    "        Args:\n",
    "            working_path (str): 実行Notebookファイルパス\n",
    "        \"\"\"\n",
    "        super().__init__(working_path, notebook_name)\n",
    "        self.data_dir = get_data_dir(self.nb_working_file_path)\n",
    "\n",
    "    TaskDirector.task_cell(\"2\")\n",
    "    def completed_task(self):\n",
    "        \"\"\"GRDMに保存するボタンの表示をするメソッドです。\"\"\"\n",
    "        # フォーム定義\n",
    "        source = [self.data_dir]\n",
    "        self.define_save_form(source)\n",
    "        # フォーム表示\n",
    "        pn.extension()\n",
    "        form_section = pn.WidgetBox()\n",
    "        form_section.append(self.save_form_box)\n",
    "        form_section.append(self.save_msg_output)\n",
    "        display(form_section)\n",
    "\n",
    "ResultsChecker(working_path=os.path.abspath('__file__')).completed_task()"
   ]
  },
  {
   "cell_type": "markdown",
   "metadata": {},
   "source": [
    "## サブフローメニューを表示する\n",
    "\n",
    "サブフローメニューへ遷移するボタンを表示します。"
   ]
  },
  {
   "cell_type": "code",
   "execution_count": null,
   "metadata": {
    "code_folding": [
     0
    ],
    "disable_pins": true
   },
   "outputs": [],
   "source": [
    "# サブフローメニューを表示する\n",
    "import os\n",
    "import sys\n",
    "sys.path.append('../../../../../..')\n",
    "from library.task_director import TaskDirector\n",
    "\n",
    "script_file_name = \"check_experiment_results\"\n",
    "notebook_name = script_file_name+'.ipynb'\n",
    "TaskDirector(os.path.abspath('__file__'), notebook_name).return_subflow_menu()"
   ]
  }
 ],
 "metadata": {
  "language_info": {
   "name": "python"
  },
  "orig_nbformat": 4
 },
 "nbformat": 4,
 "nbformat_minor": 2
}
