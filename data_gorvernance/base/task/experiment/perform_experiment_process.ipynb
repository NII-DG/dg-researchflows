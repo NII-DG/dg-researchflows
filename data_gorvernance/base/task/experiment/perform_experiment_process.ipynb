{
 "cells": [
  {
   "cell_type": "markdown",
   "metadata": {},
   "source": [
    "# 解析処理を実施する\n",
    "\n",
    "用意したデータと解析プログラムを使って解析処理を実施するタスクです。<br>データや解析プログラムは事前に用意しておいてください。"
   ]
  },
  {
   "cell_type": "markdown",
   "metadata": {},
   "source": [
    "## 解析手法を確認する\n",
    "\n",
    "解析処理実施に当たって準備したデータからどのような解析が可能か、またそれを実施するためにはどのような手法を用いたらよいかを検討します。"
   ]
  },
  {
   "cell_type": "markdown",
   "metadata": {},
   "source": [
    "### 代表的な解析手法\n",
    "\n",
    "代表的な解析手法を以下に示します。<br>\n",
    "各解析手法の特徴を把握し、利用環境や目的に合わせて適切な解析手法を選択してください。<br>\n",
    "\n",
    "| No | 解析手法 | 概要 |\n",
    "| ---: | :--- | :--- |\n",
    "| 1 | クロス集計 | 複数の属性を掛け合わせて集計する解析手法 |\n",
    "| 2 | ロジスティック回帰分析 | ある事象の発生確率を複数の要因と組み合わせて解析する手法 |\n",
    "| 3 | アソシエーション分析 | 特性の事象に関連して別の事象が発生するパターンを見付だす解析手法 |\n",
    "| 4 | 決定木分析 | \t仮定を繰り返しツリー構造にして結果を予測する解析手法 |\n",
    "| 5 | クラスター分析 | 異なるデータの集合体から類似するデータを集めて属性や特徴を解析する手法 |\n",
    "\n",
    "\n",
    "（参考）総務省統計局データサイエンス・オンライン講座<br>\n",
    "「社会人のためのデータサイエンス入門」<br>\n",
    "https://gacco.org/stat-japan<br>"
   ]
  },
  {
   "cell_type": "markdown",
   "metadata": {},
   "source": [
    "## 解析環境を把握する"
   ]
  },
  {
   "cell_type": "markdown",
   "metadata": {},
   "source": [
    "### 実行中の解析環境の状態を表示する\n",
    "\n",
    "実行中の解析環境の状態を確認するには以下のコマンドを実行してください。\n",
    "\n",
    "| No | 対象 | コマンド（例） |\n",
    "| ---: | :--- | :--- |\t\n",
    "| 1 | CPU情報 | lscpu |\n",
    "| 2 | メモリ情報 | free -m |\n",
    "| 3 | ディスク使用量 | df -h |\n",
    "| 4 | OSバージョン | lsb_release -a |\n",
    "| 5 | カーネルバージョン | uname -r |\n",
    "| 6 | システムアーキテクチャ | uname -m |\n",
    "| 7 | インストール済みの<br>ソフトウェア | pip list<br>conda list<br>apt list --installed |\n"
   ]
  },
  {
   "cell_type": "markdown",
   "metadata": {},
   "source": [
    "## 解析ツールを選択する"
   ]
  },
  {
   "cell_type": "markdown",
   "metadata": {},
   "source": [
    "### 研究に適した解析ツールを選択する\n",
    "\n",
    "解析の環境や手法に合わせて適切なツールを選択してください。<br>\n",
    "選択してたツールのオペレーションに必要なプログラミング言語の理解も必要になります。<br>\n",
    "<br>\n",
    "代表的なデータ解析ツール<br>\n",
    "* SPSS\n",
    "* Stata\n",
    "* SAS\n",
    "* Nvivo\n",
    "\n",
    "代表的なデータ解析に用いられる言語<br>\n",
    "* R\n",
    "* Python\n",
    "\n"
   ]
  },
  {
   "cell_type": "markdown",
   "metadata": {},
   "source": [
    "## 解析処理を実施する\n",
    "準備が整ったら解析処理を実施します。<br>\n",
    "解析処理は各分野や研究者、研究グループによって様々なので、ここでは解析処理を実施する場所（フォルダ）を表示します。<br>\n",
    "それ以降は各々適切な解析ツールや手法で解析処理を実施してください。"
   ]
  },
  {
   "cell_type": "markdown",
   "metadata": {},
   "source": [
    "### 解析処理を実施するフォルダを表示する\n",
    "実験サブフロー作成時に指定されたフォルダを開きます。<br>\n",
    "※解析環境を構築するタスクで作成したmdxなどの別環境で解析を実施した場合は、リサーチフローから直接アクセスはできませんので、それぞれの環境で解析処理を実施してください。"
   ]
  },
  {
   "cell_type": "code",
   "execution_count": null,
   "metadata": {
    "code_folding": [
     0
    ],
    "disable_pins": true
   },
   "outputs": [],
   "source": [
    "# 解析処理を実施するフォルダを表示する\n",
    "import os\n",
    "from library.utils.access import open_data_folder\n",
    "\n",
    "open_data_folder(os.path.abspath('__file__'))"
   ]
  },
  {
   "cell_type": "markdown",
   "metadata": {},
   "source": [
    "## データクリーニング（データクレンジング）\n",
    "\n",
    "解析の障害となる不要な属性や重複データを取り除き、解析しやすい状態を構築してください。<br>\n",
    "（ノイズ・誤記録除去、名寄せ、必要な属性、記録時との同一性の担保）<br>\n",
    "データクリーニング用のソフトウェアを利用することも有効です。<br>"
   ]
  },
  {
   "cell_type": "markdown",
   "metadata": {},
   "source": [
    "##  Gakunin RDMに保存する\n",
    "タスクの状態をGakunin RDMに保存します。"
   ]
  },
  {
   "cell_type": "code",
   "execution_count": null,
   "metadata": {
    "code_folding": [
     0
    ],
    "disable_pins": true
   },
   "outputs": [],
   "source": [
    "# Gakunin RDMに保存する\n",
    "import os\n",
    "\n",
    "from IPython.core.display import Javascript\n",
    "from IPython.display import display\n",
    "import panel as pn\n",
    "\n",
    "from library.task_director import TaskDirector\n",
    "from library.utils.setting import get_data_dir\n",
    "\n",
    "\n",
    "script_file_name = \"check_experiment_results.ipynb\"\n",
    "notebook_name = script_file_name+'.ipynb'\n",
    "\n",
    "\n",
    "class ResultsChecker(TaskDirector):\n",
    "    \"\"\" GRDMに保存するクラスです。\n",
    "\n",
    "    Attributes:\n",
    "        instance:\n",
    "            data_dir(str):データディレクトリのパス\n",
    "            nb_working_file_path (str): 実行Notebookパス\n",
    "            save_form_box(pn.WidgetBox):フォームを格納する。\n",
    "            save_msg_output(Message):ユーザーに提示するメッセージを格納する。\n",
    "    \"\"\"\n",
    "\n",
    "    def __init__(self, working_path:str) -> None:\n",
    "        \"\"\" ResultsChecker コンストラクタのメソッドです。\n",
    "\n",
    "        Args:\n",
    "            working_path (str): 実行Notebookファイルパス\n",
    "        \"\"\"\n",
    "        super().__init__(working_path, notebook_name)\n",
    "        self.data_dir = get_data_dir(self.nb_working_file_path)\n",
    "\n",
    "    TaskDirector.task_cell(\"3\")\n",
    "    def completed_task(self):\n",
    "        \"\"\" GRDMに保存するボタンの表示をするメソッドです。\"\"\"\n",
    "        # フォーム定義\n",
    "        source = [self.data_dir]\n",
    "        self.define_save_form(source)\n",
    "        # フォーム表示\n",
    "        pn.extension()\n",
    "        form_section = pn.WidgetBox()\n",
    "        form_section.append(self.save_form_box)\n",
    "        form_section.append(self.save_msg_output)\n",
    "        display(form_section)\n",
    "        display(Javascript('IPython.notebook.save_checkpoint();'))\n",
    "\n",
    "\n",
    "ResultsChecker(working_path=os.path.abspath('__file__')).completed_task()"
   ]
  },
  {
   "cell_type": "markdown",
   "metadata": {},
   "source": [
    "## サブフローメニューを表示する\n",
    "\n",
    "サブフローメニューへ遷移するボタンを表示します。"
   ]
  },
  {
   "cell_type": "code",
   "execution_count": null,
   "metadata": {
    "code_folding": [
     0
    ],
    "disable_pins": true
   },
   "outputs": [],
   "source": [
    "# サブフローメニューを表示する\n",
    "import os\n",
    "from library.task_director import TaskDirector\n",
    "\n",
    "script_file_name = \"perform_experiment_process\"\n",
    "notebook_name = script_file_name+'.ipynb'\n",
    "TaskDirector(os.path.abspath('__file__'), notebook_name).return_subflow_menu()"
   ]
  }
 ],
 "metadata": {
  "language_info": {
   "name": "python"
  },
  "orig_nbformat": 4
 },
 "nbformat": 4,
 "nbformat_minor": 2
}
