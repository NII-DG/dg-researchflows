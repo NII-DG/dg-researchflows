{
 "cells": [
  {
   "cell_type": "markdown",
   "metadata": {},
   "source": [
    "# 解析処理を実施する\n",
    "\n",
    "用意したデータと解析プログラムを使って解析処理を実施します。<br>データや解析プログラムは事前に用意しておいてください。"
   ]
  },
  {
   "cell_type": "markdown",
   "metadata": {},
   "source": [
    "## 分析手法の確認\n",
    "\n",
    "解析処理実施に当たって準備したデータからどのような分析が可能か、またそれを実施するためにはどのような手法を用いたらよいかを検討します。"
   ]
  },
  {
   "cell_type": "markdown",
   "metadata": {},
   "source": [
    "### 代表的な分析手法\n",
    "\n",
    "代表的な分析手法を以下に示します。<br>\n",
    "各分析手法の特徴を把握し、利用環境や目的に合わせて適切な分析手法を選択してください。<br>\n",
    "\n",
    "| No | 分析手法 | 概要 |\n",
    "| ---: | :--- | :--- |\n",
    "| 1 | クロス集計 | 複数の属性を掛け合わせて集計する分析手法 |\n",
    "| 2 | ロジスティック回帰分析 | ある事象の発生確率を複数の要因と組み合わせて分析する手法 |\n",
    "| 3 | アソシエーション分析 | 特性の事象に関連して別の事象が発生するパターンを見付だす分析手法 |\n",
    "| 4 | 決定木分析 | \t仮定を繰り返しツリー構造にして結果を予測する分析手法 |\n",
    "| 5 | クラスター分析 | 異なるデータの集合体から類似するデータを集めて属性や特徴を分析する手法 |\n",
    "\n",
    "\n",
    "（参考）総務省統計局データサイエンス・オンライン講座<br>\n",
    "「社会人のためのデータサイエンス入門」<br>\n",
    "https://gacco.org/stat-japan<br>"
   ]
  },
  {
   "cell_type": "markdown",
   "metadata": {},
   "source": [
    "## 分析環境の把握"
   ]
  },
  {
   "cell_type": "markdown",
   "metadata": {},
   "source": [
    "### 実行中の解析環境の状態を表示する\n",
    "\n",
    "実行中の解析環境の状態を確認するには以下のコマンドを実行してください。\n",
    "\n",
    "| No | 対象 | コマンド（例） |\n",
    "| ---: | :--- | :--- |\t\n",
    "| 1 | CPU情報 | lscpu |\n",
    "| 2 | メモリ情報 | free -m |\n",
    "| 3 | ディスク使用量 | df -h |\n",
    "| 4 | OSバージョン | lsb_release -a |\n",
    "| 5 | カーネルバージョン | uname -r |\n",
    "| 6 | システムアーキテクチャ | uname -m |\n",
    "| 7 | インストール済みの<br>ソフトウェア | pip list<br>conda list<br>apt list --installed |\n"
   ]
  },
  {
   "cell_type": "markdown",
   "metadata": {},
   "source": [
    "## 分析ツールの選択"
   ]
  },
  {
   "cell_type": "markdown",
   "metadata": {},
   "source": [
    "### 研究に適した分析ツールを選択する\n",
    "\n",
    "分析の環境や手法に合わせて適切なツールを選択してください。<br>\n",
    "選択してたツールのオペレーションに必要なプログラミング言語の理解も必要になります。<br>\n",
    "<br>\n",
    "代表的なデータ分析ツール<br>\n",
    "* SPSS\n",
    "* Stata\n",
    "* SAS\n",
    "* Nvivo\n",
    "\n",
    "代表的なデータ分析に用いられる言語<br>\n",
    "* R\n",
    "* Python\n",
    "\n"
   ]
  },
  {
   "cell_type": "markdown",
   "metadata": {},
   "source": [
    "## データクリーニング（データクレンジング）\n",
    "\n",
    "分析の障害となる不要な属性や重複データを取り除き、分析しやすい状態を構築してください。<br>\n",
    "（ノイズ・誤記録除去、名寄せ、必要な属性、記録時との同一性の担保）<br>\n",
    "データクリーニング用のソフトウェアを利用することも有効です。<br>"
   ]
  },
  {
   "cell_type": "markdown",
   "metadata": {},
   "source": [
    "## 再現性確認の準備\n",
    "\n",
    "GRDM内に保存されているデータやプログラムはデータガバナンスの検証機能で検証可能です。<br>\n",
    "解析環境で実施した研究については、検証の前にGRDMへの同期処理を実施してください。"
   ]
  },
  {
   "cell_type": "markdown",
   "metadata": {},
   "source": [
    "## サブフローメニューへ\n",
    "\n",
    "サブフローメニューへアクセスするボタンを表示します"
   ]
  },
  {
   "cell_type": "code",
   "execution_count": null,
   "metadata": {
    "disable_pins": true
   },
   "outputs": [],
   "source": [
    "import os\n",
    "import sys\n",
    "sys.path.append('../../../../../..')\n",
    "from library.experiment.perform_experiment_process import ExperimentProcPerformer\n",
    "ExperimentProcPerformer(working_path=os.path.abspath('__file__')).return_subflow_menu()"
   ]
  }
 ],
 "metadata": {
  "language_info": {
   "name": "python"
  },
  "orig_nbformat": 4
 },
 "nbformat": 4,
 "nbformat_minor": 2
}
