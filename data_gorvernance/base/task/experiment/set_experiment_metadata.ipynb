{
 "cells": [
  {
   "cell_type": "markdown",
   "metadata": {},
   "source": [
    "# 実験のメタデータを記述/確認する"
   ]
  },
  {
   "cell_type": "markdown",
   "metadata": {},
   "source": [
    "## 1. フォームセクション"
   ]
  },
  {
   "cell_type": "code",
   "execution_count": null,
   "metadata": {
    "disable_pins": true
   },
   "outputs": [],
   "source": [
    "import os\n",
    "import sys\n",
    "sys.path.append('../../../../../..')\n",
    "from library.experiment.set_experiment_metadata import MetadataSetter\n",
    "MetadataSetter(working_path=os.path.abspath('__file__')).generateFormScetion()"
   ]
  },
  {
   "cell_type": "markdown",
   "metadata": {
    "heading_collapsed": true
   },
   "source": [
    "## 2. メイン処理セクション"
   ]
  },
  {
   "cell_type": "markdown",
   "metadata": {},
   "source": [
    "### 2-1. 設定反映処理"
   ]
  },
  {
   "cell_type": "code",
   "execution_count": null,
   "metadata": {
    "disable_pins": true
   },
   "outputs": [],
   "source": [
    "# TODO: Implement"
   ]
  },
  {
   "cell_type": "markdown",
   "metadata": {},
   "source": [
    "### 2-2. タスク完了処理"
   ]
  },
  {
   "cell_type": "code",
   "execution_count": null,
   "metadata": {
    "disable_pins": true
   },
   "outputs": [],
   "source": [
    "import os\n",
    "import sys\n",
    "sys.path.append('../../../../../..')\n",
    "from library.experiment.set_experiment_metadata import MetadataSetter\n",
    "MetadataSetter(working_path=os.path.abspath('__file__')).completed_task()"
   ]
  },
  {
   "cell_type": "markdown",
   "metadata": {},
   "source": [
    "## サブフローメニューへ\n",
    "\n",
    "サブフローメニューへアクセスするボタンを表示します"
   ]
  },
  {
   "cell_type": "code",
   "execution_count": null,
   "metadata": {
    "disable_pins": true
   },
   "outputs": [],
   "source": [
    "import os\n",
    "import sys\n",
    "sys.path.append('../../../../../..')\n",
    "from library.task_director import TaskDirector\n",
    "\n",
    "script_file_name = \"set_experiment_metadata\"\n",
    "notebook_name = script_file_name+'.ipynb'\n",
    "TaskDirector(os.path.abspath('__file__'), notebook_name).return_subflow_menu()"
   ]
  }
 ],
 "metadata": {
  "language_info": {
   "name": "python"
  },
  "orig_nbformat": 4
 },
 "nbformat": 4,
 "nbformat_minor": 2
}
