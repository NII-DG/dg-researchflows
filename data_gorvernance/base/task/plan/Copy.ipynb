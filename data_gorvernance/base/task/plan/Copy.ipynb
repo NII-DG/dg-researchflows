{
 "cells": [
  {
   "cell_type": "markdown",
   "metadata": {},
   "source": [
    "# VCP ポータブル版を起動する環境を構築する。\n",
    "\n",
    "VCP ポータブル版を起動する環境を構築します。  <br>\n",
    "本ノートブックでは、学認クラウドチームが公開しているVCP ポータブル版[※1]を構築する手順を記載しています。\n",
    "\n",
    "本ノートブックを利用するためには、\n",
    "mdx[※2]環境上のノードが必要となりますので、mdx環境上にノードをデプロイした上で本手順を実行してください。\n",
    "\n",
    "注1: https://github.com/nii-gakunin-cloud/ocs-vcp-portable<br>\n",
    "注2: https://mdx.jp/<br>"
   ]
  },
  {
   "cell_type": "markdown",
   "metadata": {},
   "source": [
    "## ポータブル版VCPの概要\n",
    "<br>\n",
    "\n",
    "![今回構築するポータブル版VCPの構成](./images/ocs-figure_04.png)\n",
    "\n",
    "<br>\n",
    "\n"
   ]
  },
  {
   "cell_type": "markdown",
   "metadata": {},
   "source": [
    "## 0. 環境変数を設定する\n",
    "本手順内で使用する環境変数を設定します。<br>\n",
    "必要に応じ、下記の情報を修正してください。"
   ]
  },
  {
   "cell_type": "code",
   "execution_count": null,
   "metadata": {},
   "outputs": [],
   "source": [
    "# 接続先(mdxノード)のIPアドレス\n",
    "dest_ipaddress = '0.0.0.0'\n",
    "\n",
    "# 接続先(mdxノード)のssh接続先port\n",
    "dest_port = '22'\n",
    "\n",
    "# 接続先(mdxノード)で"
   ]
  },
  {
   "cell_type": "markdown",
   "metadata": {},
   "source": [
    "本手順では、"
   ]
  },
  {
   "cell_type": "markdown",
   "metadata": {
    "heading_collapsed": true
   },
   "source": [
    "## 1. OCSテンプレートの取得をする\n",
    "OCSのテンプレートのディレクトリとファイルを ResearchFlow内に展開します。"
   ]
  },
  {
   "cell_type": "code",
   "execution_count": null,
   "metadata": {},
   "outputs": [],
   "source": []
  },
  {
   "cell_type": "code",
   "execution_count": null,
   "metadata": {},
   "outputs": [],
   "source": []
  },
  {
   "cell_type": "code",
   "execution_count": null,
   "metadata": {
    "hidden": true
   },
   "outputs": [],
   "source": [
    "!git clone https://github.com/nii-gakunin-cloud/ocs-templates.git ocs-templates\n",
    "!rm -rf ocs-templates/.git"
   ]
  },
  {
   "cell_type": "markdown",
   "metadata": {},
   "source": [
    "## 2. 解析環境の構築手順を選択する\n",
    "リサーチフローで準備されている構築手順を選択いただきます。<br>\n",
    "以下のコードセルを実行し、出力されたリンクから構築を行ってください。<br>\n",
    "<br>\n",
    "構築の完了後に、本ノートブックへと戻りタスクを継続してください。<br>"
   ]
  },
  {
   "cell_type": "code",
   "execution_count": null,
   "metadata": {},
   "outputs": [],
   "source": [
    "import os\n",
    "import sys\n",
    "sys.path.append('../../../../..')\n",
    "from library.plan.build_experiment_environment import ExperimentEnvBuilder\n",
    "ExperimentEnvBuilder(working_path=os.path.abspath('__file__')).generateFormScetion()"
   ]
  },
  {
   "cell_type": "markdown",
   "metadata": {
    "heading_collapsed": true
   },
   "source": [
    "## 3. 構築手順を保存する\n",
    "構築を行った手順をGRDMへと同期可能なフォルダへと配置します。<br>\n",
    "構築を行った手順を保存する場合は、以下のコードセルを実行してください。<br>"
   ]
  },
  {
   "cell_type": "code",
   "execution_count": null,
   "metadata": {
    "disable_pins": false,
    "hidden": true
   },
   "outputs": [],
   "source": [
    "!cp -pr ocs-templates/TheLittlestJupyterHub/ ~/data/plan/build_experiment_environment/`date \"+%Y%m%d%H%M%S\"`/"
   ]
  },
  {
   "cell_type": "markdown",
   "metadata": {
    "heading_collapsed": true
   },
   "source": [
    "## 4. タスクの完了処理を行う"
   ]
  },
  {
   "cell_type": "code",
   "execution_count": null,
   "metadata": {
    "disable_pins": true,
    "hidden": true
   },
   "outputs": [],
   "source": [
    "import os\n",
    "import sys\n",
    "sys.path.append('../../../../..')\n",
    "from library.plan.build_experiment_environment import ExperimentEnvBuilder\n",
    "ExperimentEnvBuilder(working_path=os.path.abspath('__file__')).completed_task()"
   ]
  },
  {
   "cell_type": "markdown",
   "metadata": {
    "disable_pins": true
   },
   "source": [
    "## サブフローメニューへ\n",
    "\n",
    "サブフローメニューへアクセスするボタンを表示します"
   ]
  },
  {
   "cell_type": "code",
   "execution_count": null,
   "metadata": {
    "disable_pins": true
   },
   "outputs": [],
   "source": [
    "import os\n",
    "import sys\n",
    "sys.path.append('../../../../..')\n",
    "from library.plan.build_experiment_environment import ExperimentEnvBuilder\n",
    "ExperimentEnvBuilder(working_path=os.path.abspath('__file__')).return_subflow_menu()"
   ]
  }
 ],
 "metadata": {
  "kernelspec": {
   "display_name": "Python 3 (ipykernel)",
   "language": "python",
   "name": "python3"
  },
  "language_info": {
   "codemirror_mode": {
    "name": "ipython",
    "version": 3
   },
   "file_extension": ".py",
   "mimetype": "text/x-python",
   "name": "python",
   "nbconvert_exporter": "python",
   "pygments_lexer": "ipython3",
   "version": "3.9.10"
  }
 },
 "nbformat": 4,
 "nbformat_minor": 2
}
