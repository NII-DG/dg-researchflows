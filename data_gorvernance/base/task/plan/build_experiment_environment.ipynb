{
 "cells": [
  {
   "cell_type": "markdown",
   "metadata": {},
   "source": [
    "# 解析環境を構築する\n",
    "\n",
    "実験を行う解析環境を構築します。  <br>\n",
    "本ノートブックで提供している手順は下記です <br>\n",
    "\n",
    " 1. NII-RCOSが提供している解析基盤を利用した解析環境の構築手順\n",
    " 2. OCS（学認クラウドオンデマンド構築サービス） [注1] を利用した解析環境の構築手順\n",
    " 3. ポータブル版VCP( Virtual Cloud Provider ) [注2] を利用した解析環境の構築手順\n",
    "\n",
    "このうち、2. 3. の手順では、ユーザ様に用意いただいたクラウド環境へと解析環境を構築する手順となりますので、<br>\n",
    "解析環境を利用するための準備をお願いいたします。<br>\n",
    "OCS/VCPを利用するためのクラウド環境の対象は[リンク](https://nii-gakunin-cloud.github.io/ocs-docs/VCPSDK-doc/#provider)の通りです。<br>\n",
    "\n",
    "注1: https://cloud.gakunin.jp/ocs/<br>\n",
    "注2: https://github.com/nii-gakunin-cloud/ocs-vcp-portable<br>"
   ]
  },
  {
   "cell_type": "markdown",
   "metadata": {},
   "source": [
    "## 手順2. と 手順 3.についての補記\n",
    "\n",
    "手順2. では以下の構成にて、解析環境の構築を行います。<br>\n",
    "\n",
    "![手順2の構成](./images/ocs-figure_01.png)\n",
    "\n",
    "SaaSとして提供されているOCSを利用することで手順2.を実現いたします。<br>\n",
    "そのため、OCS利用に伴った利用申請などを行っていただく必要がございます。<br>\n",
    "\n",
    "<br>\n",
    "一方、ポータブル版VCPを利用する手順3.では以下の構成にて解析環境の構築を行います<br>\n",
    "\n",
    "![手順3の構成](./images/ocs-figure_04.png)\n",
    "\n",
    "この手順では、ユーザ様にポータブル版VCPを運用いただくことにより、<br>\n",
    "OCSのユーザ登録を行っていただくことのみで、OCSのテンプレートを利用した解析環境の構築が可能です。<br>\n",
    "<br>\n",
    "\n"
   ]
  },
  {
   "cell_type": "code",
   "execution_count": null,
   "metadata": {
    "disable_pins": true
   },
   "outputs": [],
   "source": [
    "import os\n",
    "import sys\n",
    "sys.path.append('../../../../..')\n",
    "from library.plan.build_experiment_environment import ExperimentEnvBuilder\n",
    "ExperimentEnvBuilder(working_path=os.path.abspath('__file__')).generateFormScetion()"
   ]
  },
  {
   "cell_type": "markdown",
   "metadata": {
    "heading_collapsed": true
   },
   "source": [
    "## 2. メイン処理セクション"
   ]
  },
  {
   "cell_type": "markdown",
   "metadata": {},
   "source": [
    "### 2-1. 設定反映処理"
   ]
  },
  {
   "cell_type": "markdown",
   "metadata": {},
   "source": [
    "### 2-2. タスク完了処理"
   ]
  },
  {
   "cell_type": "code",
   "execution_count": null,
   "metadata": {
    "disable_pins": true
   },
   "outputs": [],
   "source": [
    "import os\n",
    "import sys\n",
    "sys.path.append('../../../../..')\n",
    "from library.plan.build_experiment_environment import ExperimentEnvBuilder\n",
    "ExperimentEnvBuilder(working_path=os.path.abspath('__file__')).completed_task()"
   ]
  },
  {
   "cell_type": "markdown",
   "metadata": {
    "disable_pins": true
   },
   "source": [
    "## サブフローメニューへ\n",
    "\n",
    "サブフローメニューへアクセスするボタンを表示します"
   ]
  },
  {
   "cell_type": "code",
   "execution_count": null,
   "metadata": {
    "disable_pins": true
   },
   "outputs": [],
   "source": [
    "import os\n",
    "import sys\n",
    "sys.path.append('../../../../..')\n",
    "from library.plan.build_experiment_environment import ExperimentEnvBuilder\n",
    "ExperimentEnvBuilder(working_path=os.path.abspath('__file__')).return_subflow_menu()"
   ]
  }
 ],
 "metadata": {
  "kernelspec": {
   "display_name": "env",
   "language": "python",
   "name": "python3"
  },
  "language_info": {
   "name": "python",
   "version": "3.10.9"
  },
  "orig_nbformat": 4
 },
 "nbformat": 4,
 "nbformat_minor": 2
}
