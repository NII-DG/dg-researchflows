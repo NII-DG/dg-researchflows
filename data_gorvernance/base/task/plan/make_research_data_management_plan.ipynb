{
 "cells": [
  {
   "cell_type": "markdown",
   "metadata": {},
   "source": [
    "# 研究データ管理計画を立てる\n",
    "\n",
    "研究データ管理計画を策定します。<br>\n",
    "研究データ管理計画は、DMP(データマネジメントプラン)とデータガバナンス機能のオリジナル項目によって策定します。<br>\n",
    "研究データ管理計画を策定後、それに基づいたリサーチフローとガバナンスシートが用意されます。<br>"
   ]
  },
  {
   "cell_type": "markdown",
   "metadata": {},
   "source": [
    "## 1. 研究データ管理計画（DMP）を取得する\n",
    "研究データ管理計画（DMP）をGRDMから取り込みます。<br>\n",
    "GRDMでDMP（プロジェクトメタデータ）を登録していない場合は、GRDMに戻ってプロジェクトメタデータを作成してください。<br>\n",
    "DMPが登録されている場合は、リサーチフローでそのDMを取り込みますので、GRDMに戻ってプロジェクトメタデータをCSV出力してください。<br>\n",
    "CSVが手元にある場合はここでそのCSVの取込を実行します。"
   ]
  },
  {
   "cell_type": "code",
   "execution_count": null,
   "metadata": {},
   "outputs": [],
   "source": [
    "# TODO: Implement"
   ]
  },
  {
   "cell_type": "markdown",
   "metadata": {},
   "source": [
    "## 2. DGカスタマイズプロパティの設定\n",
    "研究データ管理計画をDMPとデータガバナンス機能のオリジナル項目によって策定します。<br>\n",
    "DMPの登録は任意ですが、データガバナンス機能のオリジナル項目はリサーチフローを提供するために登録が必須です。"
   ]
  },
  {
   "cell_type": "code",
   "execution_count": null,
   "metadata": {
    "disable_pins": true
   },
   "outputs": [],
   "source": [
    "# 研究データ管理計画を策定する。\n",
    "import os\n",
    "import sys\n",
    "sys.path.append('../../../../..')\n",
    "from library.plan.make_research_data_management_plan import DGPlaner\n",
    "\n",
    "DGPlaner(working_path=os.path.abspath('__file__')).generateFormScetion()"
   ]
  },
  {
   "cell_type": "markdown",
   "metadata": {},
   "source": [
    "## 3. GRDMに実行結果を同期\n",
    "タスクの実行結果をGRDMに同期します。"
   ]
  },
  {
   "cell_type": "code",
   "execution_count": null,
   "metadata": {
    "disable_pins": true
   },
   "outputs": [],
   "source": [
    "# TODO: Implement"
   ]
  },
  {
   "cell_type": "markdown",
   "metadata": {},
   "source": [
    "## サブフローメニューへ\n",
    "\n",
    "サブフローメニューへアクセスするボタンを表示します"
   ]
  },
  {
   "cell_type": "code",
   "execution_count": null,
   "metadata": {
    "disable_pins": true
   },
   "outputs": [],
   "source": [
    "# サブフローメニューへアクセスするボタンを表示\n",
    "import os\n",
    "import sys\n",
    "sys.path.append('../../../../..')\n",
    "from library.plan.make_research_data_management_plan import DGPlaner\n",
    "DGPlaner(working_path=os.path.abspath('__file__')).return_subflow_menu()"
   ]
  }
 ],
 "metadata": {
  "kernelspec": {
   "display_name": "env",
   "language": "python",
   "name": "python3"
  },
  "language_info": {
   "name": "python",
   "version": "3.10.9"
  },
  "orig_nbformat": 4
 },
 "nbformat": 4,
 "nbformat_minor": 2
}
