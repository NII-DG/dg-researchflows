{
 "cells": [
  {
   "cell_type": "markdown",
   "metadata": {},
   "source": [
    "# 研究データ管理計画を立てる\n",
    "\n",
    "研究データ管理計画を策定します。<br>\n",
    "研究データ管理計画は、DMP(データマネジメントプラン)とデータガバナンス機能のオリジナル項目によって策定します。<br>\n",
    "研究データ管理計画を策定後、それに基づいたリサーチフローとガバナンスシートが用意されます。<br>"
   ]
  },
  {
   "cell_type": "markdown",
   "metadata": {},
   "source": [
    "## 1. 研究データ管理計画を策定\n",
    "\n",
    "研究データ管理計画をDMPとデータガバナンス機能のオリジナル項目によって策定します。<br>\n",
    "DMPの登録は任意ですが、データガバナンス機能のオリジナル項目はリサーチフローを提供するために登録が必須です。"
   ]
  },
  {
   "cell_type": "code",
   "execution_count": null,
   "metadata": {
    "disable_pins": true
   },
   "outputs": [],
   "source": [
    "# 研究データ管理計画を策定する。\n",
    "import os\n",
    "import sys\n",
    "sys.path.append('../../../../..')\n",
    "from library.plan.make_research_data_management_plan import DGPlaner\n",
    "\n",
    "DGPlaner.generateFormScetion(working_path=os.path.abspath('__file__'))"
   ]
  },
  {
   "cell_type": "markdown",
   "metadata": {
    "heading_collapsed": true
   },
   "source": [
    "## 2. リサーチフローと初期ガバナンスシートを生成\n",
    "\n",
    "策定した研究データ管理計画に基づいて、各サブフローのリサーチフローと初期ガバナンスシートを生成します。"
   ]
  },
  {
   "cell_type": "markdown",
   "metadata": {},
   "source": [
    "### 2.1 リサーチフローをカスタマイズ"
   ]
  },
  {
   "cell_type": "code",
   "execution_count": null,
   "metadata": {},
   "outputs": [],
   "source": [
    "# 実験以降のサブフローのdiagファイルとタスクステータス管理更新JSONを更新する。\n",
    "import os\n",
    "import sys\n",
    "sys.path.append('../../../../..')\n",
    "from library.plan.make_research_data_management_plan import DGPlaner\n",
    "DGPlaner.customize_research_flow(working_path=os.path.abspath('__file__'))"
   ]
  },
  {
   "cell_type": "markdown",
   "metadata": {},
   "source": [
    "### 2.2 初期ガバナンスシートを生成"
   ]
  },
  {
   "cell_type": "code",
   "execution_count": null,
   "metadata": {},
   "outputs": [],
   "source": [
    "# 初期ガバナンスシートを生成する。\n",
    "# TODO: Implement "
   ]
  },
  {
   "cell_type": "markdown",
   "metadata": {},
   "source": [
    "### 2-3. 実行結果の保存準備"
   ]
  },
  {
   "cell_type": "code",
   "execution_count": null,
   "metadata": {},
   "outputs": [],
   "source": [
    "# サブフローステータス管理JSONを更新\n",
    "import os\n",
    "import sys\n",
    "sys.path.append('../../../../..')\n",
    "from library.plan.make_research_data_management_plan import DGPlaner\n",
    "DGPlaner.completed_task(working_path=os.path.abspath('__file__'))"
   ]
  },
  {
   "cell_type": "code",
   "execution_count": null,
   "metadata": {},
   "outputs": [],
   "source": [
    "# 同期準備"
   ]
  },
  {
   "cell_type": "markdown",
   "metadata": {},
   "source": [
    "## 3. 実行結果を同期"
   ]
  },
  {
   "cell_type": "code",
   "execution_count": null,
   "metadata": {},
   "outputs": [],
   "source": [
    "# TODO: Implement "
   ]
  },
  {
   "cell_type": "markdown",
   "metadata": {},
   "source": [
    "## サブフローメニューへ\n",
    "\n",
    "サブフローメニューへアクセスするボタンを表示します"
   ]
  },
  {
   "cell_type": "code",
   "execution_count": null,
   "metadata": {},
   "outputs": [],
   "source": [
    "# サブフローメニューへアクセスするボタンを表示\n",
    "import os\n",
    "import sys\n",
    "sys.path.append('../../../../..')\n",
    "from library.plan.make_research_data_management_plan import DGPlaner\n",
    "DGPlaner.return_subflow_menu(working_path=os.path.abspath('__file__'))"
   ]
  }
 ],
 "metadata": {
  "kernelspec": {
   "display_name": "env",
   "language": "python",
   "name": "python3"
  },
  "language_info": {
   "name": "python",
   "version": "3.10.9"
  },
  "orig_nbformat": 4
 },
 "nbformat": 4,
 "nbformat_minor": 2
}
