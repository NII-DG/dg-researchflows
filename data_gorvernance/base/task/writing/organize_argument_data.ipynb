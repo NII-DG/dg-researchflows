{
 "cells": [
  {
   "cell_type": "markdown",
   "metadata": {},
   "source": [
    "# 論拠データを整理する\n",
    "作成した論文に論拠データを関連付けるためのタスクです。<br>\n",
    "論拠データは本来公開されるために作成するものなので、実験中に作成した不要なデータは削除して整理したものにする必要があります。<br>\n",
    "整理用に実験サブフローを作成し、公開しても大丈夫な状態の実験サブフローを作成してメインメニューからこの論文執筆サブフローと実験サブフローを関連付けてください。<br>"
   ]
  },
  {
   "cell_type": "markdown",
   "metadata": {},
   "source": [
    "## 公開用の実験サブフローの作成\n",
    "公開用の実験サブフローを新しく作成します。実験サブフローの作成はメインメニューのサブフロー操作「サブフロー新規作成」から実施してください。<br>\n",
    "\n",
    "![公開用のサブフローを追加する前の状態](./images/RF004003_writting.png)\n",
    "\n",
    "![公開用サブフローを追加した状態](./images/RF004003_publish.png)\n"
   ]
  },
  {
   "cell_type": "code",
   "execution_count": null,
   "metadata": {
    "code_folding": [
     0
    ],
    "disable_pins": true
   },
   "outputs": [],
   "source": [
    "# メインメニューを表示する\n",
    "import os\n",
    "from library.utils.access import open_main_menu\n",
    "\n",
    "open_main_menu(os.path.abspath('__file__'))"
   ]
  },
  {
   "cell_type": "markdown",
   "metadata": {},
   "source": [
    "## 論文執筆に至る知見を得たデータ、プログラムの整理\n",
    "実験を行った実験サブフローより、論文執筆に至る知見を得たデータやプログラムを整理して公開対象を決定します。<br>\n",
    "実験で作成したデータやプログラムの中から、公開するものと公開しないものを分別してください。<br>\n",
    "<br>\n",
    "公開対象の分別後、前のタスクで作成した公開用の実験サブフローへ公開するものをコピーして格納します。<br>\n",
    "または、実験を行ったサブフローから公開用の実験サブフローへすべてのデータやプログラムをコピーした後に、公開しないものを削除して整理します。<br>\n",
    "**※実験を行った実験サブフローは過程を残すため極力削除を行わないようにしてください**"
   ]
  },
  {
   "cell_type": "markdown",
   "metadata": {},
   "source": [
    "## 再現性の確認\n",
    "整理の完了後、公開用の実験サブフローに格納されているデータやプログラムが正しく動作するか、想定通りの結果になることを確認します。<br>\n",
    "「ガバナンス状態を検証する」のタスクにて再現性の確認を実施してください。<br>\n",
    "<br>\n",
    "※公開用の実験サブフローにて、査読や公開時に閲覧者に再現確認ができるように別途説明文を作成することをお勧めします。"
   ]
  },
  {
   "cell_type": "code",
   "execution_count": null,
   "metadata": {
    "code_folding": [
     0
    ],
    "disable_pins": true
   },
   "outputs": [],
   "source": [
    "# 検証するタスクへアクセスするボタンを表示\n",
    "from IPython.core.display import Javascript\n",
    "from IPython.display import display\n",
    "import panel as pn\n",
    "\n",
    "from library.utils.config import message as msg_config\n",
    "from library.utils.html.button import create_button\n",
    "\n",
    "\n",
    "def access_validate():\n",
    "    \"\"\"検証するタスクへアクセスするボタンを表示するメソッドです。\"\"\"\n",
    "    button_width = 500\n",
    "    url = '../common/validate.ipynb'\n",
    "    obj = create_button(\n",
    "        url=f'{url}?init_nb=true',\n",
    "        target='_blank',\n",
    "        msg=msg_config.get('task', 'access_validate_task'),\n",
    "        button_width=f'{button_width}px'\n",
    "    )\n",
    "    pn.extension()\n",
    "    display(pn.pane.HTML(obj, width=button_width))\n",
    "    display(Javascript('IPython.notebook.save_checkpoint();'))\n",
    "\n",
    "access_validate()"
   ]
  },
  {
   "cell_type": "markdown",
   "metadata": {},
   "source": [
    "## 公開用実験サブフローと論文執筆サブフローの関連付け\n",
    "整理した新しい公開用の実験サブフローと、論文執筆サブフローの関連付けを行います。<br>\n",
    "現状では実験を実施した実験サブフローがこの論文執筆サブフローと関連付けされています。<br>\n",
    "そのため、現在関連付けている実験サブフローの関連付けを削除して、公開用の実験サブフローと論文執筆サブフローの関連付けを行います。<br>\n",
    "関連付けの変更はメインメニューのサブフロー操作「サブフロー間接続編集」から実施してください。<br>\n",
    "<br>\n",
    "※論文執筆サブフローに関連づいている実験サブフローのデータは公開の対象となります。不要な接続線は削除してください。\n",
    "\n",
    "![サブフロー間接続編集フォーム](./images/RF004003_reconnect_control.png)\n",
    "\n",
    "![サブフロー間接続編集結果サンプル](./images/RF004003_reconnect.png)\n",
    "\n"
   ]
  },
  {
   "cell_type": "code",
   "execution_count": null,
   "metadata": {
    "code_folding": [
     0
    ],
    "disable_pins": true
   },
   "outputs": [],
   "source": [
    "# メインメニューを表示する\n",
    "import os\n",
    "from library.utils.access import open_main_menu\n",
    "\n",
    "open_main_menu(os.path.abspath('__file__'))"
   ]
  },
  {
   "cell_type": "markdown",
   "metadata": {},
   "source": [
    "##  GakuNin RDMに保存する\n",
    "タスクの状態をGakuNin RDMに保存します。"
   ]
  },
  {
   "cell_type": "code",
   "execution_count": null,
   "metadata": {
    "code_folding": [
     0
    ],
    "disable_pins": true
   },
   "outputs": [],
   "source": [
    "# GakuNin RDMに保存する\n",
    "import os\n",
    "\n",
    "from IPython.core.display import Javascript\n",
    "from IPython.display import display\n",
    "import panel as pn\n",
    "\n",
    "from library.task_director import TaskDirector\n",
    "from library.utils.save import all_sync_path\n",
    "\n",
    "\n",
    "script_file_name = 'save_data'\n",
    "notebook_name = script_file_name+'.ipynb'\n",
    "\n",
    "\n",
    "class DataSaver(TaskDirector):\n",
    "    \"\"\"GRDMに保存するクラスです。\n",
    "\n",
    "    Attributes:\n",
    "        instance:\n",
    "            _abs_root_path (str): 絶対パス\n",
    "            save_form_box(pn.WidgetBox):フォームを格納する。\n",
    "            save_msg_output(Message):ユーザーに提示するメッセージを格納する。\n",
    "    \"\"\"\n",
    "\n",
    "    def __init__(self, working_path: str) -> None:\n",
    "        \"\"\"DataSaver コンストラクタメソッドです。\n",
    "\n",
    "        Args:\n",
    "            working_path (str): 実行Notebookファイルパス\n",
    "        \"\"\"\n",
    "        super().__init__(working_path, notebook_name)\n",
    "\n",
    "    @TaskDirector.task_cell(\"1\")\n",
    "    async def generate_form_section(self):\n",
    "        \"\"\"取得したデータを表示するメソッドです。\"\"\"\n",
    "        # タスク開始によるサブフローステータス管理JSONの更新\n",
    "        self.doing_task()\n",
    "\n",
    "        # フォーム定義\n",
    "        source = all_sync_path(self._abs_root_path)\n",
    "        await self.define_save_form(source)\n",
    "        # フォーム表示\n",
    "        pn.extension()\n",
    "        form_section = pn.WidgetBox()\n",
    "        form_section.append(self.save_form_box)\n",
    "        form_section.append(self.save_msg_output)\n",
    "        display(form_section)\n",
    "        display(Javascript('IPython.notebook.save_checkpoint();'))\n",
    "\n",
    "\n",
    "await DataSaver(working_path=os.path.abspath('__file__')).generate_form_section()"
   ]
  },
  {
   "cell_type": "markdown",
   "metadata": {},
   "source": [
    "## サブフローメニューを表示する\n",
    "\n",
    "サブフローメニューへ遷移するボタンを表示します。"
   ]
  },
  {
   "cell_type": "code",
   "execution_count": null,
   "metadata": {
    "code_folding": [
     0
    ],
    "disable_pins": true
   },
   "outputs": [],
   "source": [
    "# サブフローメニューを表示する\n",
    "import os\n",
    "from library.task_director import TaskDirector\n",
    "\n",
    "script_file_name = \"make_research_data_management_plan\"\n",
    "notebook_name = script_file_name+'.ipynb'\n",
    "TaskDirector(os.path.abspath('__file__'), notebook_name).return_subflow_menu()"
   ]
  }
 ],
 "metadata": {
  "language_info": {
   "name": "python"
  }
 },
 "nbformat": 4,
 "nbformat_minor": 2
}
