{
 "cells": [
  {
   "cell_type": "markdown",
   "metadata": {},
   "source": [
    "# 論拠データを整理する\n",
    "作成した論文に論拠データを関連付けるためのタスクです。<br>\n",
    "論拠データは本来公開されるために作成するものなので、実験中に作成した不要なデータは削除して整理したものにする必要があります。<br>\n",
    "整理用に実験サブフローを作成し、公開しても大丈夫な状態の実験サブフローを作成してメインメニューからこの論文執筆サブフローと実験サブフローを関連付けてください。<br>"
   ]
  },
  {
   "cell_type": "markdown",
   "metadata": {},
   "source": [
    "## 論文執筆に至る知見を得たデータ、プログラムの整理\n",
    "論文執筆に至る知見を得たデータやプログラムを整理してください。\n",
    "実験で作成したデータやプログラムの中から、必要なものとそうでないものを分別してください。"
   ]
  },
  {
   "cell_type": "markdown",
   "metadata": {},
   "source": [
    "## 公開用の実験サブフローの作成\n",
    "公開する実験サブフローを作成します。実験サブフローの作成はメインメニューから実施してください。センシティブデータの整理、不要なデータの削除などを実施して、実験サブフローを公開できる状態に整理します。\n",
    "\n",
    "![公開用のサブフローを追加する前の状態](./images/RF004003_writting.png)\n",
    "\n",
    "![公開用サブフローを追加した状態](./images/RF004003_publish.png)\n"
   ]
  },
  {
   "cell_type": "code",
   "execution_count": null,
   "metadata": {
    "code_folding": [
     0
    ],
    "disable_pins": true
   },
   "outputs": [],
   "source": [
    "# メインメニューを表示する\n",
    "import os\n",
    "import sys\n",
    "\n",
    "sys.path.append('../../../../../..')\n",
    "from library.utils.access import open_main_menu\n",
    "\n",
    "open_main_menu(os.path.abspath('__file__'))"
   ]
  },
  {
   "cell_type": "markdown",
   "metadata": {},
   "source": [
    "## 再現性の確認\n",
    "公開用の実験サブフローに格納されているデータやプログラムが正しく動作するか、想定通りの結果になるを確認します。<br>\n",
    "※査読や公開時に閲覧者に再現確認ができるように説明文を別途作成することをお勧めします。"
   ]
  },
  {
   "cell_type": "code",
   "execution_count": null,
   "metadata": {
    "code_folding": [
     0
    ],
    "disable_pins": true
   },
   "outputs": [],
   "source": [
    "# 検証するタスクへアクセスするボタンを表示\n",
    "import sys\n",
    "\n",
    "import panel as pn\n",
    "from IPython.display import display\n",
    "from IPython.core.display import Javascript\n",
    "\n",
    "sys.path.append('../../../../../..')\n",
    "from library.utils.html.button import create_button\n",
    "from library.utils.config import message as msg_config\n",
    "\n",
    "def access_validate():\n",
    "    \"\"\"検証するタスクへアクセスするボタンを表示する関数です。\n",
    "    \"\"\"\n",
    "    button_width = 500\n",
    "    url = '../common/validate.ipynb'\n",
    "    obj = create_button(\n",
    "        url=f'{url}?init_nb=true',\n",
    "        target='_blank',\n",
    "        msg=msg_config.get('task', 'access_validate_task'),\n",
    "        button_width=f'{button_width}px'\n",
    "    )\n",
    "    pn.extension()\n",
    "    display(pn.pane.HTML(obj, width=button_width))\n",
    "    display(Javascript('IPython.notebook.save_checkpoint();'))\n",
    "\n",
    "access_validate()"
   ]
  },
  {
   "cell_type": "markdown",
   "metadata": {},
   "source": [
    "## 公開用実験サブフローと論文執筆サブフローの関連付け\n",
    "メインメニューから、現状関連付けている実験サブフローの関連付けを削除して、整理した新しい実験サブフローとこの論文執筆サブフローを関連付けてください。\n",
    "また、査読では査読者が実験の再現性を確認するケースがあります。作成した新しい実験サブフローの再現性は事前に確認しておいてください。\n",
    "\n",
    "※論文執筆サブフローに関連づいている実験サブフローのデータは公開の対象となります。不要な接続線は削除してください。\n",
    "\n",
    "![サブフロー間接続編集フォーム](./images/RF004003_reconnect_control.png)\n",
    "\n",
    "![サブフロー間接続編集結果サンプル](./images/RF004003_reconnect.png)\n",
    "\n"
   ]
  },
  {
   "cell_type": "code",
   "execution_count": null,
   "metadata": {
    "code_folding": [
     0
    ],
    "disable_pins": true
   },
   "outputs": [],
   "source": [
    "# メインメニューを表示する\n",
    "import os\n",
    "import sys\n",
    "\n",
    "sys.path.append('../../../../../..')\n",
    "from library.utils.access import open_main_menu\n",
    "\n",
    "open_main_menu(os.path.abspath('__file__'))"
   ]
  },
  {
   "cell_type": "markdown",
   "metadata": {},
   "source": [
    "##  Gakunin RDMに保存する\n",
    "タスクの状態をGakunin RDMに保存します。"
   ]
  },
  {
   "cell_type": "code",
   "execution_count": null,
   "metadata": {
    "code_folding": [
     0
    ],
    "disable_pins": true
   },
   "outputs": [],
   "source": [
    "# Gakunin RDMに保存する\n",
    "import os\n",
    "import sys\n",
    "\n",
    "import panel as pn\n",
    "from IPython.display import display\n",
    "\n",
    "sys.path.append('../../../../..') # 研究準備\n",
    "sys.path.append('../../../../../..') # 研究準備以外\n",
    "from library.task_director import TaskDirector\n",
    "from library.utils.save import all_sync_path\n",
    "\n",
    "script_file_name = 'save_data'\n",
    "notebook_name = script_file_name+'.ipynb'\n",
    "\n",
    "class DataSaver(TaskDirector):\n",
    "    \"\"\"GRDMに保存するクラスです。\n",
    "            DataSaverクラスはTaskDirectorクラスを継承しています。\n",
    "            \n",
    "    Attributes:\n",
    "        working_path(str):[実行Notebookファイルパス]\n",
    "    \n",
    "    \"\"\"\n",
    "\n",
    "    def __init__(self, working_path:str) -> None:\n",
    "        \"\"\"DataSaver コンストラクタ\n",
    "\n",
    "        Args:\n",
    "            working_path (str): [実行Notebookファイルパス]\n",
    "        \"\"\"\n",
    "        super().__init__(working_path, notebook_name)\n",
    "\n",
    "    @TaskDirector.task_cell(\"1\")\n",
    "    def generateFormScetion(self):\n",
    "        \"\"\"取得したデータを表示する関数です。\n",
    "        \"\"\"\n",
    "        # タスク開始によるサブフローステータス管理JSONの更新\n",
    "        self.doing_task()\n",
    "\n",
    "        # フォーム定義\n",
    "        source = all_sync_path(self._abs_root_path)\n",
    "        self.define_save_form(source)\n",
    "        # フォーム表示\n",
    "        pn.extension()\n",
    "        form_section = pn.WidgetBox()\n",
    "        form_section.append(self.save_form_box)\n",
    "        form_section.append(self.save_msg_output)\n",
    "        display(form_section)\n",
    "\n",
    "DataSaver(working_path=os.path.abspath('__file__')).generateFormScetion()"
   ]
  },
  {
   "cell_type": "markdown",
   "metadata": {},
   "source": [
    "## サブフローメニューを表示する\n",
    "\n",
    "サブフローメニューへ遷移するボタンを表示します。"
   ]
  },
  {
   "cell_type": "code",
   "execution_count": null,
   "metadata": {
    "code_folding": [
     0
    ],
    "disable_pins": true
   },
   "outputs": [],
   "source": [
    "# サブフローメニューを表示する\n",
    "import os\n",
    "import sys\n",
    "sys.path.append('../../../../../..')\n",
    "from library.task_director import TaskDirector\n",
    "\n",
    "script_file_name = \"make_research_data_management_plan\"\n",
    "notebook_name = script_file_name+'.ipynb'\n",
    "TaskDirector(os.path.abspath('__file__'), notebook_name).return_subflow_menu()"
   ]
  }
 ],
 "metadata": {
  "language_info": {
   "name": "python"
  }
 },
 "nbformat": 4,
 "nbformat_minor": 2
}
