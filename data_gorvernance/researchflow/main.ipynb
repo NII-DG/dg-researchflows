{
 "cells": [
  {
   "cell_type": "markdown",
   "metadata": {},
   "source": [
    "# メインメニュー\n",
    "\n",
    "{機能概要}<br>\n",
    "リサーチフローは、研究プロセスで生じる研究者のタスクを半機械的に実行支援します。<br>\n",
    "研究プロセスを研究準備、実験、論文執筆、査読、キュレーション、公開準備というサブフローに大別し、それぞれのサブフローの特徴に沿ったタスクの実行支援を行います。<br>\n",
    "個々のタスクの実行支援は、Jupyter Notebook形式で実行可能な手順書として記述されています。<br>\n",
    "各タスクに書かれているコードはご自身に合わせて編集することが可能です。<br>\n",
    "ただし、編集内容によってはコードが正常に動作しなくなる可能性がありますのでご留意ください。<br>\n"
   ]
  },
  {
   "cell_type": "markdown",
   "metadata": {},
   "source": [
    "## メインメニューを表示\n",
    "\n",
    "メインメニューの利用方法については、[こちら]()をご参照ください。新規タブで開きます。"
   ]
  },
  {
   "cell_type": "code",
   "execution_count": null,
   "metadata": {
    "disable_pins": true
   },
   "outputs": [],
   "source": [
    "# Displays main menu and research flow diagram\n",
    "import os\n",
    "import sys\n",
    "sys.path.append('..')\n",
    "from library.main_menu import MainMenu\n",
    "\n",
    "mm = MainMenu.generate(working_path=os.path.abspath('__file__'))"
   ]
  }
 ],
 "metadata": {
  "kernelspec": {
   "display_name": "env",
   "language": "python",
   "name": "python3"
  },
  "language_info": {
   "codemirror_mode": {
    "name": "ipython",
    "version": 3
   },
   "file_extension": ".py",
   "mimetype": "text/x-python",
   "name": "python",
   "nbconvert_exporter": "python",
   "pygments_lexer": "ipython3",
   "version": "3.10.9"
  },
  "orig_nbformat": 4
 },
 "nbformat": 4,
 "nbformat_minor": 2
}
