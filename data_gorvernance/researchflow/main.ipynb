{
 "cells": [
  {
   "cell_type": "markdown",
   "metadata": {},
   "source": [
    "# メインメニュー\n",
    "\n",
    "リサーチフローは、研究プロセスで生じる研究者のタスクを半機械的に実行支援します。<br>\n",
    "研究プロセスを研究準備、実験、論文執筆、査読、キュレーション、公開準備というサブフローに大別し、それぞれのサブフローの特徴に沿ったタスクが用意されています。<br>\n",
    "<br>\n",
    "リサーチフローはJupyter Notebook形式で実行可能な手順書として記述されています。<br>\n",
    "※Juoyter Notebookの使い方については[こちら](https://support.rdm.nii.ac.jp/usermanual/60/#jp_operation)を参照ください。<br>\n",
    "Notebook上に記載されている説明文やコードはご自身に合わせて編集することが可能です。<br>\n",
    "ただし、編集内容によってはコードが正常に動作しなくなる可能性がありますのでご留意ください。<br>\n"
   ]
  },
  {
   "cell_type": "markdown",
   "metadata": {},
   "source": [
    "## メインメニューを表示する\n",
    "\n",
    "メインメニューの詳しい利用方法については、[こちら](https://support.rdm.nii.ac.jp/usermanual/60/#jp_operation)をご参照ください。"
   ]
  },
  {
   "cell_type": "code",
   "execution_count": 2,
   "metadata": {
    "code_folding": [
     0
    ],
    "disable_pins": true
   },
   "outputs": [
    {
     "ename": "ImportError",
     "evalue": "cannot import name 'ResearchFlowStatus' from 'dg_drawer.research_flow' (c:\\Users\\ryoga.moriyama\\AppData\\Local\\Programs\\Python\\Python312\\Lib\\site-packages\\dg_drawer\\research_flow\\__init__.py)",
     "output_type": "error",
     "traceback": [
      "\u001b[1;31m---------------------------------------------------------------------------\u001b[0m",
      "\u001b[1;31mImportError\u001b[0m                               Traceback (most recent call last)",
      "Cell \u001b[1;32mIn[2], line 5\u001b[0m\n\u001b[0;32m      3\u001b[0m \u001b[38;5;28;01mimport\u001b[39;00m \u001b[38;5;21;01msys\u001b[39;00m\n\u001b[0;32m      4\u001b[0m sys\u001b[38;5;241m.\u001b[39mpath\u001b[38;5;241m.\u001b[39mappend(\u001b[38;5;124m'\u001b[39m\u001b[38;5;124m..\u001b[39m\u001b[38;5;124m'\u001b[39m)\n\u001b[1;32m----> 5\u001b[0m \u001b[38;5;28;01mfrom\u001b[39;00m \u001b[38;5;21;01mlibrary\u001b[39;00m\u001b[38;5;21;01m.\u001b[39;00m\u001b[38;5;21;01mmain_menu\u001b[39;00m \u001b[38;5;28;01mimport\u001b[39;00m MainMenu\n\u001b[0;32m      7\u001b[0m mm \u001b[38;5;241m=\u001b[39m MainMenu\u001b[38;5;241m.\u001b[39mgenerate(working_path\u001b[38;5;241m=\u001b[39mos\u001b[38;5;241m.\u001b[39mpath\u001b[38;5;241m.\u001b[39mabspath(\u001b[38;5;124m'\u001b[39m\u001b[38;5;124m__file__\u001b[39m\u001b[38;5;124m'\u001b[39m))\n",
      "File \u001b[1;32md:\\Apl\\aws\\researchflow\\dg-researchflows\\data_gorvernance\\researchflow\\..\\library\\main_menu\\__init__.py:1\u001b[0m\n\u001b[1;32m----> 1\u001b[0m \u001b[38;5;28;01mfrom\u001b[39;00m \u001b[38;5;21;01m.\u001b[39;00m\u001b[38;5;21;01mmain\u001b[39;00m \u001b[38;5;28;01mimport\u001b[39;00m MainMenu\n",
      "File \u001b[1;32md:\\Apl\\aws\\researchflow\\dg-researchflows\\data_gorvernance\\researchflow\\..\\library\\main_menu\\main.py:8\u001b[0m\n\u001b[0;32m      5\u001b[0m \u001b[38;5;28;01mfrom\u001b[39;00m \u001b[38;5;21;01mIPython\u001b[39;00m\u001b[38;5;21;01m.\u001b[39;00m\u001b[38;5;21;01mdisplay\u001b[39;00m \u001b[38;5;28;01mimport\u001b[39;00m display\n\u001b[0;32m      6\u001b[0m \u001b[38;5;28;01mfrom\u001b[39;00m \u001b[38;5;21;01mIPython\u001b[39;00m\u001b[38;5;21;01m.\u001b[39;00m\u001b[38;5;21;01mcore\u001b[39;00m\u001b[38;5;21;01m.\u001b[39;00m\u001b[38;5;21;01mdisplay\u001b[39;00m \u001b[38;5;28;01mimport\u001b[39;00m Javascript\n\u001b[1;32m----> 8\u001b[0m \u001b[38;5;28;01mfrom\u001b[39;00m \u001b[38;5;21;01m.\u001b[39;00m\u001b[38;5;21;01m.\u001b[39;00m\u001b[38;5;21;01mutils\u001b[39;00m\u001b[38;5;21;01m.\u001b[39;00m\u001b[38;5;21;01msetting\u001b[39;00m \u001b[38;5;28;01mimport\u001b[39;00m ResearchFlowStatusOperater, SubflowStatusFile\n\u001b[0;32m      9\u001b[0m \u001b[38;5;28;01mfrom\u001b[39;00m \u001b[38;5;21;01m.\u001b[39;00m\u001b[38;5;21;01m.\u001b[39;00m\u001b[38;5;21;01mutils\u001b[39;00m\u001b[38;5;21;01m.\u001b[39;00m\u001b[38;5;21;01mconfig\u001b[39;00m \u001b[38;5;28;01mimport\u001b[39;00m path_config, message \u001b[38;5;28;01mas\u001b[39;00m msg_config\n\u001b[0;32m     10\u001b[0m \u001b[38;5;28;01mfrom\u001b[39;00m \u001b[38;5;21;01m.\u001b[39;00m\u001b[38;5;21;01m.\u001b[39;00m\u001b[38;5;21;01mutils\u001b[39;00m\u001b[38;5;21;01m.\u001b[39;00m\u001b[38;5;21;01mhtml\u001b[39;00m \u001b[38;5;28;01mimport\u001b[39;00m button \u001b[38;5;28;01mas\u001b[39;00m html_button\n",
      "File \u001b[1;32md:\\Apl\\aws\\researchflow\\dg-researchflows\\data_gorvernance\\researchflow\\..\\library\\utils\\setting\\__init__.py:2\u001b[0m\n\u001b[0;32m      1\u001b[0m \u001b[38;5;28;01mfrom\u001b[39;00m \u001b[38;5;21;01m.\u001b[39;00m\u001b[38;5;21;01mcloud_service\u001b[39;00m \u001b[38;5;28;01mimport\u001b[39;00m CloudService\n\u001b[1;32m----> 2\u001b[0m \u001b[38;5;28;01mfrom\u001b[39;00m \u001b[38;5;21;01m.\u001b[39;00m\u001b[38;5;21;01mresearch_flow_status\u001b[39;00m \u001b[38;5;28;01mimport\u001b[39;00m ResearchFlowStatusOperater, get_subflow_type_and_id, get_data_dir\n\u001b[0;32m      3\u001b[0m \u001b[38;5;28;01mfrom\u001b[39;00m \u001b[38;5;21;01m.\u001b[39;00m\u001b[38;5;21;01mfield\u001b[39;00m \u001b[38;5;28;01mimport\u001b[39;00m Field\n\u001b[0;32m      4\u001b[0m \u001b[38;5;28;01mfrom\u001b[39;00m \u001b[38;5;21;01m.\u001b[39;00m\u001b[38;5;21;01mocs_template\u001b[39;00m \u001b[38;5;28;01mimport\u001b[39;00m OCSTemplate\n",
      "File \u001b[1;32md:\\Apl\\aws\\researchflow\\dg-researchflows\\data_gorvernance\\researchflow\\..\\library\\utils\\setting\\research_flow_status.py:6\u001b[0m\n\u001b[0;32m      3\u001b[0m \u001b[38;5;28;01mfrom\u001b[39;00m \u001b[38;5;21;01mdatetime\u001b[39;00m \u001b[38;5;28;01mimport\u001b[39;00m datetime\n\u001b[0;32m      4\u001b[0m \u001b[38;5;28;01mimport\u001b[39;00m \u001b[38;5;21;01muuid\u001b[39;00m\n\u001b[1;32m----> 6\u001b[0m \u001b[38;5;28;01mfrom\u001b[39;00m \u001b[38;5;21;01mdg_drawer\u001b[39;00m\u001b[38;5;21;01m.\u001b[39;00m\u001b[38;5;21;01mresearch_flow\u001b[39;00m \u001b[38;5;28;01mimport\u001b[39;00m ResearchFlowStatus, PhaseStatus, SubFlowStatus,FlowDrawer\n\u001b[0;32m      8\u001b[0m \u001b[38;5;28;01mfrom\u001b[39;00m \u001b[38;5;21;01m.\u001b[39;00m\u001b[38;5;21;01m.\u001b[39;00m\u001b[38;5;21;01mconfig\u001b[39;00m \u001b[38;5;28;01mimport\u001b[39;00m message \u001b[38;5;28;01mas\u001b[39;00m msg_config, path_config\n\u001b[0;32m      9\u001b[0m \u001b[38;5;28;01mfrom\u001b[39;00m \u001b[38;5;21;01m.\u001b[39;00m\u001b[38;5;21;01m.\u001b[39;00m\u001b[38;5;21;01merror\u001b[39;00m \u001b[38;5;28;01mimport\u001b[39;00m NotFoundSubflowDataError\n",
      "\u001b[1;31mImportError\u001b[0m: cannot import name 'ResearchFlowStatus' from 'dg_drawer.research_flow' (c:\\Users\\ryoga.moriyama\\AppData\\Local\\Programs\\Python\\Python312\\Lib\\site-packages\\dg_drawer\\research_flow\\__init__.py)"
     ]
    }
   ],
   "source": [
    "# メインメニューを表示する\n",
    "import os\n",
    "import sys\n",
    "sys.path.append('..')\n",
    "from library.main_menu import MainMenu\n",
    "\n",
    "mm = MainMenu.generate(working_path=os.path.abspath('__file__'))"
   ]
  }
 ],
 "metadata": {
  "kernelspec": {
   "display_name": "env",
   "language": "python",
   "name": "python3"
  },
  "language_info": {
   "codemirror_mode": {
    "name": "ipython",
    "version": 3
   },
   "file_extension": ".py",
   "mimetype": "text/x-python",
   "name": "python",
   "nbconvert_exporter": "python",
   "pygments_lexer": "ipython3",
   "version": "3.12.2"
  },
  "orig_nbformat": 4
 },
 "nbformat": 4,
 "nbformat_minor": 2
}
