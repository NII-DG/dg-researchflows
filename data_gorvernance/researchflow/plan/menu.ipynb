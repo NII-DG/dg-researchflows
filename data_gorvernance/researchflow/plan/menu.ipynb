{
 "cells": [
  {
   "cell_type": "markdown",
   "metadata": {},
   "source": [
    "# 研究準備サブフローメニュー\n",
    "\n",
    "各フェーズにおけるタスクをサブフローとして表現しています。<br>\n",
    "サブフローメニューの左側（実行順のあるタスク、背景色黄色）のタスクは上から順番に実行してください。右側は任意のタイミングで実行可能なタスクです。<br><br>\n",
    "※薄いグレーのタスクは前提条件のあるタスクで、直前のタスクが実行されていないと実行することができません。濃いグレーのタスクは非推奨のタスクです。"
   ]
  },
  {
   "cell_type": "markdown",
   "metadata": {},
   "source": [
    "## サブフローメニューを表示する"
   ]
  },
  {
   "cell_type": "code",
   "execution_count": null,
   "metadata": {
    "code_folding": [
     0
    ],
    "disable_pins": true
   },
   "outputs": [],
   "source": [
    "# サブフローメニューを表示する\n",
    "import os\n",
    "import sys\n",
    "sys.path.append('../..')\n",
    "from library.subflow import SubflowMenu\n",
    "\n",
    "SubflowMenu.render(working_file=os.path.abspath('__file__'))"
   ]
  },
  {
   "cell_type": "markdown",
   "metadata": {},
   "source": [
    "## メインメニューを表示する"
   ]
  },
  {
   "cell_type": "code",
   "execution_count": null,
   "metadata": {
    "code_folding": [
     0
    ],
    "disable_pins": true
   },
   "outputs": [],
   "source": [
    "# メインメニューを表示する\n",
    "import os\n",
    "import sys\n",
    "sys.path.append('../..')\n",
    "from library import subflow\n",
    "subflow.access_main_menu(working_file=os.path.abspath('__file__'))"
   ]
  }
 ],
 "metadata": {
  "kernelspec": {
   "display_name": "env",
   "language": "python",
   "name": "python3"
  },
  "language_info": {
   "name": "python",
   "version": "3.10.9"
  },
  "orig_nbformat": 4
 },
 "nbformat": 4,
 "nbformat_minor": 2
}
