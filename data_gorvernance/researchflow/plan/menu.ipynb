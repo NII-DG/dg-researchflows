{
 "cells": [
  {
   "cell_type": "markdown",
   "metadata": {},
   "source": [
    "# 研究準備サブフローメニュー\n",
    "\n",
    "{機能概要}<br>\n",
    "上から順番に全てのセルを実行してください。\n",
    "\n",
    "Jupyter Notebookの操作方法については、[こちら]()をご参照ください。"
   ]
  },
  {
   "cell_type": "markdown",
   "metadata": {},
   "source": [
    "## メニューバー"
   ]
  },
  {
   "cell_type": "code",
   "execution_count": null,
   "metadata": {},
   "outputs": [],
   "source": [
    "# TODO: Implement the menu bar"
   ]
  },
  {
   "cell_type": "code",
   "execution_count": null,
   "metadata": {},
   "outputs": [],
   "source": [
    "import json\n",
    "from pathlib import Path\n",
    "\n",
    "# 仮想サブフローステータス管理JSOＮの更新\n",
    "path = './status.json'\n",
    "\n",
    "p = Path(path)\n",
    "\n",
    "with p.open('r') as file:\n",
    "    status_json = json.loads(file.read())\n",
    "\n",
    "status_json['is_completed'] = True\n",
    "\n",
    "with p.open('w') as file:\n",
    "    json_data = json.dumps(status_json, indent=4)\n",
    "    file.write(json_data)\n",
    "\n",
    "# 仮想メインメニューへの遷移\n",
    "import panel as pn\n",
    "from IPython.display import display, Javascript\n",
    "pn.extension()\n",
    "main_menu_link_button = pn.pane.HTML()\n",
    "\n",
    "url:str='../main.ipynb?init_nb=true'\n",
    "msg:str='メインメニューに戻る'\n",
    "target='_self'\n",
    "a_character_color='#ffffff'\n",
    "a_font_size='15px'\n",
    "button_width='300px'\n",
    "button_height='30px'\n",
    "button_border_radius='5px'\n",
    "border = []\n",
    "button_background_color='#2185d0'\n",
    "border_value = '0px none'\n",
    "\n",
    "main_menu_link_button.object = f'<a style=\"font-size:{a_font_size};\"href=\"{url}\" target=\"{target}\" ><button style=\"width: {button_width}; height: {button_height}; border-radius: {button_border_radius}; background-color: {button_background_color}; border: {border_value}; color: {a_character_color};\">{msg}</button></a>'\n",
    "display(main_menu_link_button)\n",
    "display(Javascript('IPython.notebook.save_checkpoint();'))\n"
   ]
  },
  {
   "cell_type": "markdown",
   "metadata": {},
   "source": [
    "## サブフローメニューを表示\n",
    "サブフローメニューについては[こちら]()をご参照ください。新規タブで開きます。"
   ]
  },
  {
   "cell_type": "code",
   "execution_count": null,
   "metadata": {},
   "outputs": [],
   "source": [
    "import os\n",
    "import sys\n",
    "sys.path.append('../..')\n",
    "from library.subflow import SubflowMenu\n",
    "\n",
    "SubflowMenu.render(working_path=os.path.abspath('__file__'))"
   ]
  },
  {
   "cell_type": "markdown",
   "metadata": {},
   "source": [
    "## メインメニューへ"
   ]
  },
  {
   "cell_type": "code",
   "execution_count": null,
   "metadata": {},
   "outputs": [],
   "source": [
    "# TODO"
   ]
  }
 ],
 "metadata": {
  "kernelspec": {
   "display_name": "env",
   "language": "python",
   "name": "python3"
  },
  "language_info": {
   "name": "python",
   "version": "3.10.9"
  },
  "orig_nbformat": 4
 },
 "nbformat": 4,
 "nbformat_minor": 2
}
