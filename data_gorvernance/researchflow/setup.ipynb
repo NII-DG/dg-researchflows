{
 "cells": [
  {
   "cell_type": "markdown",
   "metadata": {},
   "source": [
    "# 初期セットアップ"
   ]
  },
  {
   "cell_type": "code",
   "execution_count": null,
   "metadata": {},
   "outputs": [],
   "source": [
    "import os \n",
    "import pathlib\n",
    "# 初期セットアップが完了状態を生み出す\n",
    "notebook_path = os.path.abspath('__file__')\n",
    "index = notebook_path.rfind('data_gorvernance')\n",
    "abs_root = notebook_path[0:index-1]\n",
    "dot_data_governance_path = os.path.join(abs_root, '.data_gorvernance')\n",
    "os.mkdir(dot_data_governance_path)\n",
    "setup_flag_file_path = os.path.join(dot_data_governance_path, 'setup_completed.txt')\n",
    "setup_flag_file = pathlib.Path(setup_flag_file_path)\n",
    "setup_flag_file.touch()\n",
    "\n",
    "import panel as pn\n",
    "from IPython.display import display, Javascript\n",
    "pn.extension()\n",
    "main_menu_link_button = pn.pane.HTML()\n",
    "\n",
    "url:str='./main.ipynb?init_nb=true'\n",
    "msg:str='メインメニューに戻る'\n",
    "target='_self'\n",
    "a_character_color='#ffffff'\n",
    "a_font_size='15px'\n",
    "button_width='300px'\n",
    "button_height='30px'\n",
    "button_border_radius='5px'\n",
    "border = []\n",
    "button_background_color='#2185d0'\n",
    "border_value = '0px none'\n",
    "\n",
    "main_menu_link_button.object = f'<a style=\"font-size:{a_font_size};\"href=\"{url}\" target=\"{target}\" ><button style=\"width: {button_width}; height: {button_height}; border-radius: {button_border_radius}; background-color: {button_background_color}; border: {border_value}; color: {a_character_color};\">{msg}</button></a>'\n",
    "display(main_menu_link_button)\n",
    "display(Javascript('IPython.notebook.save_checkpoint();'))"
   ]
  }
 ],
 "metadata": {
  "kernelspec": {
   "display_name": "env",
   "language": "python",
   "name": "python3"
  },
  "language_info": {
   "name": "python",
   "version": "3.10.9"
  },
  "orig_nbformat": 4
 },
 "nbformat": 4,
 "nbformat_minor": 2
}
