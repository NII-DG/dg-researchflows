{
 "cells": [
  {
   "cell_type": "markdown",
   "metadata": {},
   "source": [
    "# 初期セットアップ"
   ]
  },
  {
   "cell_type": "code",
   "execution_count": null,
   "metadata": {},
   "outputs": [],
   "source": [
    "import os \n",
    "import pathlib\n",
    "# 初期セットアップが完了状態を生み出す\n",
    "notebook_path = os.path.abspath('__file__')\n",
    "print(notebook_path)\n",
    "abs_root = notebook_path[0:notebook_path.rfind('data-governance')-1]\n",
    "print(abs_root)\n",
    "dot_data_governance_path = os.path.join(abs_root, '.data-governance')\n",
    "print(dot_data_governance_path)\n",
    "os.mkdir(dot_data_governance_path)\n",
    "setup_flag_file_path = os.path.join(dot_data_governance_path, 'setup_completed.txt')\n",
    "os.mkdir(setup_flag_file_path)\n",
    "setup_flag_file = pathlib.Path(setup_flag_file_path)\n",
    "setup_flag_file.touch()\n"
   ]
  }
 ],
 "metadata": {
  "language_info": {
   "name": "python"
  },
  "orig_nbformat": 4
 },
 "nbformat": 4,
 "nbformat_minor": 2
}
