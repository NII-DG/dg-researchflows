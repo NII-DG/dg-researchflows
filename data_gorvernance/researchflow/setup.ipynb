{
 "cells": [
  {
   "cell_type": "markdown",
   "metadata": {},
   "source": [
    "# 初期セットアップを行う\n",
    "\n",
    "リサーチフローを利用するための初期セットアップを行います。<br>"
   ]
  },
  {
   "cell_type": "markdown",
   "metadata": {},
   "source": [
    "## メニューバー"
   ]
  },
  {
   "cell_type": "code",
   "execution_count": null,
   "metadata": {},
   "outputs": [],
   "source": [
    "# TODO: Implement"
   ]
  },
  {
   "cell_type": "markdown",
   "metadata": {},
   "source": [
    "## 1. 事前準備"
   ]
  },
  {
   "cell_type": "code",
   "execution_count": null,
   "metadata": {},
   "outputs": [],
   "source": [
    "import os\n",
    "import sys\n",
    "sys.path.append('..')\n",
    "from library.main_menu.setup import ContainerSetter\n",
    "\n",
    "ContainerSetter.setup_form(nb_working_file_path=os.path.abspath('__file__'))"
   ]
  },
  {
   "cell_type": "markdown",
   "metadata": {},
   "source": [
    "## 2. 初期セットアップ"
   ]
  },
  {
   "cell_type": "markdown",
   "metadata": {},
   "source": [
    "### 2-1. 不要なGIN-forkアクセストークンの削除"
   ]
  },
  {
   "cell_type": "code",
   "execution_count": null,
   "metadata": {},
   "outputs": [],
   "source": [
    "# TODO: Implement\n",
    "import os\n",
    "import sys\n",
    "sys.path.append('..')\n",
    "from library.main_menu.setup import ContainerSetter\n",
    "\n",
    "ContainerSetter.delete_build_token()"
   ]
  },
  {
   "cell_type": "markdown",
   "metadata": {},
   "source": [
    "### 2-2. データ同期設定"
   ]
  },
  {
   "cell_type": "code",
   "execution_count": null,
   "metadata": {},
   "outputs": [],
   "source": [
    "# TODO: Implement\n",
    "import os\n",
    "import sys\n",
    "sys.path.append('..')\n",
    "from library.main_menu.setup import ContainerSetter\n",
    "\n",
    "ContainerSetter.datalad_create(nb_working_file_path=os.path.abspath('__file__'))"
   ]
  },
  {
   "cell_type": "code",
   "execution_count": null,
   "metadata": {},
   "outputs": [],
   "source": [
    "# TODO: Implement\n",
    "import os\n",
    "import sys\n",
    "sys.path.append('..')\n",
    "from library.main_menu.setup import ContainerSetter\n",
    "\n",
    "ContainerSetter.ssh_create_key(nb_working_file_path=os.path.abspath('__file__'))"
   ]
  },
  {
   "cell_type": "code",
   "execution_count": null,
   "metadata": {},
   "outputs": [],
   "source": [
    "# TODO: Implement\n",
    "import os\n",
    "import sys\n",
    "sys.path.append('..')\n",
    "from library.main_menu.setup import ContainerSetter\n",
    "\n",
    "ContainerSetter.upload_ssh_key(nb_working_file_path=os.path.abspath('__file__'))"
   ]
  },
  {
   "cell_type": "code",
   "execution_count": null,
   "metadata": {},
   "outputs": [],
   "source": [
    "import os\n",
    "import sys\n",
    "sys.path.append('..')\n",
    "from library.main_menu.setup import ContainerSetter\n",
    "\n",
    "ContainerSetter.ssh_trust_gin(nb_working_file_path=os.path.abspath('__file__'))"
   ]
  },
  {
   "cell_type": "code",
   "execution_count": null,
   "metadata": {},
   "outputs": [],
   "source": [
    "import os\n",
    "import sys\n",
    "sys.path.append('..')\n",
    "from library.main_menu.setup import ContainerSetter\n",
    "\n",
    "ContainerSetter.prepare_sync(nb_working_file_path=os.path.abspath('__file__'))"
   ]
  },
  {
   "cell_type": "code",
   "execution_count": null,
   "metadata": {},
   "outputs": [],
   "source": [
    "import os\n",
    "import sys\n",
    "sys.path.append('..')\n",
    "from library.main_menu.setup import ContainerSetter\n",
    "\n",
    "ContainerSetter.setup_sibling()"
   ]
  },
  {
   "cell_type": "markdown",
   "metadata": {},
   "source": [
    "### 2-3. 初期セットアップ完了を記録"
   ]
  },
  {
   "cell_type": "markdown",
   "metadata": {},
   "source": []
  },
  {
   "cell_type": "code",
   "execution_count": null,
   "metadata": {},
   "outputs": [],
   "source": [
    "import os\n",
    "import sys\n",
    "sys.path.append('..')\n",
    "from library.main_menu.setup import ContainerSetter\n",
    "\n",
    "ContainerSetter.completed_setup(nb_working_file_path=os.path.abspath('__file__'))"
   ]
  },
  {
   "cell_type": "markdown",
   "metadata": {},
   "source": [
    "### 2-4. 実行結果の保存準備"
   ]
  },
  {
   "cell_type": "code",
   "execution_count": null,
   "metadata": {},
   "outputs": [],
   "source": [
    "# TODO: Implement\n",
    "import os\n",
    "import sys\n",
    "sys.path.append('..')\n",
    "from library.main_menu.setup import ContainerSetter\n",
    "\n",
    "git_path, commit_message = ContainerSetter.syncs_config(nb_working_file_path=os.path.abspath('__file__'))"
   ]
  },
  {
   "cell_type": "markdown",
   "metadata": {},
   "source": [
    "## 3. GIN-forkに実行結果を同期"
   ]
  },
  {
   "cell_type": "code",
   "execution_count": null,
   "metadata": {},
   "outputs": [],
   "source": [
    "# TODO: Implement\n",
    "import os\n",
    "import sys\n",
    "sys.path.append('..')\n",
    "from library.main_menu.setup import ContainerSetter\n",
    "\n",
    "ContainerSetter.sync(os.path.abspath('__file__'), git_path, commit_message)\n"
   ]
  },
  {
   "cell_type": "markdown",
   "metadata": {},
   "source": [
    "## メインメニューへ"
   ]
  },
  {
   "cell_type": "code",
   "execution_count": null,
   "metadata": {},
   "outputs": [],
   "source": [
    "import os\n",
    "import sys\n",
    "sys.path.append('..')\n",
    "from library.main_menu.setup import ContainerSetter\n",
    "\n",
    "ContainerSetter.return_main_menu(nb_working_file_path=os.path.abspath('__file__'))"
   ]
  }
 ],
 "metadata": {
  "kernelspec": {
   "display_name": "env",
   "language": "python",
   "name": "python3"
  },
  "language_info": {
   "name": "python",
   "version": "3.10.9"
  },
  "orig_nbformat": 4
 },
 "nbformat": 4,
 "nbformat_minor": 2
}
