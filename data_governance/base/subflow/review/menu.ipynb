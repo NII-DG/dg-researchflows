{
 "cells": [
  {
   "cell_type": "markdown",
   "metadata": {},
   "source": [
    "# ＜:subflow_name＞ 査読サブフローメニュー\n",
    "\n",
    "各フェーズにおけるタスクをサブフローとして表現します。<br>\n",
    "初めにサブフローメニューの「論文・論拠データを整理する」の手順を実行してください。その後に、「論拠データを査読者に公開する」→「論文を投稿する」→「リプライ対応を行う」→「査読者に公開した論拠データを更新する」→「査読を完了する」の手順を順番に実行してください。<br>\n",
    "サブフローの右側の6つのタスクは任意のタイミングで実行可能なタスクです。<br>\n",
    "※鍵マークの付いたタスクは前提条件のあるタスクで、直前のタスクが実行されていないと実行することができません。"
   ]
  },
  {
   "cell_type": "markdown",
   "metadata": {},
   "source": [
    "## サブフローメニューを表示する"
   ]
  },
  {
   "cell_type": "code",
   "execution_count": null,
   "metadata": {
    "code_folding": [
     0
    ],
    "disable_pins": true
   },
   "outputs": [],
   "source": [
    "# サブフローメニューを表示する\n",
    "import os\n",
    "from library.subflow import SubflowMenu\n",
    "SubflowMenu.render(working_file=os.path.abspath('__file__'))"
   ]
  },
  {
   "cell_type": "markdown",
   "metadata": {},
   "source": [
    "## メインメニューを表示する"
   ]
  },
  {
   "cell_type": "code",
   "execution_count": null,
   "metadata": {
    "code_folding": [
     0
    ],
    "disable_pins": true
   },
   "outputs": [],
   "source": [
    "# メインメニューを表示する\n",
    "import os\n",
    "from library import subflow\n",
    "subflow.access_main_menu(working_file=os.path.abspath('__file__'))"
   ]
  }
 ],
 "metadata": {
  "kernelspec": {
   "display_name": "env",
   "language": "python",
   "name": "python3"
  },
  "language_info": {
   "codemirror_mode": {
    "name": "ipython",
    "version": 3
   },
   "file_extension": ".py",
   "mimetype": "text/x-python",
   "name": "python",
   "nbconvert_exporter": "python",
   "pygments_lexer": "ipython3",
   "version": "3.10.9"
  },
  "orig_nbformat": 4
 },
 "nbformat": 4,
 "nbformat_minor": 2
}
