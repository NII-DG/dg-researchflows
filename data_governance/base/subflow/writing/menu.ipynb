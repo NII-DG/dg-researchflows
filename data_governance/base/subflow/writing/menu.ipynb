{
 "cells": [
  {
   "cell_type": "markdown",
   "metadata": {},
   "source": [
    "# ＜:subflow_name＞ 論文執筆サブフローメニュー\n",
    "\n",
    "各フェーズにおけるタスクをサブフローとして表現します。<br>\n",
    "初めにサブフローメニューの「論拠データを整理する」の手順を実行してください。その後に、「草稿を作成する」→「論文を執筆する」→「論文のメタデータを登録する」→「投稿先を選定する」の手順を順番に実行してください。<br>\n",
    "サブフローの右側の6つのタスクは任意のタイミングで実行可能なタスクです。<br>\n",
    "※鍵マークの付いたタスクは前提条件のあるタスクで、直前のタスクが実行されていないと実行することができません。"
   ]
  },
  {
   "cell_type": "markdown",
   "metadata": {},
   "source": [
    "## サブフローメニューを表示する"
   ]
  },
  {
   "cell_type": "code",
   "execution_count": null,
   "metadata": {
    "code_folding": [
     0
    ],
    "disable_pins": true
   },
   "outputs": [],
   "source": [
    "# サブフローメニューを表示する\n",
    "import os\n",
    "from library.subflow import SubflowMenu\n",
    "SubflowMenu.render(working_file=os.path.abspath('__file__'))"
   ]
  },
  {
   "cell_type": "markdown",
   "metadata": {},
   "source": [
    "## メインメニューを表示する"
   ]
  },
  {
   "cell_type": "code",
   "execution_count": null,
   "metadata": {
    "code_folding": [
     0
    ],
    "disable_pins": true
   },
   "outputs": [],
   "source": [
    "# メインメニューを表示する\n",
    "import os\n",
    "from library import subflow\n",
    "subflow.access_main_menu(working_file=os.path.abspath('__file__'))"
   ]
  }
 ],
 "metadata": {
  "language_info": {
   "name": "python"
  }
 },
 "nbformat": 4,
 "nbformat_minor": 2
}
