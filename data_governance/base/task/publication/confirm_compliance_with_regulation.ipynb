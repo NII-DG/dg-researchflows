{
 "cells": [
  {
   "cell_type": "markdown",
   "metadata": {},
   "source": [
    "# 公開先の規定に適合することを確認する\n",
    "提出する論文・データが公開先の規定に合っているかを確認するタスクです。<br>\n",
    "公開前に以下の内容をを確認してください。<br>\n",
    "<br>\n",
    "<span style=\"font-size: 25px;\">1. 規定の順守</span><br>\n",
    "論文の投稿先の規定を再度確認してください。データの公開に関する規定がある場合、その規定に合うかどうかデータを確認してください。<br>\n",
    "<br>\n",
    "<span style=\"font-size: 25px;\">2. メタデータの確認</span><br>\n",
    "公開するデータに適切なメタデータが付与されているか確認してください。<br>\n",
    "データの内容や取得方法、解析方法などを明確に記載することで、他の研究者がデータを理解しやすくなります。<br>\n",
    "<br>\n",
    "<span style=\"font-size: 25px;\">3. 個人情報の確認</span><br>\n",
    "データに個人情報が含まれる場合は、必要に応じてデータの匿名化等の適切な処置を行ってください。<br>\n",
    "<br>\n",
    "<span style=\"font-size: 25px;\">4. FAIR原則の順守</span><br>\n",
    "データを公開する際にFAIR原則に則って公開してください。<br>\n",
    "<br>\n",
    "<ul>\n",
    "    <li>Findable（発見可能）<br>\n",
    "        公開するデータに適切なメタデータを付与し、検索可能な状態にしてください。<br>\n",
    "        データの識別子（DOIなど）を明確に記載し、他の研究者が容易にデータを見つけられるようにしてください。<br>\n",
    "</li>\n",
    "<br>\n",
    "    <li>Accessible（アクセス可能）<br>\n",
    "        公開先のリポジトリに適切なアクセス権を設定してください。<br>\n",
    "        必要に応じてデータ利用に関する条件を明示し、アクセスが制限される場合はその理由を説明してください。<br>\n",
    "</li>\n",
    "<br>\n",
    "    <li>Interoperable（相互運用可能）<br>\n",
    "        公開するデータやメタデータは、標準化されたフォーマットやプロトコルを使用して記述してください。<br>\n",
    "        これにより、異なるシステムやツール間でのデータ交換や利用が容易になります。<br>\n",
    "</li>\n",
    "<br>\n",
    "    <li>Reusable（再利用可能）<br>\n",
    "        データの再利用を促進するために、データの取得方法、解析手法、利用条件などを詳細に記載してください。<br>\n",
    "        データのライセンス情報も明示し、データの再利用の条件を明確にしてください。<br>\n",
    "</li>\n",
    "<br>\n",
    "</ul>"
   ]
  },
  {
   "cell_type": "markdown",
   "metadata": {},
   "source": [
    "## サブフローメニューを表示する"
   ]
  },
  {
   "cell_type": "code",
   "execution_count": null,
   "metadata": {},
   "outputs": [],
   "source": [
    "# サブフローメニューを表示する\n",
    "import os\n",
    "from library.task_director import TaskDirector\n",
    "\n",
    "script_file_name = \"manage_collaborators\"\n",
    "notebook_name = script_file_name+'.ipynb'\n",
    "TaskDirector(os.path.abspath('__file__'), notebook_name).return_subflow_menu()"
   ]
  }
 ],
 "metadata": {
  "language_info": {
   "name": "python"
  }
 },
 "nbformat": 4,
 "nbformat_minor": 2
}
