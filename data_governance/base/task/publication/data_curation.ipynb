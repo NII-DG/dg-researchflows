{
 "cells": [
  {
   "cell_type": "markdown",
   "metadata": {},
   "source": [
    "# データキュレーションをする\n",
    "公開データのキュレーションを行うタスクです。<br>\n",
    "キュレーション機能は現在開発中です。"
   ]
  },
  {
   "cell_type": "markdown",
   "metadata": {},
   "source": [
    "## サブフローメニューを表示する"
   ]
  },
  {
   "cell_type": "code",
   "execution_count": null,
   "metadata": {
    "code_folding": [
     0
    ],
    "disable_pins": true
   },
   "outputs": [],
   "source": [
    "# サブフローメニューを表示する\n",
    "import os\n",
    "from library.task_director import TaskDirector\n",
    "\n",
    "script_file_name = \"data_curation\"\n",
    "notebook_name = script_file_name+'.ipynb'\n",
    "task_director = TaskDirector(os.path.abspath('__file__'), notebook_name)\n",
    "task_director.doing_task()\n",
    "task_director.return_subflow_menu()\n",
    "task_director.done_task()"
   ]
  }
 ],
 "metadata": {
  "language_info": {
   "name": "python"
  }
 },
 "nbformat": 4,
 "nbformat_minor": 2
}
