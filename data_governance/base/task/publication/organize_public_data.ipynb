{
 "cells": [
  {
   "cell_type": "markdown",
   "metadata": {},
   "source": [
    "# 公開データを整理する\n",
    "公開するデータを整理するタスクです。<br>\n",
    "公開したいデータを選択し、整理を行って下さい。\n"
   ]
  },
  {
   "cell_type": "markdown",
   "metadata": {},
   "source": [
    "## 公開データを整理する\n",
    "以下の手順に従って公開対象となるデータの整理を行ってください。"
   ]
  },
  {
   "cell_type": "markdown",
   "metadata": {},
   "source": [
    "### 1. リサーチフローデータをコピーする\n",
    "このサブフローの親となっている実験サブフローと査読サブフローからデータをコピーします。<br>\n",
    "査読サブフローが存在しない場合は論文執筆サブフローからデータをコピーします。"
   ]
  },
  {
   "cell_type": "code",
   "execution_count": null,
   "metadata": {
    "vscode": {
     "languageId": "plaintext"
    }
   },
   "outputs": [],
   "source": [
    "# リサーチフローデータをコピーする"
   ]
  },
  {
   "cell_type": "markdown",
   "metadata": {},
   "source": [
    "### 2. コピーしたデータを整理する\n",
    "コピーしたデータを公開するのに適したデータとなるように整理してください。<br>\n",
    "以下のセルを実行して公開データを表示し、公開に適したデータになるように整理を行ってください。"
   ]
  },
  {
   "cell_type": "code",
   "execution_count": null,
   "metadata": {
    "vscode": {
     "languageId": "plaintext"
    }
   },
   "outputs": [],
   "source": [
    "# 公開データを表示する"
   ]
  },
  {
   "cell_type": "markdown",
   "metadata": {},
   "source": [
    "## 公開データにメタデータを付与する\n",
    "公開データのメタデータ登録を行ってください。<br>\n",
    "以下のセルを実行してメタデータの登録を行った後、このタスクに戻り作業を再開してください。<br>\n",
    "GakuNin RDMにメタデータを登録する場合はGakuNin RDM上から手動で行ってください。<br>"
   ]
  },
  {
   "cell_type": "code",
   "execution_count": null,
   "metadata": {
    "vscode": {
     "languageId": "plaintext"
    }
   },
   "outputs": [],
   "source": [
    "# メタデータを登録するタスクへアクセスするボタンを表示する"
   ]
  },
  {
   "cell_type": "markdown",
   "metadata": {},
   "source": [
    "## 再現性を確認する\n",
    "メタデータの検証と再現性の確認を行ってください。<br>\n",
    "<br>\n",
    "※ 再現性を確認する機能は現在開発中です。"
   ]
  },
  {
   "cell_type": "markdown",
   "metadata": {},
   "source": [
    "### メタデータを検証する\n",
    "論拠データのメタデータの検証を行ってください<br>\n",
    "セルを実行してメタデータの検証を行った後、このタスクに戻り作業を再開してください。<br>"
   ]
  },
  {
   "cell_type": "code",
   "execution_count": null,
   "metadata": {
    "vscode": {
     "languageId": "plaintext"
    }
   },
   "outputs": [],
   "source": [
    "# 検証するタスクへアクセスするボタンを表示する"
   ]
  },
  {
   "cell_type": "markdown",
   "metadata": {},
   "source": [
    "## GakuNin RDMに保存する"
   ]
  },
  {
   "cell_type": "code",
   "execution_count": null,
   "metadata": {
    "vscode": {
     "languageId": "plaintext"
    }
   },
   "outputs": [],
   "source": [
    "# GakuNin RDMに保存する"
   ]
  },
  {
   "cell_type": "markdown",
   "metadata": {},
   "source": [
    "## サブフローメニューを表示する"
   ]
  },
  {
   "cell_type": "code",
   "execution_count": null,
   "metadata": {
    "vscode": {
     "languageId": "plaintext"
    }
   },
   "outputs": [],
   "source": [
    "# サブフローメニューを表示する"
   ]
  }
 ],
 "metadata": {
  "language_info": {
   "name": "python"
  }
 },
 "nbformat": 4,
 "nbformat_minor": 2
}
