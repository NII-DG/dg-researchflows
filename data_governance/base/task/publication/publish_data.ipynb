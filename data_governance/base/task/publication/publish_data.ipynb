{
 "cells": [
  {
   "cell_type": "markdown",
   "metadata": {},
   "source": [
    "# データを公開する\n",
    "データを公開するタスクです。<br>\n",
    "公開先に応じた指示に従って公開を行ってください。<br>\n",
    "公開対象のデータは/data/publish/（データフォルダ名）/public_dataに保存されています。"
   ]
  },
  {
   "cell_type": "markdown",
   "metadata": {},
   "source": [
    "## WEKOにデータを公開する\n",
    "WEKOにデータを公開する場合はGakuNin RDMのWEKOアドオンを使用して公開を行ってください。<br>\n",
    "｛WEKOアドオンの使用方法を実際の画面で説明している図｝"
   ]
  },
  {
   "cell_type": "code",
   "execution_count": null,
   "metadata": {
    "vscode": {
     "languageId": "plaintext"
    }
   },
   "outputs": [],
   "source": [
    "# WEKOアドオンを使用する"
   ]
  },
  {
   "cell_type": "markdown",
   "metadata": {},
   "source": [
    "## WEKO以外に公開する\n",
    "/data/publish/（データフォルダ名）/public_dataに保存されているデータをダウンロードし、任意のサービスに公開してください。<br>"
   ]
  },
  {
   "cell_type": "markdown",
   "metadata": {},
   "source": [
    "## サブフローメニューを表示する"
   ]
  },
  {
   "cell_type": "code",
   "execution_count": null,
   "metadata": {
    "vscode": {
     "languageId": "plaintext"
    }
   },
   "outputs": [],
   "source": [
    "# サブフローメニューを表示する"
   ]
  }
 ],
 "metadata": {
  "language_info": {
   "name": "python"
  }
 },
 "nbformat": 4,
 "nbformat_minor": 2
}
