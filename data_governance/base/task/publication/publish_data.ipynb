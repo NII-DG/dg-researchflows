{
 "cells": [
  {
   "cell_type": "markdown",
   "metadata": {},
   "source": [
    "# データを公開する\n",
    "データを公開するタスクです。<br>\n",
    "公開先に応じた指示に従って公開を行ってください。<br>\n",
    "公開対象のデータは/data/publish/（データフォルダ名）/public_dataに保存されています。"
   ]
  },
  {
   "cell_type": "markdown",
   "metadata": {},
   "source": [
    "## WEKOにデータを公開する\n",
    "WEKOにデータを公開する場合はGakuNin RDMのWEKOアドオンを使用して公開を行ってください。<br>\n",
    "｛WEKOアドオンの使用方法を実際の画面で説明している図｝"
   ]
  },
  {
   "cell_type": "code",
   "execution_count": null,
   "metadata": {},
   "outputs": [],
   "source": [
    "# アドオンメニューを表示する\n",
    "import os\n",
    "\n",
    "import panel as pn\n",
    "\n",
    "from library.task_director import TaskDirector\n",
    "\n",
    "from IPython.display import display\n",
    "from IPython.core.display import Javascript\n",
    "from library.utils.config import connect as con_config, message as msg_config\n",
    "from library.utils.html.button import create_button\n",
    "from library.utils.input import get_project_id\n",
    "from library.utils.storage_provider import grdm\n",
    "\n",
    "notebook_name = 'publish_data.ipynb'\n",
    "button_width = 500\n",
    "\n",
    "class DisplayAddonMenu(TaskDirector):\n",
    "\n",
    "    def __init__(self, working_path: str) -> None:\n",
    "\n",
    "        self.working_path = working_path\n",
    "        super().__init__(self.working_path, notebook_name)\n",
    "\n",
    "        self.grdm_url = con_config.get('GRDM', 'BASE_URL')\n",
    "        self.grdm = grdm.Grdm()\n",
    "\n",
    "    def generate_button(self):\n",
    "\n",
    "        project_id = get_project_id()\n",
    "\n",
    "        obj = create_button(\n",
    "            url=self.grdm.build_addon_menu_url(self.grdm_url, project_id),\n",
    "            msg=msg_config.get('publish_data', 'go_grdm'),\n",
    "            target='_blank',\n",
    "            button_width=f'{button_width}px'\n",
    "        )\n",
    "        display(pn.pane.HTML(obj, width=button_width))\n",
    "        display(Javascript('IPython.notebook.save_checkpoint();'))\n",
    "\n",
    "DisplayAddonMenu(os.path.abspath('__file__')).generate_button()"
   ]
  },
  {
   "cell_type": "markdown",
   "metadata": {},
   "source": [
    "## WEKO以外に公開する\n",
    "/data/publish/（データフォルダ名）/public_dataに保存されているデータをダウンロードし、任意のサービスに公開してください。<br>"
   ]
  },
  {
   "cell_type": "markdown",
   "metadata": {},
   "source": [
    "## サブフローメニューを表示する"
   ]
  },
  {
   "cell_type": "code",
   "execution_count": null,
   "metadata": {},
   "outputs": [],
   "source": [
    "# サブフローメニューを表示する\n",
    "import os\n",
    "from library.task_director import TaskDirector\n",
    "\n",
    "script_file_name = \"manage_collaborators\"\n",
    "notebook_name = script_file_name+'.ipynb'\n",
    "TaskDirector(os.path.abspath('__file__'), notebook_name).return_subflow_menu()"
   ]
  }
 ],
 "metadata": {
  "language_info": {
   "name": "python"
  }
 },
 "nbformat": 4,
 "nbformat_minor": 2
}
