{
 "cells": [
  {
   "cell_type": "markdown",
   "metadata": {},
   "source": [
    "# 査読を完了する\n",
    "査読完了時に実行するタスクです。<br>\n",
    "論文がアクセプトされた、もしくはリジェクトを受けて投稿先を変更する場合に実行してください。"
   ]
  },
  {
   "cell_type": "markdown",
   "metadata": {},
   "source": [
    "## 査読者の削除\n",
    "論拠データの公開のため、査読用プロジェクトを作成していた場合は、査読者のアカウントをメンバーから削除してください。<br>\n",
    "査読用プロジェクトを作成していない場合はこのタスクを終了してください。<br>\n",
    "査読用PJの削除は任意で行って下さい。"
   ]
  },
  {
   "cell_type": "code",
   "execution_count": null,
   "metadata": {
    "vscode": {
     "languageId": "plaintext"
    }
   },
   "outputs": [],
   "source": [
    "# アカウントを削除する"
   ]
  },
  {
   "cell_type": "markdown",
   "metadata": {},
   "source": [
    "## サブフローメニューを表示する"
   ]
  },
  {
   "cell_type": "code",
   "execution_count": null,
   "metadata": {
    "vscode": {
     "languageId": "plaintext"
    }
   },
   "outputs": [],
   "source": [
    "# サブフローメニューを表示する"
   ]
  }
 ],
 "metadata": {
  "language_info": {
   "name": "python"
  }
 },
 "nbformat": 4,
 "nbformat_minor": 2
}
