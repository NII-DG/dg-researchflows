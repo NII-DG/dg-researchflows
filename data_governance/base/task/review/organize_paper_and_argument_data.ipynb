{
 "cells": [
  {
   "cell_type": "markdown",
   "metadata": {},
   "source": [
    "# 論文・論拠データを整理する\n",
    "投稿する論文とその論拠データを整理するタスクです。<br>\n",
    "投稿先の規定に従って論文を修正し、論文の内容に即した形で論拠データを整理してください。"
   ]
  },
  {
   "cell_type": "markdown",
   "metadata": {},
   "source": [
    "## 論文が投稿先の規定に適合することを確認する\n",
    "投稿先の規定を確認し、以下の手順に従って作業してください。"
   ]
  },
  {
   "cell_type": "markdown",
   "metadata": {},
   "source": [
    "### 1. リサーチフローのデータをコピーする\n",
    "親サブフローになっている論文執筆サブフローから論文をこのサブフローにコピーします。<br>\n",
    "既に同じ論文執筆サブフローから査読サブフローを作成していた場合、そこに保存されている論文を使用することができます。<br>\n",
    "この作業は投稿先に合わせた修正が必要ない場合も実行してください。"
   ]
  },
  {
   "cell_type": "code",
   "execution_count": null,
   "metadata": {
    "vscode": {
     "languageId": "plaintext"
    }
   },
   "outputs": [],
   "source": [
    "# リサーチフローのデータをコピーする"
   ]
  },
  {
   "cell_type": "markdown",
   "metadata": {},
   "source": [
    "### 2．論文を修正する\n",
    "コピーした論文が投稿先の規定に適合していない場合は論文の修正を行ってください。<br>\n",
    "論文の修正後は必ずPDFとして出力してください。<br>\n",
    "論文の修正をリサーチフロー外で行う場合は、修正後に「フォルダを表示する」セルを実行して直接アップロードしてください。<br>\n",
    "<br>\n",
    "論文を執筆する際にリサーチフローに保存した草稿や論拠データを閲覧したい場合は以下のセルを実行して下さい。"
   ]
  },
  {
   "cell_type": "code",
   "execution_count": null,
   "metadata": {
    "vscode": {
     "languageId": "plaintext"
    }
   },
   "outputs": [],
   "source": [
    "# データを閲覧する"
   ]
  },
  {
   "cell_type": "markdown",
   "metadata": {},
   "source": [
    "#### リサーチフロー上での修正方法<br>\n",
    "1. 「フォルダを表示する」セルを実行することで論文が保存されたフォルダが表示されます。<br>\n",
    "2. 図の指示に従って論文ファイルを編集してください。<br>\n",
    "｛論文ファイルの編集方法を実際の画面を使って説明する図｝（アップロードの方法も記載する）<br>\n",
    "<span style=\"color:red\">※ 論文ファイルの編集後は必ず保存してからファイルを閉じてください。</span>　"
   ]
  },
  {
   "cell_type": "code",
   "execution_count": null,
   "metadata": {
    "vscode": {
     "languageId": "plaintext"
    }
   },
   "outputs": [],
   "source": [
    "# フォルダを表示する"
   ]
  },
  {
   "cell_type": "markdown",
   "metadata": {},
   "source": [
    "terminalで以下のコマンドを実行することで.tex形式のファイルをPDFで出力することができます。<br>\n",
    "｛PDF化のコマンド｝<br>\n",
    "以下のセルを実行することでterminalを使用せずにPDF化することも可能です。\n",
    "※同名のtexファイルをPDF化する場合は自動的に上書きされるので注意してください。"
   ]
  },
  {
   "cell_type": "code",
   "execution_count": null,
   "metadata": {
    "vscode": {
     "languageId": "plaintext"
    }
   },
   "outputs": [],
   "source": [
    "# PDFとして出力する"
   ]
  },
  {
   "cell_type": "markdown",
   "metadata": {},
   "source": [
    "### 3．論文のメタデータ修正\n",
    "論文に登録するPDFメタデータを入力するためのフォームを表示します。<br>\n",
    "「登録する」ボタンを押下することで論文執筆サブフローで保存した論文のPDFメタデータを入力した値で更新します。"
   ]
  },
  {
   "cell_type": "code",
   "execution_count": null,
   "metadata": {
    "vscode": {
     "languageId": "plaintext"
    }
   },
   "outputs": [],
   "source": [
    "# 論文のメタデータ修正"
   ]
  },
  {
   "cell_type": "markdown",
   "metadata": {},
   "source": [
    "## 論拠データがジャーナルの規定に適合することを確認する\n",
    "投稿先の規定を確認し、査読者に公開する論拠データを以下の手順に従って整理して下さい。<br>\n",
    "査読者に論拠データを公開しない場合はこの作業はスキップして下さい。"
   ]
  },
  {
   "cell_type": "markdown",
   "metadata": {},
   "source": [
    "### 1．リサーチフローデータをコピーする\n",
    "親サブフローになっている論文執筆サブフローから論拠データをこのサブフローにコピーします。<br>\n",
    "既に同じ論文執筆サブフローから査読サブフローを作成していた場合、そこに保存されている論拠データを使用することができます。<br>\n",
    "この作業は投稿先に合わせた修正が必要ない場合も実行してください。"
   ]
  },
  {
   "cell_type": "code",
   "execution_count": null,
   "metadata": {
    "vscode": {
     "languageId": "plaintext"
    }
   },
   "outputs": [],
   "source": [
    "# リサーチフローデータをコピーする"
   ]
  },
  {
   "cell_type": "markdown",
   "metadata": {},
   "source": [
    "### 2．論拠データを整理する\n",
    "コピーした論拠データが投稿先の規定に適合していない場合は以下のセルを実行し、「表示する」ボタンから論拠データのフォルダを開き、整理を行ってください。"
   ]
  },
  {
   "cell_type": "code",
   "execution_count": null,
   "metadata": {
    "vscode": {
     "languageId": "plaintext"
    }
   },
   "outputs": [],
   "source": [
    "# 論拠データを整理する"
   ]
  },
  {
   "cell_type": "markdown",
   "metadata": {},
   "source": [
    "## 論拠データにメタデータを付与する\n",
    "論拠データのメタデータ登録を行ってください。<br>\n",
    "セルを実行してメタデータの登録を行った後、このタスクに戻り作業を再開してください。<br>\n",
    "Gakunin RDMにメタデータを登録する場合はGakunin RDM上から手動で行ってください。"
   ]
  },
  {
   "cell_type": "code",
   "execution_count": null,
   "metadata": {
    "vscode": {
     "languageId": "plaintext"
    }
   },
   "outputs": [],
   "source": [
    "# メタデータを登録するタスクへアクセスするボタンを表示する"
   ]
  },
  {
   "cell_type": "markdown",
   "metadata": {},
   "source": [
    "## 再現性を確認する\n",
    "メタデータの検証と再現性の確認を行ってください。<br>\n",
    "<br>\n",
    "※再現性を確認する機能は現在開発中です。"
   ]
  },
  {
   "cell_type": "markdown",
   "metadata": {},
   "source": [
    "### メタデータを検証する\n",
    "論拠データのメタデータの検証を行ってください<br>\n",
    "セルを実行してメタデータの検証を行った後、このタスクに戻り作業を再開してください。"
   ]
  },
  {
   "cell_type": "code",
   "execution_count": null,
   "metadata": {
    "vscode": {
     "languageId": "plaintext"
    }
   },
   "outputs": [],
   "source": [
    "# 検証するタスクへアクセスするボタンを表示する"
   ]
  },
  {
   "cell_type": "markdown",
   "metadata": {},
   "source": [
    "## GakuNin RDMに保存する"
   ]
  },
  {
   "cell_type": "code",
   "execution_count": null,
   "metadata": {
    "vscode": {
     "languageId": "plaintext"
    }
   },
   "outputs": [],
   "source": [
    "# GakuNin RDMに保存する"
   ]
  },
  {
   "cell_type": "markdown",
   "metadata": {},
   "source": [
    "## サブフローメニューを表示する"
   ]
  },
  {
   "cell_type": "code",
   "execution_count": null,
   "metadata": {
    "vscode": {
     "languageId": "plaintext"
    }
   },
   "outputs": [],
   "source": [
    "# サブフローメニューを表示する"
   ]
  }
 ],
 "metadata": {
  "language_info": {
   "name": "python"
  }
 },
 "nbformat": 4,
 "nbformat_minor": 2
}
