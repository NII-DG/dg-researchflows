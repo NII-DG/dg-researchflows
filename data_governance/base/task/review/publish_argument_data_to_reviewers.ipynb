{
 "cells": [
  {
   "cell_type": "markdown",
   "metadata": {},
   "source": [
    "# 論拠データを査読者に公開する\n",
    "査読者が論拠データを閲覧できる環境を用意するタスクです。<br>\n",
    "Gakunin RDMに論拠データを公開する環境(査読用PJ)を作成し、査読者に公開したいデータのみを格納してください。"
   ]
  },
  {
   "cell_type": "markdown",
   "metadata": {},
   "source": [
    "## 査読対象のデータを格納する\n",
    "論拠データ公開用の別プロジェクト（査読用PJ）をこのプロジェクトのコンポーネントとして作成し、査読対象のデータを格納します。<br>\n",
    "作成した査読用PJはGakuNin RDMの「マイプロジェクト」から確認できます。<br>\n",
    "この公開方法は投稿先の規定や査読方法によっては利用できない可能性があるので注意してください。<br>\n",
    "（例：ダブルブラインド査読の場合はプロジェクト作成者がわかってしまうので利用できません。）<br>\n",
    "また、このサブフロータスクで保存した論拠データが公開対象となっているため、それ以外のデータを公開したい場合はGakunNin RDMから査読用PJに手動で追加してください。\n"
   ]
  },
  {
   "cell_type": "code",
   "execution_count": null,
   "metadata": {
    "vscode": {
     "languageId": "plaintext"
    }
   },
   "outputs": [],
   "source": [
    "# 公開環境を作成する"
   ]
  },
  {
   "cell_type": "markdown",
   "metadata": {},
   "source": [
    "### 共同研究者を追加する\n",
    "共同研究者が査読用PJを操作する場合、作成した査読用PJに共同研究者を追加する必要があります。<br>\n",
    "査読用のPJを選択し、現在のメンバーを確認してください。<br>\n",
    "共同研究者のメンバーへの追加はGakuNin RDMの「メンバー」メニューから行えます。"
   ]
  },
  {
   "cell_type": "code",
   "execution_count": null,
   "metadata": {
    "vscode": {
     "languageId": "plaintext"
    }
   },
   "outputs": [],
   "source": [
    "# 査読用PJの「メンバー」メニューを表示する"
   ]
  },
  {
   "cell_type": "markdown",
   "metadata": {},
   "source": [
    "## 査読者が再現可能な環境を作成する\n",
    "査読者に公開した論拠データが再現可能な状態であることを確認してください。<br>\n",
    "※再現性を確認する機能を現在開発中のため、再現性の確認は手動で行ってください。"
   ]
  },
  {
   "cell_type": "markdown",
   "metadata": {},
   "source": [
    "## 査読者の権限を設定する\n",
    "投稿先（査読者）用のGRDMアカウントを査読用PJのメンバーに追加してください。<br>\n",
    "メンバーへの追加はGakuNin RDMの「メンバー」メニューから行えます。<br>\n",
    "※査読者のアカウントをメンバーに追加する際は権限を読み取り専用に設定してください。"
   ]
  },
  {
   "cell_type": "code",
   "execution_count": null,
   "metadata": {
    "vscode": {
     "languageId": "plaintext"
    }
   },
   "outputs": [],
   "source": [
    "# 査読用PJの「メンバー」を表示する"
   ]
  },
  {
   "cell_type": "markdown",
   "metadata": {},
   "source": [
    "## サブフローメニューを表示する"
   ]
  },
  {
   "cell_type": "code",
   "execution_count": null,
   "metadata": {
    "vscode": {
     "languageId": "plaintext"
    }
   },
   "outputs": [],
   "source": [
    "# サブフローメニューを表示する"
   ]
  }
 ],
 "metadata": {
  "language_info": {
   "name": "python"
  }
 },
 "nbformat": 4,
 "nbformat_minor": 2
}
