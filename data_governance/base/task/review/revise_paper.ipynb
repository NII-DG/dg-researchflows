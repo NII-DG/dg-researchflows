{
 "cells": [
  {
   "cell_type": "markdown",
   "metadata": {},
   "source": [
    "# リプライ対応を行う\n",
    "リプライが返却された際の対応を行うタスクです。<br>\n",
    "投稿した論文がアクセプトされるまでこのタスクを繰り返し実行してください。<br>\n",
    "<br>\n",
    "※リプライ対応中に論文や論拠データを修正した場合はGakuNin RDMにこまめに保存してください。<br>\n",
    "　GakuNin RDMに保存したデータはバージョン管理されるため、過去のデータを参照することが可能です。"
   ]
  },
  {
   "cell_type": "markdown",
   "metadata": {},
   "source": [
    "## リプライフォルダを作成する\n",
    "「リプライフォルダを表示する」セルを実行し、表示されたフォルダ内にリプライ対応用のフォルダを作成して下さい。<br>\n",
    "このフォルダにはリプライごとに作成したRebuttal letterを保存します。<br>\n",
    "新たにリプライを受けた場合は、新しいリプライ対応用フォルダとRebuttal letterを作成してください。<br>\n",
    "｛説明の図｝"
   ]
  },
  {
   "cell_type": "code",
   "execution_count": null,
   "metadata": {},
   "outputs": [],
   "source": [
    "# リプライフォルダを表示する\n",
    "import os\n",
    "import panel as pn\n",
    "from IPython.display import display\n",
    "from IPython.core.display import Javascript\n",
    "from library.utils.access import open_data_folder\n",
    "\n",
    "folder_name = 'reply'\n",
    "button_width = 500\n",
    "\n",
    "button = open_data_folder(os.path.abspath('__file__'))\n",
    "\n",
    "pn.extension()\n",
    "display(pn.pane.HTML(button, width=button_width))\n",
    "display(Javascript('IPython.notebook.save_checkpoint();'))"
   ]
  },
  {
   "cell_type": "markdown",
   "metadata": {},
   "source": [
    "## Rebuttal letterを作成する\n",
    "Rebuttal letterの作成を行って下さい。<br>\n",
    "リサーチフロー上で文章作成ツール（LaTex）を使用してRebuttal letterを作成することが可能です。<br>\n",
    "リサーチフロー上でLaTexを使用する場合は以下の手順に沿ってRebuttal letterの作成、保存を行ってください。<br>\n",
    "<br>\n",
    "それ以外の方法で作成した場合は、作成後に「フォルダを表示する」セルを実行して直接アップロードしてください。"
   ]
  },
  {
   "cell_type": "markdown",
   "metadata": {},
   "source": [
    "### Rebuttal letterの作成手順<br>\n",
    "１．「リプライフォルダを表示する」セルを実行し、Rebuttal letterを作成するフォルダ（このリプライ用のフォルダ）を選択してください。<br>\n",
    "２．図の説明に従ってRebuttal letterファイルの作成、編集を行ってください。<br>\n",
    "｛画像上でRebuttal letterファイルを作成し、編集する手順を説明｝（アップロードの方法も記載する）<br>\n",
    "<span style=\"color:red\">※ Rebuttal letterファイルの編集後は必ず保存してからファイルを閉じてください。</span>"
   ]
  },
  {
   "cell_type": "code",
   "execution_count": null,
   "metadata": {},
   "outputs": [],
   "source": [
    "# リプライフォルダを表示する\n",
    "import os\n",
    "import panel as pn\n",
    "from IPython.display import display\n",
    "from IPython.core.display import Javascript\n",
    "from library.utils.access import open_data_folder\n",
    "\n",
    "folder_name = 'reply'\n",
    "button_width = 500\n",
    "\n",
    "button = open_data_folder(os.path.abspath('__file__'))\n",
    "\n",
    "pn.extension()\n",
    "display(pn.pane.HTML(button, width=button_width))\n",
    "display(Javascript('IPython.notebook.save_checkpoint();'))"
   ]
  },
  {
   "cell_type": "markdown",
   "metadata": {},
   "source": [
    "3. 作成したtex形式のファイルをPDFとして出力する<br>\n",
    "terminalで以下のコマンドを実行することでtex形式のファイルをPDFで出力することができます。<br>\n",
    "pdflatex ｛対象のファイルまでのパス｝<br>\n",
    "以下のセルを実行することでterminalを使用せずにPDF化することも可能です。<br>\n",
    "PDFファイルはtexファイルと同じフォルダに出力されます。"
   ]
  },
  {
   "cell_type": "code",
   "execution_count": null,
   "metadata": {},
   "outputs": [],
   "source": [
    "# texファイルをPDFとして出力する\n",
    "import os\n",
    "from library.utils.setting import get_data_dir\n",
    "\n",
    "fail_name =\"\" #　ここにＰＤＦ化したいファイルを入力する(.texまで含む)\n",
    "\n",
    "dir_name = get_data_dir(os.path.abspath('__file__'))\n",
    "full_path = os.path.join(dir_name, 'papper', fail_name)\n",
    "\n",
    "# PDF化するコマンド\n",
    "!pdelatex {full_path}"
   ]
  },
  {
   "cell_type": "markdown",
   "metadata": {},
   "source": [
    "## リプライのための実験・解析を行う\n",
    "Rebuttal letterの内容から追加で実験や解析を行う必要がある場合はメインメニューから実験サブフローを選択し、再度実験・解析を行ってください。<br>\n",
    "実験・解析結果に合わせてRebuttal letterの内容も修正してください。\n"
   ]
  },
  {
   "cell_type": "code",
   "execution_count": null,
   "metadata": {},
   "outputs": [],
   "source": [
    "# メインメニューに戻る\n",
    "import os\n",
    "from library import subflow\n",
    "subflow.access_main_menu(working_file=os.path.abspath('__file__'))"
   ]
  },
  {
   "cell_type": "markdown",
   "metadata": {},
   "source": [
    "## 論文・図表を修正する\n",
    "Rebuttal letterの内容、再実験や再解析の結果を論文および図表に反映してください。"
   ]
  },
  {
   "cell_type": "markdown",
   "metadata": {},
   "source": [
    "### 1.  図表を修正・追加する\n",
    "Rebuttal letterの内容、再実験や再解析の結果から必要な場合は図表の修正、追加を行ってください。<br>\n",
    "修正、追加作業は論文執筆サブフローの「草稿を作成する」タスクに戻って実行してください。"
   ]
  },
  {
   "cell_type": "code",
   "execution_count": null,
   "metadata": {},
   "outputs": [],
   "source": [
    "# 草稿を作成するタスクへアクセスするボタンを表示する\n",
    "from IPython.core.display import Javascript\n",
    "from IPython.display import display\n",
    "\n",
    "import panel as pn\n",
    "\n",
    "from library.utils.config import message as msg_config\n",
    "from library.utils.html.button import create_button\n",
    "\n",
    "\n",
    "def access_create_draft():\n",
    "    \"\"\"検証するタスクへアクセスするボタンを表示するメソッドです。\"\"\"\n",
    "    button_width = 500\n",
    "    url = '../writing/create_draft.ipynb'\n",
    "    obj = create_button(\n",
    "        url=f'{url}?init_nb=true',\n",
    "        target='_blank',\n",
    "        msg=msg_config.get('task', 'access_create_draft'),\n",
    "        button_width=f'{button_width}px'\n",
    "    )\n",
    "    pn.extension()\n",
    "    display(pn.pane.HTML(obj, width=button_width))\n",
    "    display(Javascript('IPython.notebook.save_checkpoint();'))\n",
    "\n",
    "access_create_draft()"
   ]
  },
  {
   "cell_type": "markdown",
   "metadata": {},
   "source": [
    "### 2. 論文を修正する\n",
    "Rebuttal letterの内容、再実験や再解析の結果から必要な場合は論文の修正を行ってください。<br>\n",
    "リサーチフロー上でLaTex（文章作成ツール）を使用して論文を修正することが可能です。<br>\n",
    "リサーチフロー上でLaTexを使用する場合後述の手順に沿って論文の修正を行ってください。<br>\n",
    "<br>\n",
    "論文を修正する際にリサーチフローに保存した草稿や論拠データを閲覧したい場合は以下のセルを実行して下さい。"
   ]
  },
  {
   "cell_type": "code",
   "execution_count": null,
   "metadata": {},
   "outputs": [],
   "source": [
    "# データを閲覧する\n",
    "import os\n",
    "\n",
    "\n",
    "import panel as pn\n",
    "\n",
    "from library.task_director import TaskDirector\n",
    "from library.utils.access import open_data_folder\n",
    "from library.utils.config import path_config, message as msg_config\n",
    "from library.utils.setting.research_flow_status import ResearchFlowStatusOperater, get_subflow_type_and_id\n",
    "\n",
    "notebook_name = 'revise_paper.ipynb'\n",
    "\n",
    "class Modify(TaskDirector):\n",
    "\n",
    "    def __init__(self, working_path: str) -> None:\n",
    "\n",
    "        self.working_path = working_path\n",
    "        super().__init__(self.working_path, notebook_name)\n",
    "\n",
    "    def generate_buttons(self):\n",
    "\n",
    "        _, subflow_id = get_subflow_type_and_id(self.working_path)\n",
    "        parent_subflow = self.get_parents_information(subflow_id)\n",
    "        old_part= os.path.join(\"review\", subflow_id)\n",
    "\n",
    "        draft_cards =[]\n",
    "        for parent_name, parent_id in parent_subflow.items():\n",
    "            new_part = os.path.join(\"writing\", parent_id)\n",
    "            new_working_path = self.working_path.replace(old_part, new_part)\n",
    "\n",
    "            title = f\"論文執筆サブフロー：{parent_name}\"\n",
    "            button = open_data_folder(new_working_path, \"draft\")\n",
    "            card = pn.Card(\n",
    "                button,  # ボタン\n",
    "                title =title,\n",
    "                width = button_width+50,\n",
    "                height=100\n",
    "            )\n",
    "            draft_cards.append(card)\n",
    "\n",
    "        draft_title = pn.pane.HTML(f\"<b>{msg_config.get('task', 'access_draft')}</b>\", width=500) # 大枠のタイトル\n",
    "        draft_column = pn.Column(draft_title, *draft_cards)\n",
    "\n",
    "        argument_data_cards =[]\n",
    "        for parent_name, parent_id in parent_subflow.items():\n",
    "            new_part = os.path.join(\"writing\", parent_id)\n",
    "            new_working_path = self.working_path.replace(old_part, new_part)\n",
    "\n",
    "            title = f\"論文執筆サブフロー：{parent_name}\"\n",
    "            button = open_data_folder(new_working_path, \"argument_data\")\n",
    "            card = pn.Card(\n",
    "                button,  # ボタン\n",
    "                title =title,\n",
    "                width = button_width+50,\n",
    "                height=100\n",
    "            )\n",
    "            argument_data_cards.append(card)\n",
    "\n",
    "        argument_data_title = pn.pane.HTML(f\"<b>{msg_config.get('task', 'access_argument_data')}</b>\", width=500) # 大枠のタイトル\n",
    "        argument_data_column = pn.Column(argument_data_title, *argument_data_cards)\n",
    "\n",
    "        pn.extension()\n",
    "        display(draft_column)\n",
    "        display(argument_data_column)\n",
    "        display(Javascript('IPython.notebook.save_checkpoint();'))\n",
    "\n",
    "    def get_parents_information(self, current_subflow:str) -> dict:\n",
    "        \"\"\"親サブフローに関する情報を取得するメソッドです。\"\"\"\n",
    "\n",
    "        abs_root = path_config.get_abs_root_form_working_dg_file_path(self.working_path)\n",
    "        research_flow_status_file_path = path_config.get_research_flow_status_file_path(abs_root)\n",
    "        reserch_flow_status_operater = ResearchFlowStatusOperater(research_flow_status_file_path)\n",
    "\n",
    "        parent_ids = reserch_flow_status_operater.get_parent_ids(4, current_subflow)\n",
    "        parent_subflow = {}\n",
    "        for parent_id in parent_ids:\n",
    "            subflow_name = reserch_flow_status_operater.get_flow_name(3, parent_id)\n",
    "            parent_subflow[subflow_name] = parent_id\n",
    "\n",
    "        return parent_subflow\n",
    "\n",
    "Modify(os.path.abspath('__file__')).generate_buttons()"
   ]
  },
  {
   "cell_type": "markdown",
   "metadata": {},
   "source": [
    "#### 論文の修正手順<br>\n",
    "1. 以下のセルを実行することで論文が保存されているフォルダが表示されます。<br>\n",
    "2. 図の説明に従って論文ファイルを修正してください。<br>\n",
    "｛画像上で論文ファイルを修正する手順を説明｝（アップロードの方法も記載する）<br>\n",
    "<span style=\"color:red\">※ 論文ファイルの編集後は必ず保存してからファイルを閉じてください。</span>"
   ]
  },
  {
   "cell_type": "code",
   "execution_count": null,
   "metadata": {},
   "outputs": [],
   "source": [
    "# 論文フォルダを表示する\n",
    "import os\n",
    "import panel as pn\n",
    "from IPython.display import display\n",
    "from IPython.core.display import Javascript\n",
    "from library.utils.access import open_data_folder\n",
    "\n",
    "folder_name = 'paper'\n",
    "button_width = 500\n",
    "\n",
    "button = open_data_folder(os.path.abspath('__file__'))\n",
    "\n",
    "pn.extension()\n",
    "display(pn.pane.HTML(button, width=button_width))\n",
    "display(Javascript('IPython.notebook.save_checkpoint();'))"
   ]
  },
  {
   "cell_type": "markdown",
   "metadata": {},
   "source": [
    "3. 作成したtex形式の論文をPDFとして出力する<br>\n",
    "terminalで以下のコマンドを実行することで.tex形式のファイルをPDFで出力することができます。<br>\n",
    "pdflatex ｛対象のtexファイルまでのパス｝<br>\n",
    "以下のセルを実行することでterminalを使用せずにPDF化することも可能です。<br>\n",
    "※同名のtexファイルをPDF化する場合は自動的に上書きされるので注意してください。"
   ]
  },
  {
   "cell_type": "code",
   "execution_count": null,
   "metadata": {},
   "outputs": [],
   "source": [
    "# texファイルをPDFとして出力する\n",
    "import os\n",
    "from library.utils.setting import get_data_dir\n",
    "\n",
    "fail_name =\"\" #　ここにＰＤＦ化したいファイルを入力する(.texまで含む)\n",
    "\n",
    "dir_name = get_data_dir(os.path.abspath('__file__'))\n",
    "full_path = os.path.join(dir_name, 'papper', fail_name)\n",
    "\n",
    "# PDF化するコマンド\n",
    "!pdelatex {full_path}"
   ]
  },
  {
   "cell_type": "markdown",
   "metadata": {},
   "source": [
    "## リプライのための論文・論拠データを整理する\n",
    "Rebuttal letterの内容から必要な場合は論文・論拠データの整理を行ってください。"
   ]
  },
  {
   "cell_type": "markdown",
   "metadata": {},
   "source": [
    "### 1.  論文にメタデータを登録する\n",
    "論文に登録するPDFメタデータを入力するためのフォームを表示します。<br>\n",
    "「登録する」ボタンを押下することでこのタスクで修正した論文のPDFメタデータを入力した値で更新します。"
   ]
  },
  {
   "cell_type": "code",
   "execution_count": null,
   "metadata": {},
   "outputs": [],
   "source": [
    "# メタデータの登録フォームを表示する\n",
    "\n",
    "import os\n",
    "\n",
    "from library.utils.pdf_metadata import PdfMetaData\n",
    "from library.utils.setting.research_flow_status import get_data_dir\n",
    "from library.task_director import TaskDirector\n",
    "\n",
    "notebook_name = 'register_paper_metadata.ipynb'\n",
    "\n",
    "class RegisterPaperMetadata(TaskDirector):\n",
    "\n",
    "    def __init__(self, working_path:str):\n",
    "\n",
    "        self.working_path = working_path\n",
    "        super().__init__(self.working_path, notebook_name)\n",
    "\n",
    "    @TaskDirector.task_cell(\"1\")\n",
    "    def register_metadata(self):\n",
    "\n",
    "        self.doing_task()\n",
    "\n",
    "        data_dir = get_data_dir(self.working_path)\n",
    "        data_dir = os.path.join(data_dir, 'paper')\n",
    "\n",
    "        pdf_metadata = PdfMetaData\n",
    "        pdf_metadata.generate_pdf_select_box(data_dir)\n",
    "\n",
    "        self.done_task()\n",
    "\n",
    "RegisterPaperMetadata(os.path.abspath('__file__')).register_metadata()"
   ]
  },
  {
   "cell_type": "markdown",
   "metadata": {},
   "source": [
    "### 2.  論拠データを整理する\n",
    "Rebuttal letterの内容、再実験や再解析の結果から必要な場合は論拠データの整理を行ってください。"
   ]
  },
  {
   "cell_type": "code",
   "execution_count": null,
   "metadata": {},
   "outputs": [],
   "source": [
    "# 論拠データフォルダを表示する\n",
    "import os\n",
    "import panel as pn\n",
    "from IPython.display import display\n",
    "from IPython.core.display import Javascript\n",
    "from library.utils.access import open_data_folder\n",
    "\n",
    "folder_name = 'argument_data'\n",
    "button_width = 500\n",
    "\n",
    "button = open_data_folder(os.path.abspath('__file__'))\n",
    "\n",
    "pn.extension()\n",
    "display(pn.pane.HTML(button, width=button_width))\n",
    "display(Javascript('IPython.notebook.save_checkpoint();'))"
   ]
  },
  {
   "cell_type": "markdown",
   "metadata": {},
   "source": [
    "## メタデータを付与する\n",
    "メタデータ登録を行ってください。<br>\n",
    "以下のセルを実行してメタデータの登録を行った後、このタスクに戻り作業を再開してください。<br>\n",
    "GakuNin RDMにメタデータを登録する場合はGakuNin RDM上から手動で行ってください。"
   ]
  },
  {
   "cell_type": "code",
   "execution_count": null,
   "metadata": {},
   "outputs": [],
   "source": [
    "# メタデータを登録するタスクへアクセスするボタンを表示する\n",
    "from IPython.core.display import Javascript\n",
    "from IPython.display import display\n",
    "\n",
    "import panel as pn\n",
    "\n",
    "from library.utils.config import message as msg_config\n",
    "from library.utils.html.button import create_button\n",
    "\n",
    "\n",
    "def access_register_metadata():\n",
    "    \"\"\"検証するタスクへアクセスするボタンを表示するメソッドです。\"\"\"\n",
    "    button_width = 500\n",
    "    url = '../common/metadata.ipynb'\n",
    "    obj = create_button(\n",
    "        url=f'{url}?init_nb=true',\n",
    "        target='_blank',\n",
    "        msg=msg_config.get('task', 'access_register_metadata_task'),\n",
    "        button_width=f'{button_width}px'\n",
    "    )\n",
    "    pn.extension()\n",
    "    display(pn.pane.HTML(obj, width=button_width))\n",
    "    display(Javascript('IPython.notebook.save_checkpoint();'))\n",
    "\n",
    "access_register_metadata()"
   ]
  },
  {
   "cell_type": "markdown",
   "metadata": {},
   "source": [
    "## GakuNin RDMに保存する"
   ]
  },
  {
   "cell_type": "code",
   "execution_count": null,
   "metadata": {},
   "outputs": [],
   "source": [
    "# GakuNin RDMに保存する\n",
    "from IPython.core.display import Javascript\n",
    "from IPython.display import display\n",
    "\n",
    "import panel as pn\n",
    "\n",
    "from library.task_director import TaskDirector\n",
    "from library.utils.setting import get_data_dir\n",
    "\n",
    "script_file_name = 'save_data'\n",
    "notebook_name = script_file_name+'.ipynb'\n",
    "\n",
    "\n",
    "class DataSaver(TaskDirector):\n",
    "    \"\"\"GRDMに保存するクラスです。\n",
    "\n",
    "    Attributes:\n",
    "        instance:\n",
    "            _abs_root_path (str): 絶対パス\n",
    "            save_form_box(pn.WidgetBox):フォームを格納する。\n",
    "            save_msg_output(Message):ユーザーに提示するメッセージを格納する。\n",
    "    \"\"\"\n",
    "\n",
    "    def __init__(self, working_path: str) -> None:\n",
    "        \"\"\"DataSaver コンストラクタメソッドです。\n",
    "\n",
    "        Args:\n",
    "            working_path (str): 実行Notebookファイルパス\n",
    "        \"\"\"\n",
    "        self.working_path = working_path\n",
    "        super().__init__(self.working_path, notebook_name)\n",
    "\n",
    "    @TaskDirector.task_cell(\"1\")\n",
    "    def generate_form_section(self):\n",
    "        \"\"\"取得したデータを表示するメソッドです。\"\"\"\n",
    "        # タスク開始によるサブフローステータス管理JSONの更新\n",
    "        self.doing_task()\n",
    "\n",
    "        # フォーム定義\n",
    "        data_dir = get_data_dir(self.working_path)\n",
    "        abs_root = path_config.get_abs_root_form_working_dg_file_path(self.working_path)\n",
    "        research_flow_status_file_path = path_config.get_research_flow_status_file_path(abs_root)\n",
    "        source = [os.path.join(data_dir, 'argument_data'), os.path.join(data_dir, 'paper'), os.path.join(data_dir, 'reply')]\n",
    "        self.define_save_form(source)\n",
    "        # フォーム表示\n",
    "        pn.extension()\n",
    "        form_section = pn.WidgetBox()\n",
    "        form_section.append(self.save_form_box)\n",
    "        form_section.append(self.save_msg_output)\n",
    "        display(form_section)\n",
    "        display(Javascript('IPython.notebook.save_checkpoint();'))\n",
    "\n",
    "\n",
    "DataSaver(working_path=os.path.abspath('__file__')).generate_form_section()"
   ]
  },
  {
   "cell_type": "markdown",
   "metadata": {},
   "source": [
    "## サブフローメニューを表示する"
   ]
  },
  {
   "cell_type": "code",
   "execution_count": null,
   "metadata": {},
   "outputs": [],
   "source": [
    "# サブフローメニューを表示する\n",
    "import os\n",
    "\n",
    "from library.task_director import TaskDirector\n",
    "\n",
    "script_file_name = \"make_research_data_management_plan\"\n",
    "notebook_name = script_file_name+'.ipynb'\n",
    "TaskDirector(os.path.abspath('__file__'), notebook_name).return_subflow_menu()"
   ]
  }
 ],
 "metadata": {
  "language_info": {
   "name": "python"
  }
 },
 "nbformat": 4,
 "nbformat_minor": 2
}
