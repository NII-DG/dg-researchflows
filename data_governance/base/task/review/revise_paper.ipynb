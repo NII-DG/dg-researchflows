{
 "cells": [
  {
   "cell_type": "markdown",
   "metadata": {},
   "source": [
    "# リプライ対応を行う\n",
    "リプライが返却された際の対応を行うタスクです。<br>\n",
    "投稿した論文がアクセプトされるまでこのタスクを繰り返し実行してください。<br>\n",
    "<br>\n",
    "※リプライ対応中に論文や論拠データを修正した場合はGakuNin RDMにこまめに保存してください。<br>\n",
    "　GakuNin RDMに保存したデータはバージョン管理されるため、過去のデータを参照することが可能です。"
   ]
  },
  {
   "cell_type": "markdown",
   "metadata": {},
   "source": [
    "## リプライフォルダを作成する\n",
    "「リプライフォルダを作成する」セルを実行し、表示されたフォルダ内にリプライ対応用のフォルダを作成して下さい。<br>\n",
    "このフォルダにはリプライごとに作成したRebuttal letterを保存します。<br>\n",
    "新たにリプライを受けた場合は、新しいリプライ対応用フォルダとRebuttal letterを作成してください。<br>\n",
    "![replyフォルダの作成](./images/RF005011_create_reply_folder.png)"
   ]
  },
  {
   "cell_type": "code",
   "execution_count": null,
   "metadata": {
    "code_folding": [
     0
    ],
    "disable_pins": true
   },
   "outputs": [],
   "source": [
    "# リプライフォルダを作成する\n",
    "import os\n",
    "\n",
    "import panel as pn\n",
    "from IPython.core.display import Javascript\n",
    "from IPython.display import display\n",
    "\n",
    "from library.task_director import TaskDirector\n",
    "from library.utils.access import open_data_folder\n",
    "\n",
    "notebook_name = 'revise_paper.ipynb'\n",
    "\n",
    "def access_reply_folder(working_path: str):\n",
    "    \"\"\"リプライフォルダにアクセスするためのメソッドです。\n",
    "\n",
    "    Args:\n",
    "        working_path (str): 実行Notebookファイルパス\n",
    "\n",
    "    \"\"\"\n",
    "    task_director = TaskDirector(working_path, notebook_name)\n",
    "    task_director.doing_task()\n",
    "\n",
    "    folder_name = 'reply'\n",
    "    button = open_data_folder(os.path.abspath('__file__'), folder_name)\n",
    "\n",
    "    pn.extension()\n",
    "    display(button)\n",
    "    display(Javascript('IPython.notebook.save_checkpoint();'))\n",
    "    task_director.done_task()\n",
    "\n",
    "access_reply_folder(os.path.abspath('__file__'))"
   ]
  },
  {
   "cell_type": "markdown",
   "metadata": {},
   "source": [
    "## Rebuttal letterを作成する\n",
    "Rebuttal letterの作成を行って下さい。<br>\n",
    "リサーチフロー上で文章作成ツール（LaTex）を使用してRebuttal letterを作成することが可能です。<br>\n",
    "リサーチフロー上でLaTexを使用する場合は以下の手順に沿ってRebuttal letterの作成、保存を行ってください。<br>\n",
    "<br>\n",
    "それ以外の方法で作成した場合は、作成後に「Rebuttal letterを作成する」セルを実行して直接アップロードしてください。"
   ]
  },
  {
   "cell_type": "markdown",
   "metadata": {},
   "source": [
    "### Rebuttal letterの作成手順<br>\n",
    "１．「Rebuttal letterを作成する」セルを実行し、Rebuttal letterを作成するフォルダ（現在のリプライ用のフォルダ）を選択してください。<br>\n",
    "２．図の説明に従ってRebuttal letterファイルの作成、編集を行ってください。<br>\n",
    "![Rebuttal letterの作成](./images/RF005011_create_Rebuttal_letter.png)<br>\n",
    "![Rebuttal letterの改名](./images/RF005011_rename_Rebuttal_letter.png)<br>\n",
    "<span style=\"color:red\">※ Rebuttal letterファイルの編集後は必ず保存してからファイルを閉じてください。</span>"
   ]
  },
  {
   "cell_type": "code",
   "execution_count": null,
   "metadata": {
    "code_folding": [
     0
    ],
    "disable_pins": true
   },
   "outputs": [],
   "source": [
    "# Rebuttal letterを作成する\n",
    "import os\n",
    "\n",
    "import panel as pn\n",
    "from IPython.core.display import Javascript\n",
    "from IPython.display import display\n",
    "\n",
    "from library.utils.access import open_data_folder\n",
    "\n",
    "\n",
    "folder_name = 'reply'\n",
    "button = open_data_folder(os.path.abspath('__file__'), folder_name)\n",
    "\n",
    "pn.extension()\n",
    "display(button)\n",
    "display(Javascript('IPython.notebook.save_checkpoint();'))"
   ]
  },
  {
   "cell_type": "markdown",
   "metadata": {},
   "source": [
    "3. 作成したtex形式のファイルをPDFとして出力する<br>\n",
    "terminalで以下のコマンドを実行することでtex形式のファイルをPDFで出力することができます。<br>\n",
    "PDFファイルはtexファイルと同じ名前で出力され、同名のPDFファイルが存在していた場合は上書きします。<br>\n",
    "xelatex ｛対象のファイルまでのパス｝<br>\n",
    "以下のセルを実行することでterminalを使用せずにPDF化することも可能です。<br>\n",
    "PDFファイルはtexファイルと同じフォルダに出力されます。"
   ]
  },
  {
   "cell_type": "code",
   "execution_count": null,
   "metadata": {
    "disable_pins": true
   },
   "outputs": [],
   "source": [
    "# texファイルをPDFとして出力する\n",
    "import os\n",
    "from library.utils.setting import get_data_dir\n",
    "\n",
    "folder_name = \"\" #  ここに作成したreplyフォルダ名を入力する\n",
    "file_name = \"\" #　ここにＰＤＦ化したいファイルを入力する(.texまで含む)\n",
    "\n",
    "dir_name = os.path.join(get_data_dir(os.path.abspath('__file__')), 'reply', folder_name)\n",
    "full_path = os.path.join(dir_name, file_name)\n",
    "\n",
    "# PDF化するコマンド\n",
    "!xelatex -output-directory={dir_name} {full_path}"
   ]
  },
  {
   "cell_type": "markdown",
   "metadata": {},
   "source": [
    "## リプライのための実験・解析を行う\n",
    "Rebuttal letterの内容から追加で実験や解析を行う必要がある場合はメインメニューから実験サブフローを選択し、再度実験・解析を行ってください。<br>\n",
    "実験・解析結果に合わせてRebuttal letterの内容も修正してください。\n"
   ]
  },
  {
   "cell_type": "code",
   "execution_count": null,
   "metadata": {
    "code_folding": [
     0
    ],
    "disable_pins": true
   },
   "outputs": [],
   "source": [
    "# メインメニューに戻る\n",
    "import os\n",
    "from library import subflow\n",
    "subflow.access_main_menu(working_file=os.path.abspath('__file__'))"
   ]
  },
  {
   "cell_type": "markdown",
   "metadata": {},
   "source": [
    "## 論文・図表を修正する\n",
    "Rebuttal letterの内容、再実験や再解析の結果を論文および図表に反映してください。"
   ]
  },
  {
   "cell_type": "markdown",
   "metadata": {},
   "source": [
    "### 1.  図表を修正・追加する\n",
    "Rebuttal letterの内容、再実験や再解析の結果から必要な場合は図表の修正、追加を行ってください。<br>\n",
    "修正、追加作業は論文執筆サブフローの「草稿を作成する」タスクに戻って実行してください。"
   ]
  },
  {
   "cell_type": "code",
   "execution_count": null,
   "metadata": {
    "code_folding": [
     0
    ],
    "disable_pins": true
   },
   "outputs": [],
   "source": [
    "# 草稿を作成するタスクへアクセスするボタンを表示する\n",
    "import os\n",
    "from pathlib import Path\n",
    "\n",
    "from IPython.core.display import Javascript\n",
    "import panel as pn\n",
    "\n",
    "from library.task_director import TaskDirector\n",
    "from library.utils import file\n",
    "from library.utils.config import path_config, message as msg_config\n",
    "from library.utils.error import NotFoundSubflowDataError\n",
    "from library.utils.html.button import create_button\n",
    "from library.utils.setting.research_flow_status import get_subflow_type_and_id, ResearchFlowStatusOperater\n",
    "from library.utils.widgets import MessageBox\n",
    "\n",
    "\n",
    "notebook_name = 'revise_paper.ipynb'\n",
    "\n",
    "class AccessCreateDraft(TaskDirector):\n",
    "    \"\"\"実験サブフローと論拠データのフォルダを表示するクラスです。\n",
    "\n",
    "    Attributes:\n",
    "        instance:\n",
    "            working_path(str): 実行Notebookファイルパス\n",
    "            reserch_flow_status_operater(ResearchFlowStatusOperater): リサーチフローステータスにアクセスするためのクラスのインスタンス\n",
    "            _msg_output(MessageBox): メッセージ出力用のボックス\n",
    "            _form_section(pn.WidgetBox): ボタン等の出力を格納するためのボックス\n",
    "\n",
    "    \"\"\"\n",
    "    def __init__(self, working_path: str) -> None:\n",
    "        \"\"\"AccessCreateDraftクラスのコンストラクタです。\n",
    "\n",
    "        Args:\n",
    "            working_path (str): 実行Notebookファイルパス\n",
    "\n",
    "        \"\"\"\n",
    "        self.working_path = working_path\n",
    "        super().__init__(self.working_path, notebook_name)\n",
    "\n",
    "        abs_root = path_config.get_abs_root_form_working_dg_file_path(self.working_path)\n",
    "        research_flow_status_file_path = path_config.get_research_flow_status_file_path(abs_root)\n",
    "        self.reserch_flow_status_operater = ResearchFlowStatusOperater(research_flow_status_file_path)\n",
    "\n",
    "        # メッセージボックスの設定\n",
    "        self._msg_output = MessageBox()\n",
    "        self._msg_output.width = 900\n",
    "        # 出力用フォームの設定\n",
    "        self._form_section = pn.WidgetBox()\n",
    "\n",
    "    @TaskDirector.task_cell(\"5\")\n",
    "    def generate_folder_buttons(self):\n",
    "        \"\"\"データフォルダを表示するためのボタンを生成するメソッドです。\"\"\"\n",
    "\n",
    "        _, subflow_id = get_subflow_type_and_id(self.working_path)\n",
    "        parents_list = self.get_parent_info(subflow_id)\n",
    "\n",
    "        # 表示する論文執筆サブフローが存在しない場合はメッセージを表示する\n",
    "        if self._msg_output.has_message():\n",
    "            self._form_section.append(self._msg_output)\n",
    "\n",
    "        else:\n",
    "            root_folder = Path(path_config.get_abs_root_form_working_dg_file_path(self.working_path))\n",
    "            working_researchflow = str(root_folder / path_config.DG_WORKING_RESEARCHFLOW_FOLDER)\n",
    "\n",
    "            # 取得した論文執筆サブフローのタスクを開くボタンの作成\n",
    "            for parent_name, parent_id in parents_list.items():\n",
    "                target_path = os.path.join(working_researchflow, \"writing\", parent_id, \"task/writing/create_draft.ipynb\")\n",
    "                url = file.relative_path(target_path, os.path.dirname(self.working_path))\n",
    "                button_width = 500\n",
    "                button = create_button(\n",
    "                    url=f'{url}?init_nb=true',\n",
    "                    target='_blank',\n",
    "                    msg=msg_config.get('task', 'access_create_draft'),\n",
    "                    button_width=f'{button_width}px'\n",
    "                )\n",
    "                button = pn.pane.HTML(button)\n",
    "                card = pn.Card(\n",
    "                    button ,\n",
    "                    title = f\"{msg_config.get('organize_argument_data', 'title_argument_data')}{parent_name}\",\n",
    "                    width = 550,\n",
    "                    height = 100\n",
    "                )\n",
    "                self._form_section.append(card)\n",
    "\n",
    "        # 表示する\n",
    "        pn.extension()\n",
    "        display(self._form_section)\n",
    "        display(Javascript('IPython.notebook.save_checkpoint();'))\n",
    "\n",
    "    def get_parent_info(self, current_subflow: str) -> dict:\n",
    "        \"\"\"親サブフローとなっている論文執筆サブフローの情報を取得するメソッドです。\n",
    "\n",
    "        Args:\n",
    "            current_subflow (str): 現在実行中のサブフローのID\n",
    "\n",
    "        Returns:\n",
    "            dict: 親サブフローとなっている実験サブフローの情報\n",
    "\n",
    "        \"\"\"\n",
    "        # 全ての親サブフローIDを取得\n",
    "        parent_ids = self.reserch_flow_status_operater.get_parent_ids(4, current_subflow) # 4: 査読フェーズのシーケンス番号\n",
    "\n",
    "        # 論文執筆サブフローのみを取得\n",
    "        parent_subflow = {}\n",
    "        for parent_id in parent_ids:\n",
    "            try:\n",
    "                parent_name = self.reserch_flow_status_operater.get_flow_name(3, parent_id) # 3: 論文執筆フェーズのシーケンス番号\n",
    "                parent_subflow[parent_name] = parent_id\n",
    "            except NotFoundSubflowDataError:\n",
    "                continue\n",
    "\n",
    "        # 親サブフローに論文執筆サブフローが存在しない場合はメッセージを格納\n",
    "        if not parent_subflow:\n",
    "            self._msg_output.update_warning(msg_config.get(\"organize_argument_data\", \"not_found_writing_subflow\"))\n",
    "\n",
    "        return parent_subflow\n",
    "\n",
    "AccessCreateDraft(os.path.abspath('__file__')).generate_folder_buttons()"
   ]
  },
  {
   "cell_type": "markdown",
   "metadata": {},
   "source": [
    "### 2. 論文を修正する\n",
    "Rebuttal letterの内容、再実験や再解析の結果から必要な場合は論文の修正を行ってください。<br>\n",
    "リサーチフロー上でLaTex（文章作成ツール）を使用して論文を修正することが可能です。<br>\n",
    "リサーチフロー上でLaTexを使用する場合後述の手順に沿って論文の修正を行ってください。<br>\n",
    "<br>\n",
    "論文を修正する際にリサーチフローに保存した草稿や論拠データを閲覧したい場合は以下のセルを実行して下さい。"
   ]
  },
  {
   "cell_type": "code",
   "execution_count": null,
   "metadata": {
    "code_folding": [
     0
    ],
    "disable_pins": true
   },
   "outputs": [],
   "source": [
    "# 草稿・論拠データフォルダを閲覧する\n",
    "import os\n",
    "\n",
    "from IPython.core.display import Javascript\n",
    "import panel as pn\n",
    "\n",
    "from library.task_director import TaskDirector\n",
    "from library.utils.access import open_data_folder\n",
    "from library.utils.config import path_config, message as msg_config\n",
    "from library.utils.error import NotFoundSubflowDataError\n",
    "from library.utils.setting.research_flow_status import get_subflow_type_and_id, ResearchFlowStatusOperater\n",
    "from library.utils.widgets import MessageBox\n",
    "\n",
    "\n",
    "notebook_name = 'organize_paper_and_argument_data.ipynb'\n",
    "\n",
    "class AccessDraftAndArgument(TaskDirector):\n",
    "    \"\"\"親となる論文執筆サブフローの草稿フォルダと現在のサブフローの論拠データのフォルダを表示するクラスです。\n",
    "\n",
    "    Attributes:\n",
    "        instance:\n",
    "            working_path(str): 実行Notebookファイルパス\n",
    "            _msg_output(MessageBox): メッセージ出力用のボックス\n",
    "            _form_section(pn.WidgetBox): ボタン等の出力を格納するためのボックス\n",
    "\n",
    "    \"\"\"\n",
    "    def __init__(self, working_path: str) -> None:\n",
    "        \"\"\"Displyクラスのコンストラクタです。\n",
    "\n",
    "        Args:\n",
    "            working_path (str): 実行Notebookファイルパス\n",
    "\n",
    "        \"\"\"\n",
    "        self.working_path = working_path\n",
    "        super().__init__(self.working_path, notebook_name)\n",
    "\n",
    "        abs_root = path_config.get_abs_root_form_working_dg_file_path(self.working_path)\n",
    "        research_flow_status_file_path = path_config.get_research_flow_status_file_path(abs_root)\n",
    "        self.reserch_flow_status_operater = ResearchFlowStatusOperater(research_flow_status_file_path)\n",
    "\n",
    "        # メッセージボックスの設定\n",
    "        self._msg_output = MessageBox()\n",
    "        self._msg_output.width = 900\n",
    "        # 出力用フォームの設定\n",
    "        self._form_section = pn.WidgetBox()\n",
    "\n",
    "    @TaskDirector.task_cell(\"6\")\n",
    "    def generate_folder_buttons(self):\n",
    "        \"\"\"データフォルダを表示するためのボタンを生成するメソッドです。\"\"\"\n",
    "\n",
    "        _, subflow_id = get_subflow_type_and_id(self.working_path)\n",
    "        parents_list = self.get_parent_info(subflow_id)\n",
    "\n",
    "        # 親サブフローに論文執筆サブフローが存在しない場合はメッセージを表示する\n",
    "        if self._msg_output.has_message():\n",
    "            self._form_section.append(self._msg_output)\n",
    "\n",
    "        else:\n",
    "            old_part= os.path.join(\"review\", subflow_id)\n",
    "            # 草稿フォルダを開くボタンの作成\n",
    "            for parent_name, parent_id in parents_list.items():\n",
    "                new_part = os.path.join(\"writing\", parent_id)\n",
    "                new_working_path = self.working_path.replace(old_part, new_part)\n",
    "                self.log.info(new_working_path)\n",
    "                button = open_data_folder(new_working_path, \"draft\")\n",
    "                card = pn.Card(\n",
    "                    button,\n",
    "                    title = f\"{msg_config.get('organize_argument_data', 'title_draft')}:{parent_name}\",\n",
    "                    width = 550,\n",
    "                    height = 100\n",
    "                )\n",
    "                self._form_section.append(card)\n",
    "\n",
    "        # 論拠データフォルダを開くボタンの作成\n",
    "        button = open_data_folder(self.working_path, \"argument_data\")\n",
    "        card = pn.Card(\n",
    "            button,\n",
    "            title = f\"{msg_config.get('organize_argument_data', 'title_experiment')}\",\n",
    "            width = 550,\n",
    "            height = 100,\n",
    "        )\n",
    "        self._form_section.append(card)\n",
    "\n",
    "        # 表示する\n",
    "        pn.extension()\n",
    "        display(self._form_section)\n",
    "        display(Javascript('IPython.notebook.save_checkpoint();'))\n",
    "\n",
    "    def get_parent_info(self, current_subflow: str) -> dict:\n",
    "        \"\"\"親サブフローとなっている論文執筆サブフローを取得するメソッドです。\n",
    "\n",
    "        Args:\n",
    "            current_subflow (str): 現在作業を行っているサブフローのID\n",
    "\n",
    "        Returns:\n",
    "            dict: 親サブフローとなっているサブフローの情報\n",
    "\n",
    "        \"\"\"\n",
    "        # 全ての親サブフローIDを取得\n",
    "        parent_ids = self.reserch_flow_status_operater.get_parent_ids(4, current_subflow) # 4:査読フェーズのシーケンス番号\n",
    "\n",
    "        # 論文執筆サブフローのみを取得\n",
    "        parent_subflow = {}\n",
    "        for parent_id in parent_ids:\n",
    "            try:\n",
    "                parent_name = self.reserch_flow_status_operater.get_flow_name(3, parent_id) # 3:論文執筆フェーズのシーケンス番号\n",
    "                parent_subflow[parent_name] = parent_id\n",
    "            except NotFoundSubflowDataError:\n",
    "                continue\n",
    "\n",
    "        # 親サブフローに論文執筆サブフローが存在しない場合はメッセージを格納\n",
    "        if not parent_subflow:\n",
    "            self._msg_output.update_warning(msg_config.get(\"organize_argument_data\", \"not_found_writing_subflow\"))\n",
    "\n",
    "        return parent_subflow\n",
    "\n",
    "AccessDraftAndArgument(os.path.abspath('__file__')).generate_folder_buttons()"
   ]
  },
  {
   "cell_type": "markdown",
   "metadata": {},
   "source": [
    "#### 論文の修正手順<br>\n",
    "1. 以下のセルを実行することで論文が保存されているフォルダが表示されます。<br>\n",
    "2. 編集したい論文ファイルを選択し、修正を行ってください。<br>\n",
    "<span style=\"color:red\">※ 論文ファイルの編集後は必ず保存してからファイルを閉じてください。</span>"
   ]
  },
  {
   "cell_type": "code",
   "execution_count": null,
   "metadata": {
    "code_folding": [
     0
    ],
    "disable_pins": true
   },
   "outputs": [],
   "source": [
    "# 論文フォルダを表示する\n",
    "import os\n",
    "\n",
    "from IPython.core.display import Javascript\n",
    "from IPython.display import display\n",
    "import panel as pn\n",
    "\n",
    "from library.utils.access import open_data_folder\n",
    "\n",
    "\n",
    "folder_name = 'paper'\n",
    "button = open_data_folder(os.path.abspath('__file__'), folder_name)\n",
    "\n",
    "pn.extension()\n",
    "display(button)\n",
    "display(Javascript('IPython.notebook.save_checkpoint();'))"
   ]
  },
  {
   "cell_type": "markdown",
   "metadata": {},
   "source": [
    "3. 編集したtex形式の論文ファイルをPDFとして出力する<br>\n",
    "terminalで以下のコマンドを実行することでtex形式のファイルをPDFで出力することができます。<br>\n",
    "PDFファイルはtexファイルと同じ名前で出力され、同名のPDFファイルが存在していた場合は上書きします。<br>\n",
    "xelatex ｛対象のファイルまでのパス｝<br>\n",
    "以下のセルを実行することでterminalを使用せずにPDF化することも可能です。<br>\n",
    "PDFファイルはtexファイルと同じフォルダに出力されます。"
   ]
  },
  {
   "cell_type": "code",
   "execution_count": null,
   "metadata": {
    "disable_pins": true
   },
   "outputs": [],
   "source": [
    "# texファイルをPDFとして出力する\n",
    "import os\n",
    "from library.utils.setting import get_data_dir\n",
    "\n",
    "file_name = \"\" #　ここにＰＤＦ化したいファイルを入力する(.texまで含む)\n",
    "\n",
    "dir_name = os.path.join(get_data_dir(os.path.abspath('__file__')), 'paper')\n",
    "full_path = os.path.join(dir_name, file_name)\n",
    "\n",
    "# PDF化するコマンド\n",
    "!xelatex -output-directory={dir_name} {full_path}"
   ]
  },
  {
   "cell_type": "markdown",
   "metadata": {},
   "source": [
    "## リプライのための論文・論拠データを整理する\n",
    "Rebuttal letterの内容から必要な場合は論文・論拠データの整理を行ってください。"
   ]
  },
  {
   "cell_type": "markdown",
   "metadata": {},
   "source": [
    "### 1.  論文にメタデータを登録する\n",
    "論文に登録するPDFメタデータを入力するためのフォームを表示します。<br>\n",
    "「登録する」ボタンを押下することでこのタスクで修正した論文のPDFメタデータを入力した値で更新します。"
   ]
  },
  {
   "cell_type": "code",
   "execution_count": null,
   "metadata": {
    "code_folding": [
     0
    ],
    "disable_pins": true
   },
   "outputs": [],
   "source": [
    "# メタデータの登録フォームを表示する\n",
    "\n",
    "import os\n",
    "\n",
    "from library.utils.pdf_metadata import PdfMetaData\n",
    "from library.utils.setting.research_flow_status import get_data_dir\n",
    "from library.task_director import TaskDirector\n",
    "\n",
    "\n",
    "notebook_name = 'register_paper_metadata.ipynb'\n",
    "\n",
    "class RegisterPaperMetadata(TaskDirector):\n",
    "    \"\"\"PDFのメタデータを登録するクラスです。\n",
    "\n",
    "    Attributes:\n",
    "        working_path(str): 実行Notebookファイルパス\n",
    "\n",
    "    \"\"\"\n",
    "    def __init__(self, working_path:str):\n",
    "        \"\"\"RegisterPaperMetadataのコンストラクタのメソッドです。\n",
    "\n",
    "        Args:\n",
    "            working_path (str): 実行Notebookファイルパス\n",
    "\n",
    "        \"\"\"\n",
    "        self.working_path = working_path\n",
    "        super().__init__(self.working_path, notebook_name)\n",
    "\n",
    "    @TaskDirector.task_cell(\"9\")\n",
    "    def register_metadata(self):\n",
    "        \"\"\"PDFのメタデータを登録するメソッドです。\"\"\"\n",
    "\n",
    "        data_dir = get_data_dir(self.working_path)\n",
    "        data_dir = os.path.join(data_dir, 'paper')\n",
    "\n",
    "        PdfMetaData(self.working_path, notebook_name).generate_pdf_metadata_form(data_dir)\n",
    "\n",
    "\n",
    "RegisterPaperMetadata(os.path.abspath('__file__')).register_metadata()"
   ]
  },
  {
   "cell_type": "markdown",
   "metadata": {},
   "source": [
    "### 2.  論拠データを整理する\n",
    "Rebuttal letterの内容、論文の修正などから必要な場合は論拠データの整理を行ってください。"
   ]
  },
  {
   "cell_type": "code",
   "execution_count": null,
   "metadata": {
    "code_folding": [
     0
    ],
    "disable_pins": true
   },
   "outputs": [],
   "source": [
    "# 論拠データフォルダを表示する\n",
    "import os\n",
    "\n",
    "from IPython.core.display import Javascript\n",
    "from IPython.display import display\n",
    "import panel as pn\n",
    "\n",
    "from library.utils.access import open_data_folder\n",
    "\n",
    "\n",
    "folder_name = 'argument_data'\n",
    "button = open_data_folder(os.path.abspath('__file__'), folder_name)\n",
    "\n",
    "pn.extension()\n",
    "display(button)\n",
    "display(Javascript('IPython.notebook.save_checkpoint();'))"
   ]
  },
  {
   "cell_type": "markdown",
   "metadata": {},
   "source": [
    "## メタデータを付与する\n",
    "メタデータ登録を行ってください。<br>\n",
    "以下のセルを実行してメタデータの登録を行った後、このタスクに戻り作業を再開してください。<br>\n",
    "GakuNin RDMにメタデータを登録する場合はGakuNin RDM上から手動で行ってください。"
   ]
  },
  {
   "cell_type": "code",
   "execution_count": null,
   "metadata": {
    "code_folding": [
     0
    ],
    "disable_pins": true
   },
   "outputs": [],
   "source": [
    "# メタデータを登録するタスクへアクセスするボタンを表示する\n",
    "from IPython.core.display import Javascript\n",
    "from IPython.display import display\n",
    "\n",
    "import panel as pn\n",
    "\n",
    "from library.utils.config import message as msg_config\n",
    "from library.utils.html.button import create_button\n",
    "\n",
    "\n",
    "def access_register_metadata():\n",
    "    \"\"\"検証するタスクへアクセスするボタンを表示するメソッドです。\"\"\"\n",
    "    button_width = 500\n",
    "    url = '../common/metadata.ipynb'\n",
    "    obj = create_button(\n",
    "        url=f'{url}?init_nb=true',\n",
    "        target='_blank',\n",
    "        msg=msg_config.get('task', 'access_register_metadata_task'),\n",
    "        button_width=f'{button_width}px'\n",
    "    )\n",
    "    pn.extension()\n",
    "    display(pn.pane.HTML(obj, width=button_width))\n",
    "    display(Javascript('IPython.notebook.save_checkpoint();'))\n",
    "\n",
    "access_register_metadata()"
   ]
  },
  {
   "cell_type": "markdown",
   "metadata": {},
   "source": [
    "## GakuNin RDMに保存する"
   ]
  },
  {
   "cell_type": "code",
   "execution_count": null,
   "metadata": {
    "code_folding": [
     0
    ],
    "disable_pins": true
   },
   "outputs": [],
   "source": [
    "# GakuNin RDMに保存する\n",
    "import os\n",
    "from IPython.core.display import Javascript\n",
    "from IPython.display import display\n",
    "\n",
    "import panel as pn\n",
    "\n",
    "from library.utils.config import path_config\n",
    "from library.task_director import TaskDirector\n",
    "from library.utils.setting import get_data_dir\n",
    "\n",
    "script_file_name = 'revise_paper'\n",
    "notebook_name = script_file_name+'.ipynb'\n",
    "\n",
    "\n",
    "class DataSaver(TaskDirector):\n",
    "    \"\"\"GRDMに保存するクラスです。\n",
    "\n",
    "    Attributes:\n",
    "        instance:\n",
    "            _abs_root_path (str): 絶対パス\n",
    "            save_form_box(pn.WidgetBox):フォームを格納する。\n",
    "            save_msg_output(Message):ユーザーに提示するメッセージを格納する。\n",
    "    \"\"\"\n",
    "\n",
    "    def __init__(self, working_path: str) -> None:\n",
    "        \"\"\"DataSaver コンストラクタメソッドです。\n",
    "\n",
    "        Args:\n",
    "            working_path (str): 実行Notebookファイルパス\n",
    "        \"\"\"\n",
    "        self.working_path = working_path\n",
    "        super().__init__(self.working_path, notebook_name)\n",
    "\n",
    "    @TaskDirector.task_cell(\"12\")\n",
    "    def generate_form_section(self):\n",
    "        \"\"\"取得したデータを表示するメソッドです。\"\"\"\n",
    "        # タスク開始によるサブフローステータス管理JSONの更新\n",
    "\n",
    "        # フォーム定義\n",
    "        data_dir = get_data_dir(self.working_path)\n",
    "        abs_root = path_config.get_abs_root_form_working_dg_file_path(self.working_path)\n",
    "        research_flow_status_file_path = path_config.get_research_flow_status_file_path(abs_root)\n",
    "        source = [os.path.join(data_dir, 'argument_data'), os.path.join(data_dir, 'paper'), os.path.join(data_dir, 'reply')]\n",
    "        self.define_save_form(source)\n",
    "        # フォーム表示\n",
    "        pn.extension()\n",
    "        form_section = pn.WidgetBox()\n",
    "        form_section.append(self.save_form_box)\n",
    "        form_section.append(self.save_msg_output)\n",
    "        display(form_section)\n",
    "        display(Javascript('IPython.notebook.save_checkpoint();'))\n",
    "\n",
    "\n",
    "DataSaver(working_path=os.path.abspath('__file__')).generate_form_section()"
   ]
  },
  {
   "cell_type": "markdown",
   "metadata": {},
   "source": [
    "## サブフローメニューを表示する"
   ]
  },
  {
   "cell_type": "code",
   "execution_count": null,
   "metadata": {
    "code_folding": [
     0
    ],
    "disable_pins": true
   },
   "outputs": [],
   "source": [
    "# サブフローメニューを表示する\n",
    "import os\n",
    "\n",
    "from library.task_director import TaskDirector\n",
    "\n",
    "script_file_name = \"revise_paper\"\n",
    "notebook_name = script_file_name+'.ipynb'\n",
    "TaskDirector(os.path.abspath('__file__'), notebook_name).return_subflow_menu()"
   ]
  }
 ],
 "metadata": {
  "language_info": {
   "name": "python"
  }
 },
 "nbformat": 4,
 "nbformat_minor": 2
}
