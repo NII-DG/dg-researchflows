{
 "cells": [
  {
   "cell_type": "markdown",
   "metadata": {},
   "source": [
    "# リプライ対応を行う\n",
    "リプライが返却された際の対応を行うタスクです。<br>\n",
    "投稿した論文がアクセプトされるまでこのタスクを繰り返し実行してください。<br>\n",
    "<br>\n",
    "※リプライ対応中に論文や論拠データを修正した場合はGakuNin RDMにこまめに保存してください。<br>\n",
    "　GakuNin RDMに保存したデータはバージョン管理されるため、過去のデータを参照することが可能です。"
   ]
  },
  {
   "cell_type": "markdown",
   "metadata": {},
   "source": [
    "## リプライフォルダを作成する\n",
    "リプライ対応用のフォルダを作成します。<br>\n",
    "このフォルダにはリプライごとに作成したRebuttal letterが保存されます。<br>\n",
    "新たにリプライを受けた場合は、新しいリプライ対応用フォルダとRebuttal letterを作成してください。"
   ]
  },
  {
   "cell_type": "code",
   "execution_count": null,
   "metadata": {
    "vscode": {
     "languageId": "plaintext"
    }
   },
   "outputs": [],
   "source": [
    "# リプライフォルダを作成する"
   ]
  },
  {
   "cell_type": "markdown",
   "metadata": {},
   "source": [
    "## Rebuttal letterを作成する\n",
    "Rebuttal letterの作成を行って下さい。<br>\n",
    "リサーチフロー上で文章作成ツール（LaTex）を使用してRebuttal letterを作成することが可能です。<br>\n",
    "リサーチフロー上でLaTexを使用する場合は以下の手順に沿ってRebuttal letterの作成、保存を行ってください。<br>\n",
    "<br>\n",
    "それ以外の方法で作成した場合は、作成後に「フォルダを表示する」セルを実行して直接アップロードしてください。"
   ]
  },
  {
   "cell_type": "markdown",
   "metadata": {},
   "source": [
    "### Rebuttal letterの作成手順<br>\n",
    "１．「フォルダを表示する」セルを実行することでRebuttal letterを作成するフォルダが表示されます。<br>\n",
    "２．図の説明に従ってRebuttal letterファイルの作成、編集を行ってください。<br>\n",
    "｛画像上でRebuttal letterファイルを作成し、編集する手順を説明｝（アップロードの方法も記載する）<br>\n",
    "<span style=\"color:red\">※ Rebuttal letterファイルの編集後は必ず保存してからファイルを閉じてください。</span>"
   ]
  },
  {
   "cell_type": "code",
   "execution_count": null,
   "metadata": {
    "vscode": {
     "languageId": "plaintext"
    }
   },
   "outputs": [],
   "source": [
    "# フォルダを表示する"
   ]
  },
  {
   "cell_type": "markdown",
   "metadata": {},
   "source": [
    "terminalで以下のコマンドを実行することでtex形式のファイルをPDFで出力することができます。<br>\n",
    "｛PDF化のコマンド｝<br>\n",
    "以下のセルを実行することでterminalを使用せずにPDF化することも可能です。<br>\n",
    "PDFファイルはtexファイルと同じフォルダに出力されます。"
   ]
  },
  {
   "cell_type": "code",
   "execution_count": null,
   "metadata": {
    "vscode": {
     "languageId": "plaintext"
    }
   },
   "outputs": [],
   "source": [
    "# PDFとして出力する"
   ]
  },
  {
   "cell_type": "markdown",
   "metadata": {},
   "source": [
    "## リプライのための実験・解析を行う\n",
    "Rebuttal letterの内容から追加で実験や解析を行う必要がある場合はメインメニューから実験サブフローを選択し、再度実験・解析を行ってください。<br>\n",
    "実験・解析結果に合わせてRebuttal letterの内容も修正してください。\n"
   ]
  },
  {
   "cell_type": "code",
   "execution_count": null,
   "metadata": {
    "vscode": {
     "languageId": "plaintext"
    }
   },
   "outputs": [],
   "source": [
    "# メインメニューに戻る"
   ]
  },
  {
   "cell_type": "markdown",
   "metadata": {},
   "source": [
    "## 論文・図表を修正する\n",
    "Rebuttal letterの内容、再実験や再解析の結果を論文および図表に反映してください。"
   ]
  },
  {
   "cell_type": "markdown",
   "metadata": {},
   "source": [
    "### 1.  図表を修正・追加する\n",
    "Rebuttal letterの内容、再実験や再解析の結果から必要な場合は図表の修正、追加を行ってください。<br>\n",
    "修正、追加作業は論文執筆サブフローの「草稿を作成する」タスクに戻って実行してください。"
   ]
  },
  {
   "cell_type": "code",
   "execution_count": null,
   "metadata": {
    "vscode": {
     "languageId": "plaintext"
    }
   },
   "outputs": [],
   "source": [
    "# 図表を修正・追加する"
   ]
  },
  {
   "cell_type": "markdown",
   "metadata": {},
   "source": [
    "### 2. 論文を修正する\n",
    "Rebuttal letterの内容、再実験や再解析の結果から必要な場合は論文の修正を行ってください。<br>\n",
    "リサーチフロー上でLaTex（文章作成ツール）を使用して論文を修正することが可能です。<br>\n",
    "リサーチフロー上でLaTexを使用する場合後述の手順に沿って論文の修正を行ってください。<br>\n",
    "<br>\n",
    "論文を修正する際にリサーチフローに保存した草稿や論拠データを閲覧したい場合は以下のセルを実行して下さい。"
   ]
  },
  {
   "cell_type": "code",
   "execution_count": null,
   "metadata": {
    "vscode": {
     "languageId": "plaintext"
    }
   },
   "outputs": [],
   "source": [
    "# データを閲覧する"
   ]
  },
  {
   "cell_type": "markdown",
   "metadata": {},
   "source": [
    "#### 論文の修正手順<br>\n",
    "1. 以下のセルを実行することで論文が保存されているフォルダが表示されます。<br>\n",
    "2. 図の説明に従って論文ファイルを修正してください。<br>\n",
    "｛画像上で論文ファイルを修正する手順を説明｝（アップロードの方法も記載する）<br>\n",
    "<span style=\"color:red\">※ 論文ファイルの編集後は必ず保存してからファイルを閉じてください。</span>"
   ]
  },
  {
   "cell_type": "code",
   "execution_count": null,
   "metadata": {
    "vscode": {
     "languageId": "plaintext"
    }
   },
   "outputs": [],
   "source": [
    "# フォルダを表示する"
   ]
  },
  {
   "cell_type": "markdown",
   "metadata": {},
   "source": [
    "terminalで以下のコマンドを実行することで.tex形式のファイルをPDFで出力することができます。<br>\n",
    "｛PDF化のコマンド｝<br>\n",
    "以下のセルを実行することでterminalを使用せずにPDF化することも可能です。<br>\n",
    "※同名のtexファイルをPDF化する場合は自動的に上書きされるので注意してください。"
   ]
  },
  {
   "cell_type": "code",
   "execution_count": null,
   "metadata": {
    "vscode": {
     "languageId": "plaintext"
    }
   },
   "outputs": [],
   "source": [
    "# PDFとして出力する"
   ]
  },
  {
   "cell_type": "markdown",
   "metadata": {},
   "source": [
    "## リプライのための論文・論拠データを整理する\n",
    "Rebuttal letterの内容から必要な場合は論文・論拠データの整理を行ってください。"
   ]
  },
  {
   "cell_type": "markdown",
   "metadata": {},
   "source": [
    "### 1.  論文にメタデータを登録する\n",
    "論文に登録するPDFメタデータを入力するためのフォームを表示します。<br>\n",
    "「登録する」ボタンを押下することでこのタスクで修正した論文のPDFメタデータを入力した値で更新します。"
   ]
  },
  {
   "cell_type": "code",
   "execution_count": null,
   "metadata": {
    "vscode": {
     "languageId": "plaintext"
    }
   },
   "outputs": [],
   "source": [
    "# 論文にメタデータを登録する"
   ]
  },
  {
   "cell_type": "markdown",
   "metadata": {},
   "source": [
    "### 2.  論拠データを整理する\n",
    "Rebuttal letterの内容、再実験や再解析の結果から必要な場合は論拠データの整理を行ってください。"
   ]
  },
  {
   "cell_type": "code",
   "execution_count": null,
   "metadata": {
    "vscode": {
     "languageId": "plaintext"
    }
   },
   "outputs": [],
   "source": [
    "# 論拠データを整理する"
   ]
  },
  {
   "cell_type": "markdown",
   "metadata": {},
   "source": [
    "## メタデータを付与する\n",
    "メタデータ登録を行ってください。<br>\n",
    "以下のセルを実行してメタデータの登録を行った後、このタスクに戻り作業を再開してください。<br>\n",
    "GakuNin RDMにメタデータを登録する場合はGakuNin RDM上から手動で行ってください。"
   ]
  },
  {
   "cell_type": "code",
   "execution_count": null,
   "metadata": {
    "vscode": {
     "languageId": "plaintext"
    }
   },
   "outputs": [],
   "source": [
    "# メタデータを登録するタスクへアクセスするボタンを表示する"
   ]
  },
  {
   "cell_type": "markdown",
   "metadata": {},
   "source": [
    "## GakuNin RDMに保存する"
   ]
  },
  {
   "cell_type": "code",
   "execution_count": null,
   "metadata": {
    "vscode": {
     "languageId": "plaintext"
    }
   },
   "outputs": [],
   "source": [
    "# GakuNin RDMに保存する"
   ]
  },
  {
   "cell_type": "markdown",
   "metadata": {},
   "source": [
    "## サブフローメニューを表示する"
   ]
  },
  {
   "cell_type": "code",
   "execution_count": null,
   "metadata": {
    "vscode": {
     "languageId": "plaintext"
    }
   },
   "outputs": [],
   "source": [
    "# サブフローメニューを表示する"
   ]
  }
 ],
 "metadata": {
  "language_info": {
   "name": "python"
  }
 },
 "nbformat": 4,
 "nbformat_minor": 2
}
