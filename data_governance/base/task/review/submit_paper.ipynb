{
 "cells": [
  {
   "cell_type": "markdown",
   "metadata": {},
   "source": [
    "# 論文を投稿する\n",
    "論文を投稿するタスクです。<br>\n",
    "以下のような点に注意して論文を投稿してください。<br>\n",
    "<br>\n",
    "・投稿先のガイドラインを遵守する。<br>\n",
    "・論文の著作権やライセンスを確認する。<br>\n",
    "・論文の内容の正確性と再現性を確認する。<br>\n",
    "・倫理的な配慮を行う。<br>\n",
    "<br>\n",
    "（論拠データをGRDMで公開する場合）<br>\n",
    "・ジャーナルに、査読用PJのURLを連絡する。<br>\n",
    "・ジャーナルに、査読用PJにアクセスできるアカウントを連絡する。<br>\n",
    "など"
   ]
  },
  {
   "cell_type": "markdown",
   "metadata": {},
   "source": [
    "## サブフローメニューを表示する"
   ]
  },
  {
   "cell_type": "code",
   "execution_count": null,
   "metadata": {
    "vscode": {
     "languageId": "plaintext"
    }
   },
   "outputs": [],
   "source": [
    "# サブフローメニューを表示する"
   ]
  }
 ],
 "metadata": {
  "language_info": {
   "name": "python"
  }
 },
 "nbformat": 4,
 "nbformat_minor": 2
}
