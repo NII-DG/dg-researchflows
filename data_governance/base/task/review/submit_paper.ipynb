{
 "cells": [
  {
   "cell_type": "markdown",
   "metadata": {},
   "source": [
    "# 論文を投稿する\n",
    "論文を投稿するタスクです。<br>\n",
    "以下のような点に注意して論文を投稿してください。<br>\n",
    "<br>\n",
    "・投稿先のガイドラインを遵守する。<br>\n",
    "・論文の著作権やライセンスを確認する。<br>\n",
    "・論文の内容の正確性と再現性を確認する。<br>\n",
    "・倫理的な配慮を行う。<br>\n",
    "<br>\n",
    "（論拠データをGRDMで公開する場合）<br>\n",
    "・ジャーナルに、査読用PJのURLを連絡する。<br>\n",
    "・ジャーナルに、査読用PJにアクセスできるアカウントを連絡する。<br>\n",
    "<br>\n",
    "など"
   ]
  },
  {
   "cell_type": "markdown",
   "metadata": {},
   "source": [
    "## サブフローメニューを表示する"
   ]
  },
  {
   "cell_type": "code",
   "execution_count": null,
   "metadata": {
    "code_folding": [
     0
    ],
    "disable_pins": true
   },
   "outputs": [],
   "source": [
    "# サブフローメニューを表示する\n",
    "import os\n",
    "\n",
    "from library.task_director import TaskDirector\n",
    "\n",
    "script_file_name = \"submit_paper\"\n",
    "notebook_name = script_file_name+'.ipynb'\n",
    "\n",
    "task_director = TaskDirector(os.path.abspath('__file__'), notebook_name)\n",
    "task_director.doing_task()\n",
    "task_director.return_subflow_menu()\n",
    "task_director.done_task()"
   ]
  }
 ],
 "metadata": {
  "language_info": {
   "name": "python"
  }
 },
 "nbformat": 4,
 "nbformat_minor": 2
}
