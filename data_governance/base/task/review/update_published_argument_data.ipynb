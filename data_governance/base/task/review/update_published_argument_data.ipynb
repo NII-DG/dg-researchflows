{
 "cells": [
  {
   "cell_type": "markdown",
   "metadata": {},
   "source": [
    "# 査読者に公開した論拠データを更新する\n",
    "査読者に公開した論拠データを最新化するタスクです。<br>\n",
    "リプライを対応の中で論拠データを編集した場合のみ、実行してください。"
   ]
  },
  {
   "cell_type": "markdown",
   "metadata": {},
   "source": [
    "## リプライのためのデータを再配置する\n",
    "査読者に公開している論拠データを最新のものに更新してください。<br>\n",
    "査読用プロジェクトを選択し、「プロジェクトを表示する」ボタンを押下することでGakuNin RDMのプロジェクトページが表示されされます。<br>\n",
    "そこで公開している論拠データを最新のものへと更新してください。"
   ]
  },
  {
   "cell_type": "code",
   "execution_count": null,
   "metadata": {},
   "outputs": [],
   "source": [
    "# プロジェクトを表示する\n",
    "import os\n",
    "import traceback\n",
    "\n",
    "from IPython.core.display import Javascript\n",
    "from IPython.display import display, clear_output\n",
    "import pandas as pd\n",
    "import panel as pn\n",
    "from requests.exceptions import RequestException\n",
    "\n",
    "from library.task_director import TaskDirector\n",
    "from library.utils.config import connect as con_config\n",
    "from library.utils.config import message as msg_config\n",
    "from library.utils.error import (UnauthorizedError, ProjectNotExist,\n",
    "                                 UnusableVault, RepoPermissionError)\n",
    "from library.utils.html.button import create_button\n",
    "from library.utils.input import get_grdm_connection_parameters\n",
    "from library.utils.storage_provider import grdm\n",
    "from library.utils.widgets import MessageBox\n",
    "\n",
    "notebook_name = 'organize_paper_and_argument_data.ipynb'\n",
    "\n",
    "class UpdateReviewProject(TaskDirector):\n",
    "\n",
    "    def __init__(self, working_path: str) -> None:\n",
    "\n",
    "        self.working_path = working_path\n",
    "        super().__init__(self.working_path, notebook_name)\n",
    "\n",
    "    def generate_select_box(self):\n",
    "\n",
    "        self.grdm_url = con_config.get('GRDM', 'BASE_URL')"
   ]
  },
  {
   "cell_type": "code",
   "execution_count": null,
   "metadata": {
    "vscode": {
     "languageId": "plaintext"
    }
   },
   "outputs": [],
   "source": [
    "# 論拠データを表示する"
   ]
  },
  {
   "cell_type": "markdown",
   "metadata": {},
   "source": [
    "## 再現性を確認する\n",
    "査読者に公開した論拠データが再現可能な状態であることを確認してください。<br>\n",
    "再現性を確認する機能を現在開発中のため、再現性の確認は手動で行ってください。"
   ]
  },
  {
   "cell_type": "markdown",
   "metadata": {},
   "source": [
    "## サブフローメニューを表示する"
   ]
  },
  {
   "cell_type": "code",
   "execution_count": null,
   "metadata": {},
   "outputs": [],
   "source": [
    "# サブフローメニューを表示する\n",
    "import os\n",
    "from library.task_director import TaskDirector\n",
    "\n",
    "script_file_name = \"manage_collaborators\"\n",
    "notebook_name = script_file_name+'.ipynb'\n",
    "TaskDirector(os.path.abspath('__file__'), notebook_name).return_subflow_menu()"
   ]
  }
 ],
 "metadata": {
  "language_info": {
   "name": "python"
  }
 },
 "nbformat": 4,
 "nbformat_minor": 2
}
