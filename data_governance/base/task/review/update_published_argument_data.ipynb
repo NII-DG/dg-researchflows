{
 "cells": [
  {
   "cell_type": "markdown",
   "metadata": {},
   "source": [
    "# 査読者に公開した論拠データを更新する\n",
    "査読者に公開した論拠データを最新化するタスクです。<br>\n",
    "リプライを対応の中で論拠データを編集した場合のみ、実行してください。"
   ]
  },
  {
   "cell_type": "markdown",
   "metadata": {},
   "source": [
    "## リプライのためのデータを再配置する\n",
    "査読者に公開している論拠データを最新のものに更新してください。<br>\n",
    "査読用プロジェクトを選択し、「論拠データを更新する」ボタンを押下することで最新の論拠データに更新されます。<br>\n",
    "※論拠データの更新を行った場合、更新前のデータは全て失われるので注意してください。"
   ]
  },
  {
   "cell_type": "code",
   "execution_count": null,
   "metadata": {
    "vscode": {
     "languageId": "plaintext"
    }
   },
   "outputs": [],
   "source": [
    "# 論拠データを更新する"
   ]
  },
  {
   "cell_type": "markdown",
   "metadata": {},
   "source": [
    "## 再現性を確認する\n",
    "査読者に公開した論拠データが再現可能な状態であることを確認してください。<br>\n",
    "再現性を確認する機能を現在開発中のため、再現性の確認は手動で行ってください。"
   ]
  },
  {
   "cell_type": "markdown",
   "metadata": {},
   "source": [
    "## サブフローメニューを表示する"
   ]
  },
  {
   "cell_type": "code",
   "execution_count": null,
   "metadata": {
    "vscode": {
     "languageId": "plaintext"
    }
   },
   "outputs": [],
   "source": [
    "# サブフローメニューを表示する"
   ]
  }
 ],
 "metadata": {
  "language_info": {
   "name": "python"
  }
 },
 "nbformat": 4,
 "nbformat_minor": 2
}
