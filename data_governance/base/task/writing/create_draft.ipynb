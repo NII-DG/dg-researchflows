{
 "cells": [
  {
   "cell_type": "markdown",
   "metadata": {},
   "source": [
    "# 草稿を作成する\n",
    "リサーチフローの環境を利用して論文の草稿や論文に使用する図表の作成を行うタスクです。"
   ]
  },
  {
   "cell_type": "markdown",
   "metadata": {},
   "source": [
    "## 草稿を作成する\n",
    "リサーチフロー上でLaTex（文章作成ツール）を使用して論文の草稿を作成することが可能です。<br>\n",
    "LaTexを使用する場合は以下の説明に従って草稿の作成、および保存を行ってください。<br>\n",
    "リサーチフロー外で作成する場合は草稿の作成後、「フォルダを表示する」セルを実行して表示されるフォルダに直接アップロードしてください。"
   ]
  },
  {
   "cell_type": "markdown",
   "metadata": {},
   "source": [
    "### リサーチフロー上での草稿の作成\n",
    "1. 「フォルダを表示する」セルを実行することで草稿を作成するフォルダが表示されます。<br>\n",
    "2. 画像の説明に従って草稿を作成してください。<br>\n",
    "｛画像上で新しいファイルを.tex形式で作成し、そのファイルを編集することを説明｝（アップロードの方法も記載する）<br>\n",
    "<span style=\"color:red\">※ 草稿の編集後は必ず保存してからファイルを閉じてください</span>　"
   ]
  },
  {
   "cell_type": "code",
   "execution_count": null,
   "metadata": {
    "vscode": {
     "languageId": "plaintext"
    }
   },
   "outputs": [],
   "source": [
    "# フォルダを表示する"
   ]
  },
  {
   "cell_type": "markdown",
   "metadata": {},
   "source": [
    "terminalで以下のコマンドを実行することで.tex形式のファイルをPDFで出力することができます。<br>\n",
    "｛PDF化のコマンド｝<br>\n",
    "以下のセルを実行することでterminalを使用せずにPDF化することも可能です。<br>"
   ]
  },
  {
   "cell_type": "code",
   "execution_count": null,
   "metadata": {
    "vscode": {
     "languageId": "plaintext"
    }
   },
   "outputs": [],
   "source": [
    "# texファイルをPDFとして出力する"
   ]
  },
  {
   "cell_type": "markdown",
   "metadata": {},
   "source": [
    "## 図表を作成する\n",
    "Notebookを使用してリサーチフロー上で図表の作成が可能です。<br>\n",
    "新規作成のセルを実行し、「図表を作成する」ボタンを押下することで図表作成用のノートブックが作成されます。<br>\n",
    "<br>\n",
    "既に作成した図表の編集を行いたい場合は以下の手順に従ってください。<br>\n",
    "①「図表を編集する」セルを実行して、図表と図表生成用のノートブックが保存されているフォルダを表示する。<br>\n",
    "② 編集したい図表、またはノートブックを開いて編集する。<br>\n",
    "<br>\n",
    "また、リサーチフローを用いずに図表を作成した場合は以下の手順でアップロードを行ってください。<br>\n",
    "①「図表を編集する」セルを実行して、図表と図表生成用のノートブックが保存されているフォルダを表示する。<br>\n",
    "②「upload」ボタンから作成した図表をアップロードする。<br>"
   ]
  },
  {
   "cell_type": "markdown",
   "metadata": {},
   "source": [
    "### 1. 図表を新たに作成する"
   ]
  },
  {
   "cell_type": "code",
   "execution_count": null,
   "metadata": {
    "vscode": {
     "languageId": "plaintext"
    }
   },
   "outputs": [],
   "source": [
    "# 図表を新たに作成する"
   ]
  },
  {
   "cell_type": "markdown",
   "metadata": {},
   "source": [
    "### 2. 図表を編集する\n",
    "作成済みの図表を編集したい場合は「図表を編集する」セルを実行してください。<br>\n",
    "「フォルダを表示する」ボタンを押下することで図表および図表用ノートブックが保存されているフォルダを表示します。<br>\n",
    "リサーチフロー外から図表データをアップロードしたい場合は以下の図の説明に従って実行してください。<br>\n",
    "｛実際の画面を使用してフォルダへとアップロードする説明をする図｝"
   ]
  },
  {
   "cell_type": "code",
   "execution_count": null,
   "metadata": {
    "vscode": {
     "languageId": "plaintext"
    }
   },
   "outputs": [],
   "source": [
    "# 図表を編集する"
   ]
  },
  {
   "cell_type": "markdown",
   "metadata": {},
   "source": [
    "## 執筆における注意事項を確認する\n",
    "論文の執筆を行う際は以下の点に注意してください。<br>\n",
    "<br>\n",
    "・投稿先のテーマや目的に沿った記述を行う。<br>\n",
    "・規定に従った書き方をする。<br>\n",
    "・誤字脱字がないようにする。<br>\n",
    "・参考文献が適切か確認する。<br>\n",
    "・論文の構成を論理的かつ明確にする。<br>\n",
    "・データの信頼性と再現性を確保する。<br>\n",
    "・図表やグラフを適切に活用する。<br>\n",
    "・研究の独自性や新規性を強調する。<br>\n",
    "・倫理的な配慮を行う。<br>\n",
    "など"
   ]
  },
  {
   "cell_type": "markdown",
   "metadata": {},
   "source": [
    "## GakuNin RDMに保存する"
   ]
  },
  {
   "cell_type": "code",
   "execution_count": null,
   "metadata": {
    "vscode": {
     "languageId": "plaintext"
    }
   },
   "outputs": [],
   "source": [
    "# GakuNin RDMに保存する"
   ]
  },
  {
   "cell_type": "markdown",
   "metadata": {},
   "source": [
    "## サブフローメニューを表示する"
   ]
  },
  {
   "cell_type": "code",
   "execution_count": null,
   "metadata": {
    "vscode": {
     "languageId": "plaintext"
    }
   },
   "outputs": [],
   "source": [
    "# サブフローメニューを表示する"
   ]
  }
 ],
 "metadata": {
  "language_info": {
   "name": "python"
  }
 },
 "nbformat": 4,
 "nbformat_minor": 2
}
