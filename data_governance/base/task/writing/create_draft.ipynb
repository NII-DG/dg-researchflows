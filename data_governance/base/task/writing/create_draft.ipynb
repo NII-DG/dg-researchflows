{
 "cells": [
  {
   "cell_type": "markdown",
   "metadata": {},
   "source": [
    "# 草稿を作成する\n",
    "リサーチフローの環境を利用して論文の草稿や論文に使用する図表の作成を行うタスクです。"
   ]
  },
  {
   "cell_type": "markdown",
   "metadata": {},
   "source": [
    "## 草稿を作成する\n",
    "リサーチフロー上でLaTex（文章作成ツール）を使用して論文の草稿を作成することが可能です。<br>\n",
    "LaTexを使用する場合は以下の説明に従って草稿の作成、および保存を行ってください。<br>\n",
    "リサーチフロー外で作成する場合は草稿の作成後、「フォルダを表示する」セルを実行して表示されるフォルダに直接アップロードしてください。"
   ]
  },
  {
   "cell_type": "markdown",
   "metadata": {},
   "source": [
    "### リサーチフロー上での草稿の作成方法\n",
    "1. 「フォルダを表示する」セルを実行することで草稿を作成するフォルダが表示されます。<br>\n",
    "2. 画像の説明に従って草稿を作成してください。<br>\n",
    "｛画像上で新しいファイルを.tex形式で作成し、そのファイルを編集することを説明｝（アップロードの方法も記載する）<br>\n",
    "<span style=\"color:red\">※ 草稿の編集後は必ず保存してからファイルを閉じてください</span>　"
   ]
  },
  {
   "cell_type": "code",
   "execution_count": null,
   "metadata": {},
   "outputs": [],
   "source": [
    "# コピーしたデータを表示する\n",
    "import os\n",
    "import panel as pn\n",
    "from IPython.display import display\n",
    "from IPython.core.display import Javascript\n",
    "from library.utils.access import open_data_folder\n",
    "\n",
    "folder_name = 'draft'\n",
    "button_width = 500\n",
    "\n",
    "button = open_data_folder(os.path.abspath('__file__'))\n",
    "\n",
    "pn.extension()\n",
    "display(pn.pane.HTML(button, width=button_width))\n",
    "display(Javascript('IPython.notebook.save_checkpoint();'))"
   ]
  },
  {
   "cell_type": "markdown",
   "metadata": {},
   "source": [
    "3. 作成したtex形式の草稿をPDFとして出力する<br>\n",
    "terminalで以下のコマンドを実行することでtex形式のファイルを同じフォルダ内にPDFで出力することができます。<br>\n",
    "PDFファイルはtexファイルと同じ名前で、同名のPDFファイルが存在していた場合は上書きします。<br>\n",
    "pdflatex {対象のファイルまでのパス}<br>\n",
    "<br>\n",
    "以下のセルにファイル名を入力して実行することでterminalを使用せずにPDF化することも可能です。"
   ]
  },
  {
   "cell_type": "code",
   "execution_count": null,
   "metadata": {},
   "outputs": [],
   "source": [
    "# texファイルをPDFとして出力する\n",
    "import os\n",
    "from library.utils.setting import get_data_dir\n",
    "\n",
    "fail_name =\"\" #　ここにＰＤＦ化したいファイルを入力する(.texまで含む)\n",
    "\n",
    "dir_name = get_data_dir(os.path.abspath('__file__'))\n",
    "full_path = os.path.join(dir_name, 'draft', fail_name)\n",
    "\n",
    "# PDF化するコマンド\n",
    "!pdelatex {full_path}"
   ]
  },
  {
   "cell_type": "markdown",
   "metadata": {},
   "source": [
    "## 図表を作成する\n",
    "Notebookを使用してリサーチフロー上で図表の作成が可能です。<br>\n",
    "新しく図表を作成する場合は「図表を新たに作成する」ボタンを押下することで図表作成用のノートブックが作成されます。<br>\n",
    "<br>\n",
    "既に作成した図表の編集を行いたい場合は以下の手順に従ってください。<br>\n",
    "①「図表を編集する」セルを実行して、図表と図表生成用のノートブックが保存されているフォルダを表示する。<br>\n",
    "② 編集したい図表、またはノートブックを開いて編集する。<br>\n",
    "<br>\n",
    "また、リサーチフローを用いずに図表を作成した場合は以下の手順でアップロードを行ってください。<br>\n",
    "①「図表を編集する」セルを実行して、図表と図表生成用のノートブックが保存されているフォルダを表示する。<br>\n",
    "②「upload」ボタンから作成した図表をアップロードする。<br>"
   ]
  },
  {
   "cell_type": "markdown",
   "metadata": {},
   "source": [
    "### 1. 図表を新たに作成する"
   ]
  },
  {
   "cell_type": "code",
   "execution_count": null,
   "metadata": {},
   "outputs": [],
   "source": [
    "# 図表を新たに作成する\n",
    "import shutil\n",
    "\n",
    "import panel as pn\n",
    "\n",
    "from library.utils.access import open_notebook_file\n",
    "from library.task_director import TaskDirector\n",
    "from library.utils.config import message as msg_config\n",
    "from library.utils.setting import get_data_dir\n",
    "from library.utils.widgets import Button, MessageBox\n",
    "\n",
    "\n",
    "notebook_name = 'create_draft.ipynb'\n",
    "template_notebook_path = '/home/jovyan/data_gorvanance/base/task/writing/figure_template.ipynb'\n",
    "\n",
    "class CreateFigureNoteBook(TaskDirector):\n",
    "\n",
    "    def __init__(self, working_path: str):\n",
    "\n",
    "        self.working_path = working_path\n",
    "        super().__init__(self.working_path)\n",
    "\n",
    "    @TaskDirector.task_cell(\"3\")\n",
    "    def generate_name_form(self):\n",
    "\n",
    "        self.text_input = pn.widgets.TextInput(name= msg_config.get('create_draft', 'name_form_default'))\n",
    "        self.generate_button_title = msg_config.get('create_draft', 'create_notebook')\n",
    "        self.generate_button = Button(width=500)\n",
    "        self.generate_button.set_looks_init(self.generate_button_title)\n",
    "        self.generate_button.on_click(self.generate)\n",
    "\n",
    "        self.name_form_message = MessageBox()\n",
    "        self.name_form_message.width = 900\n",
    "\n",
    "    @TaskDirector.callback_form('図表用ノートブックを作成する')\n",
    "    def generate(self, event):\n",
    "\n",
    "        if not self.text_input.value or self.text_input.value == msg_config.get('create_draft', 'name_form_default'):\n",
    "            self.name_form_message.update_warning(msg_config.get('create_draft', 'name_form_warning'))\n",
    "            display(self.name_form_message)\n",
    "            return\n",
    "\n",
    "        full_file_name = self.text_input.value + \".ipynb\"\n",
    "        dir_name = os.path.join(get_data_dir(self.working_path), 'figure')\n",
    "\n",
    "        if os.path.exists(os.path.join(dir_name, full_file_name)):\n",
    "            self.name_form_message.update_warning(msg_config.get('create_draft', 'file_existed_warning'))\n",
    "            display(self.name_form_message)\n",
    "            return\n",
    "\n",
    "        else:\n",
    "            output_file_path = os.path.join(dir_name, full_file_name)\n",
    "            shutil.copy(template_notebook_path, output_file_path)\n",
    "            open_notebook_file(self.working_path, full_file_name)\n",
    "\n",
    "\n",
    "CreateFigureNoteBook(working_path=os.path.abspath('__file__')).generate_name_form()"
   ]
  },
  {
   "cell_type": "markdown",
   "metadata": {},
   "source": [
    "### 2. 図表を編集する\n",
    "作成済みの図表を編集したい場合は「図表フォルダを表示する」セルを実行してください。<br>\n",
    "「フォルダを表示する」ボタンを押下することで図表および図表用ノートブックが保存されているフォルダを表示します。<br>\n",
    "リサーチフロー外から図表データをアップロードしたい場合は以下の図の説明に従って実行してください。<br>\n",
    "｛実際の画面を使用してフォルダへとアップロードする説明をする図｝"
   ]
  },
  {
   "cell_type": "code",
   "execution_count": null,
   "metadata": {},
   "outputs": [],
   "source": [
    "# 図表フォルダを表示する\n",
    "import os\n",
    "import panel as pn\n",
    "from IPython.display import display\n",
    "from IPython.core.display import Javascript\n",
    "from library.utils.access import open_data_folder\n",
    "\n",
    "folder_name = 'figure'\n",
    "button_width = 500\n",
    "\n",
    "button = open_data_folder(os.path.abspath('__file__'))\n",
    "\n",
    "pn.extension()\n",
    "display(pn.pane.HTML(button, width=button_width))\n",
    "display(Javascript('IPython.notebook.save_checkpoint();'))"
   ]
  },
  {
   "cell_type": "markdown",
   "metadata": {},
   "source": [
    "## 執筆における注意事項を確認する\n",
    "論文の執筆を行う際は以下の点に注意してください。<br>\n",
    "<br>\n",
    "・投稿先のテーマや目的に沿った記述を行う。<br>\n",
    "・規定に従った書き方をする。<br>\n",
    "・誤字脱字がないようにする。<br>\n",
    "・参考文献が適切か確認する。<br>\n",
    "・論文の構成を論理的かつ明確にする。<br>\n",
    "・データの信頼性と再現性を確保する。<br>\n",
    "・図表やグラフを適切に活用する。<br>\n",
    "・研究の独自性や新規性を強調する。<br>\n",
    "・倫理的な配慮を行う。<br>\n",
    "など"
   ]
  },
  {
   "cell_type": "markdown",
   "metadata": {},
   "source": [
    "## GakuNin RDMに保存する"
   ]
  },
  {
   "cell_type": "code",
   "execution_count": null,
   "metadata": {},
   "outputs": [],
   "source": [
    "# GakuNin RDMに保存する\n",
    "from IPython.core.display import Javascript\n",
    "from IPython.display import display\n",
    "\n",
    "import panel as pn\n",
    "\n",
    "from library.task_director import TaskDirector\n",
    "from library.utils.setting import get_data_dir\n",
    "\n",
    "script_file_name = 'save_data'\n",
    "notebook_name = script_file_name+'.ipynb'\n",
    "\n",
    "\n",
    "class DataSaver(TaskDirector):\n",
    "    \"\"\"GRDMに保存するクラスです。\n",
    "\n",
    "    Attributes:\n",
    "        instance:\n",
    "            _abs_root_path (str): 絶対パス\n",
    "            save_form_box(pn.WidgetBox):フォームを格納する。\n",
    "            save_msg_output(Message):ユーザーに提示するメッセージを格納する。\n",
    "    \"\"\"\n",
    "\n",
    "    def __init__(self, working_path: str) -> None:\n",
    "        \"\"\"DataSaver コンストラクタメソッドです。\n",
    "\n",
    "        Args:\n",
    "            working_path (str): 実行Notebookファイルパス\n",
    "        \"\"\"\n",
    "        self.working_path = working_path\n",
    "        super().__init__(self.working_path, notebook_name)\n",
    "\n",
    "    @TaskDirector.task_cell(\"1\")\n",
    "    def generate_form_section(self):\n",
    "        \"\"\"取得したデータを表示するメソッドです。\"\"\"\n",
    "        # タスク開始によるサブフローステータス管理JSONの更新\n",
    "        self.doing_task()\n",
    "\n",
    "        # フォーム定義\n",
    "        data_dir = get_data_dir(self.working_path)\n",
    "        source = [os.path.join(data_dir, 'argument_data'), os.path.join(data_dir, 'draft'), os.path.join(data_dir, 'figure')]\n",
    "        self.define_save_form(source)\n",
    "        # フォーム表示\n",
    "        pn.extension()\n",
    "        form_section = pn.WidgetBox()\n",
    "        form_section.append(self.save_form_box)\n",
    "        form_section.append(self.save_msg_output)\n",
    "        display(form_section)\n",
    "        display(Javascript('IPython.notebook.save_checkpoint();'))\n",
    "\n",
    "\n",
    "DataSaver(working_path=os.path.abspath('__file__')).generate_form_section()"
   ]
  },
  {
   "cell_type": "markdown",
   "metadata": {},
   "source": [
    "## サブフローメニューを表示する"
   ]
  },
  {
   "cell_type": "code",
   "execution_count": null,
   "metadata": {},
   "outputs": [],
   "source": [
    "# サブフローメニューを表示する\n",
    "import os\n",
    "\n",
    "from library.task_director import TaskDirector\n",
    "\n",
    "script_file_name = \"make_research_data_management_plan\"\n",
    "notebook_name = script_file_name+'.ipynb'\n",
    "TaskDirector(os.path.abspath('__file__'), notebook_name).return_subflow_menu()"
   ]
  }
 ],
 "metadata": {
  "language_info": {
   "name": "python"
  }
 },
 "nbformat": 4,
 "nbformat_minor": 2
}
