{
 "cells": [
  {
   "cell_type": "markdown",
   "metadata": {},
   "source": [
    "# 図表を作成する\n",
    "このノートブックではコードセルを使用して図表を作成することが可能です。<br>\n",
    "ノートブックは図表ごとに作成し、図表と元データの関連性がわかるようにノートブックに明記した上で図表と共に管理してください。<br>\n",
    "<span style=\"color:red\">※このノートブックを編集した際は必ず保存してから終了してください。</span>"
   ]
  },
  {
   "cell_type": "markdown",
   "metadata": {},
   "source": [
    "## 入力データを表示する\n",
    "グラフの作成に用いるデータを読み込みます。<br>\n",
    "「論拠データを表示する」セルを実行して表示した論拠データのフォルダから読み込ませたいデータを選択し、「ファイルを読み込む」セルにファイル名を書き込んでください。<br>\n",
    "必要なファイル名を書き込んだ後、セルを実行することでファイルを読み込むことが可能です。<br>\n",
    "ファイルは複数選択することも可能です。<br>\n",
    "<br>\n",
    "グラフの作成には論拠データとして保存したものを使用してください。<br>\n",
    "論拠データとして保存していないデータを使用したい場合はデータを追加してください。<br>\n",
    "現在、読み込み可能なデータの形式はcsv、excel、textのみとなっています。<br>\n",
    "それ以外の形式のファイルを読み込む場合はコードセルを修正してください。<br>"
   ]
  },
  {
   "cell_type": "code",
   "execution_count": null,
   "metadata": {},
   "outputs": [],
   "source": [
    "# 論拠データを表示する\n",
    "import os\n",
    "import panel as pn\n",
    "from IPython.display import display\n",
    "from IPython.core.display import Javascript\n",
    "from library.utils.access import open_data_folder\n",
    "\n",
    "folder_name = 'argument_data'\n",
    "button_width = 500\n",
    "\n",
    "button = open_data_folder(os.path.abspath('__file__'))\n",
    "\n",
    "pn.extension()\n",
    "display(pn.pane.HTML(button, width=button_width))\n",
    "display(Javascript('IPython.notebook.save_checkpoint();'))"
   ]
  },
  {
   "cell_type": "code",
   "execution_count": null,
   "metadata": {},
   "outputs": [],
   "source": [
    "# ファイルを読み込む\n",
    "import os\n",
    "from IPython.display import display, Javascript\n",
    "\n",
    "import pandas as pd\n",
    "import matplotlib.pyplot as plt\n",
    "\n",
    "from library.utils.config import message as msg_config\n",
    "from library.utils.setting import get_data_dir\n",
    "from library.task_director import TaskDirector\n",
    "from library.utils.widgets import MessageBox\n",
    "\n",
    "# ここに読み込むファイル名を書く(例：load_files =[\"sample.text\", \"sample2.csv\"])\n",
    "load_files =[]\n",
    "\n",
    "class LoadFile(TaskDirector):\n",
    "\n",
    "    def __init__(self, working_path: str):\n",
    "        \"\"\"DataSaver コンストラクタメソッドです。\n",
    "\n",
    "        Args:\n",
    "            working_path (str): 実行Notebookファイルパス\n",
    "        \"\"\"\n",
    "        self.working_path = working_path\n",
    "        notebook_name = self.get_notebook_name()\n",
    "        super().__init__(self.working_path, notebook_name)\n",
    "\n",
    "    def get_notebook_name(self):\n",
    "        script = \"\"\"\n",
    "        var kernel = Jupyter.notebook.kernel;\n",
    "        var notebook_name = Jupyter.notebook.notebook_name;\n",
    "        kernel.execute(\"notebook_name = '\" + notebook_name + \"'\")\n",
    "        \"\"\"\n",
    "        display(Javascript(script))\n",
    "        return notebook_name\n",
    "\n",
    "    @TaskDirector.task_cell(\"2\")\n",
    "    def load_file(self):\n",
    "\n",
    "        self.doing_task()\n",
    "\n",
    "        self.load_error_message = MessageBox()\n",
    "        self.load_error_message.width = 900\n",
    "\n",
    "        if not load_files:\n",
    "            self.load_error_message.update_warning(msg_config.get('figure_template', 'file_not_exist'))\n",
    "            display(self.load_error_message)\n",
    "            return\n",
    "\n",
    "        dir_name = os.path.join(get_data_dir(self.working_path), 'argument_data')\n",
    "        error_files = []\n",
    "\n",
    "        for index, file_name in enumerate(load_files):\n",
    "            file_path = os.path.join(dir_name, file_name)\n",
    "            if os.path.exists(file_path):\n",
    "                extension = os.path.splitext(file_name)[1]\n",
    "\n",
    "                if extension == \".csv\" or \".txt\":\n",
    "                    f\"df:{file_name}\" = pd.read_csv(file_path)\n",
    "                    display(f\"df:{file_name}\")\n",
    "                elif extension == \"xlsx\":\n",
    "                    f\"df:{file_name}\" = pd.read_excel(file_path) #特定のシートを読み込みたい場合はsheet_name = \"\")を引数に加える\n",
    "                    display(f\"df:{file_name}\")\n",
    "\n",
    "                else:\n",
    "                    error_files.append(file_name)\n",
    "\n",
    "            else:\n",
    "                error_files.append(file_name)\n",
    "\n",
    "        if error_files:\n",
    "            self.load_error_message.update_warning(msg_config.get('figure_template', 'file_error') + error_files)\n",
    "            display(self.load_error_message)\n",
    "\n",
    "        self.done_task()\n",
    "        display(Javascript('IPython.notebook.save_checkpoint();'))\n",
    "\n",
    "LoadFile(os.path.abspath('__file__')).load_file()\n"
   ]
  },
  {
   "cell_type": "markdown",
   "metadata": {},
   "source": [
    "## 図表を作成する\n",
    "論拠データを使用して図表の作成を行ってください。"
   ]
  },
  {
   "cell_type": "markdown",
   "metadata": {},
   "source": [
    "### 1. 表を作成する\n",
    "このセルはあらかじめンプルの表が生成されるように記述されています。<br>\n",
    "表を作成する際はサンプルのコードを書き換えて使用してください。<br>\n",
    "サンプルの表の作成に使用しているライブラリの使い方を知りたい場合は[こちら](https://pandas.pydata.org/)をクリックしてください。<br>\n",
    "セルを実行することで作成した表を出力することができます。"
   ]
  },
  {
   "cell_type": "code",
   "execution_count": null,
   "metadata": {},
   "outputs": [],
   "source": [
    "# コードセルで作成する\n",
    "\n",
    "#使用するデータフレーム(出力されたデータフレームの名前、df:{ファイル名}を入力してください)\n",
    "df1 = \"\"\n",
    "\n",
    "df1[['Column1', 'Column2']]\n",
    "\n",
    "display(df1)"
   ]
  },
  {
   "cell_type": "markdown",
   "metadata": {},
   "source": [
    "#### 作成した表を保存する<br>\n",
    "作成した表の保存を行います。<br>\n",
    "コードセルに保存するファイル名を書き込み、実行してください。<br>\n",
    "作成した表はノートブックと同じフォルダに保存されます。<br>\n",
    "また、表は画像ファイル(png)として保存されます。<br>\n",
    "異なる形式で出力したい場合はセルのコードを書き換えて下さい。\n"
   ]
  },
  {
   "cell_type": "code",
   "execution_count": null,
   "metadata": {},
   "outputs": [],
   "source": [
    "# 表を保存する\n",
    "#保存する際の名前を入力してください(例：\"sample.png\")\n",
    "table_name = \"\"\n",
    "\n",
    "# matplotlibのFigureとAxesを設定\n",
    "fig, ax = plt.subplots(figsize=(8, 4))  # 表のサイズを指定\n",
    "\n",
    "# 表をプロット（データフレームをmatplotlibのtable形式で表示）\n",
    "ax.axis('tight')\n",
    "ax.axis('off')  # 軸は非表示にする\n",
    "\n",
    "# データフレームをmatplotlibのtableに変換して表示\n",
    "table = ax.table(cellText=df1.values, colLabels=df1.columns, loc='center')\n",
    "\n",
    "# 画像として保存\n",
    "plt.savefig(table_name, format='png', bbox_inches='tight', dpi=300)"
   ]
  },
  {
   "cell_type": "markdown",
   "metadata": {},
   "source": [
    "### 2. グラフを作成する\n",
    "このセルはあらかじめサンプルの棒グラフが生成されるようになっています。<br>\n",
    "グラフを作成する際はサンプルのコードを書き換えて使用してください。<br>\n",
    "他のグラフを使用したり見た目を変更したい場合はライブラリの使い方を確認してください。<br>\n",
    "サンプルグラフの作成に使用しているライブラリの使い方を知りたい場合は[こちら]( https://matplotlib.org/)をクリックしてください。<br>\n",
    "セルを実行することで作成したグラフを出力することができます。"
   ]
  },
  {
   "cell_type": "code",
   "execution_count": null,
   "metadata": {},
   "outputs": [],
   "source": [
    "# コードセルで作成する\n",
    "#使用するデータフレーム(出力されたデータフレームの名前、df:{ファイル名}を入力してください)\n",
    "df1 = \"\"\n",
    "\n",
    "# 'Name'をx軸、'Age'をy軸にして棒グラフを作成\n",
    "df1.plot(kind='bar', x='Name', y='Age', legend=False)\n",
    "\n",
    "# タイトルと軸ラベルを追加\n",
    "plt.title('Age of People')\n",
    "plt.xlabel('Name')\n",
    "plt.ylabel('Age')\n",
    "\n",
    "# グラフを表示\n",
    "plt.show()"
   ]
  },
  {
   "cell_type": "markdown",
   "metadata": {},
   "source": [
    "#### 作成したグラフを保存する<br>\n",
    "作成したグラフの保存を行います。<br>\n",
    "コードセルに保存するファイル名を書き込み、実行してください。<br>\n",
    "作成したグラフはノートブックと同じフォルダに保存されます。<br>\n",
    "また、グラフは画像ファイル(png)として保存されます。<br>\n",
    "異なる形式で出力したい場合はセルのコードを書き換えて下さい。\n"
   ]
  },
  {
   "cell_type": "code",
   "execution_count": null,
   "metadata": {},
   "outputs": [],
   "source": [
    "# グラフを保存する\n",
    "#保存する際の名前を入力してください(例：\"sample.png\")\n",
    "graph_name = \"\"\n",
    "\n",
    "plt.savefig(graph_name, format='png', bbox_inches='tight', dpi=300)"
   ]
  }
 ],
 "metadata": {
  "language_info": {
   "name": "python"
  }
 },
 "nbformat": 4,
 "nbformat_minor": 2
}
