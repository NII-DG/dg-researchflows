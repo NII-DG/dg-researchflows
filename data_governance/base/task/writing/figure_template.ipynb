{
 "cells": [
  {
   "cell_type": "markdown",
   "metadata": {},
   "source": [
    "# 図表を作成する\n",
    "このノートブックではコードセルを使用して図表を作成することが可能です。<br>\n",
    "ノートブックは図表ごとに作成し、図表と元データの関連性がわかるようにノートブックに明記した上で図表と共に管理してください。<br>\n",
    "<span style=\"color:red\">※このノートブックを編集した際は必ず保存してから終了してください。</span>"
   ]
  },
  {
   "cell_type": "markdown",
   "metadata": {},
   "source": [
    "## 入力データを表示する\n",
    "グラフの作成に用いるデータを読み込みます。<br>\n",
    "「論拠データを表示する」セルを実行して表示した論拠データのフォルダから読み込ませたいデータを選択し、「ファイルを読み込む」セルにファイル名を書き込んでください。<br>\n",
    "必要なファイル名を書き込んだ後、セルを実行することでファイルを読み込むことが可能です。<br>\n",
    "ファイルは複数選択することも可能です。<br>\n",
    "<br>\n",
    "グラフの作成には論拠データとして保存したものを使用してください。<br>\n",
    "論拠データとして保存していないデータを使用したい場合はデータを追加してください。<br>\n",
    "現在、読み込み可能なデータの形式はcsv、excel、textのみとなっています。<br>\n",
    "それ以外の形式のファイルを読み込む場合はコードセルを修正してください。<br>"
   ]
  },
  {
   "cell_type": "code",
   "execution_count": null,
   "metadata": {
    "code_folding": [
     0
    ],
    "disable_pins": true
   },
   "outputs": [],
   "source": [
    "# 論拠データを表示する\n",
    "import os\n",
    "\n",
    "from IPython.core.display import Javascript\n",
    "from IPython.display import display\n",
    "import panel as pn\n",
    "\n",
    "from library.utils.config import message as msg_config\n",
    "from library.utils.html.button import create_button\n",
    "from library.utils import file\n",
    "\n",
    "\n",
    "def access_argument_data(working_path):\n",
    "    \"\"\"論拠データにアクセスするためのメソッドです。\"\"\"\n",
    "\n",
    "    folder_name = 'argument_data'\n",
    "    button_width = 500\n",
    "    # /dataからargument_dataまで\n",
    "    home = os.environ['HOME']\n",
    "    data_dir = file.relative_path(working_path, home)\n",
    "    data_dir = os.path.dirname(data_dir)\n",
    "    argument_dir = os.path.join(os.path.dirname(data_dir), folder_name)\n",
    "    # 現在地からhomeまで\n",
    "    script_dir = os.path.dirname(working_path)\n",
    "    script_dir = file.relative_path(home, script_dir)\n",
    "    # ディレクトリを表示するのでtreeにする\n",
    "    url = os.path.join(script_dir, '../tree/', argument_dir)\n",
    "\n",
    "    obj = create_button(\n",
    "        url=url,\n",
    "        target='_blank',\n",
    "        msg=msg_config.get('task', 'access_data_dir'),\n",
    "        button_width=f'{button_width}px'\n",
    "    )\n",
    "\n",
    "    pn.extension()\n",
    "    display(pn.pane.HTML(obj))\n",
    "    display(Javascript('IPython.notebook.save_checkpoint();'))\n",
    "\n",
    "access_argument_data(os.path.abspath('__file__'))"
   ]
  },
  {
   "cell_type": "code",
   "execution_count": null,
   "metadata": {
    "code_folding": [
     0
    ],
    "disable_pins": true
   },
   "outputs": [],
   "source": [
    "# ファイルを読み込む\n",
    "import os\n",
    "\n",
    "from IPython.display import display, Javascript\n",
    "import panel as pn\n",
    "import pandas as pd\n",
    "import matplotlib.pyplot as plt\n",
    "\n",
    "from library.utils.config import message as msg_config\n",
    "from library.utils.widgets import MessageBox\n",
    "\n",
    "\n",
    "# ここに読み込むファイル名を書く(例：load_files =[\"sample.text\", \"sample2.csv\"])\n",
    "load_files = [\"file.csv\", \"notfou\", \"hi.py\"]\n",
    "output_data = {}\n",
    "\n",
    "def load_file(working_path):\n",
    "    \"\"\"指定されたファイルを読み込んで表示するメソッドです。\n",
    "\n",
    "    Args:\n",
    "        working_path (_type_): 実行Notebookパス\n",
    "\n",
    "    \"\"\"\n",
    "    folder_name = 'argument_data'\n",
    "    # メッセージボックスの設定\n",
    "    load_not_found_message = MessageBox()\n",
    "    load_not_found_message.width = 900\n",
    "    load_invalid_message = MessageBox()\n",
    "    load_invalid_message.width = 900\n",
    "\n",
    "    pn.extension()\n",
    "\n",
    "    # ファイル名が指定されていない\n",
    "    if not load_files:\n",
    "        load_not_found_message.update_warning(\n",
    "            msg_config.get('figure_template', 'file_not_specify'))\n",
    "        display(load_not_found_message)\n",
    "        return\n",
    "\n",
    "    # データの保存場所までの絶対パス\n",
    "    data_dir = os.path.dirname(working_path)\n",
    "    argument_dir = os.path.join(os.path.dirname(data_dir), folder_name)\n",
    "    print(argument_dir)\n",
    "\n",
    "    argument_files = {}\n",
    "    not_exist_files = []\n",
    "    invalid_files = []\n",
    "    # argument_data配下の全てのファイルを走査\n",
    "    for root, dirs, files in os.walk(argument_dir):\n",
    "        print(files)\n",
    "        for file in files:\n",
    "            argument_files[file] = os.path.join(root, file)\n",
    "\n",
    "    # 指定したファイルが読み込めるかの判定\n",
    "    for file in load_files:\n",
    "        if file in argument_files:\n",
    "            extension = os.path.splitext(file)[1]\n",
    "            if extension == \".csv\" or extension == \".txt\":\n",
    "                output_data[file] = pd.read_csv(argument_files[file])\n",
    "                display(output_data[file]) #特定のシートを読み込みたい場合はsheet_name = \"\")を引数に加える\n",
    "            elif extension == \"xlsx\":\n",
    "                output_data[file] = pd.read_excel(argument_files[file])\n",
    "                display(output_data[file])\n",
    "\n",
    "            else:\n",
    "                invalid_files.append(file)\n",
    "                print(\"エラー１\")\n",
    "\n",
    "        else:\n",
    "            not_exist_files.append(file)\n",
    "            print(\"エラー2\")\n",
    "\n",
    "    # ファイルが存在しない場合のメッセージ\n",
    "    if not_exist_files:\n",
    "        load_not_found_message.update_warning(msg_config.get(\n",
    "            'figure_template', 'fail_not_exist') + \", \".join(not_exist_files))\n",
    "        display(load_not_found_message)\n",
    "    # ファイルが指定された形式でない場合のメッセージ\n",
    "    if invalid_files:\n",
    "        load_invalid_message(msg_config.get(\n",
    "            'figure_template', 'file_invalid') + \", \".join(invalid_files))\n",
    "        display(load_invalid_message)\n",
    "\n",
    "    display(Javascript('IPython.notebook.save_checkpoint();'))\n",
    "\n",
    "\n",
    "load_file(os.path.abspath('__file__'))"
   ]
  },
  {
   "cell_type": "markdown",
   "metadata": {},
   "source": [
    "## 図表を作成する\n",
    "論拠データを使用して図表の作成を行ってください。"
   ]
  },
  {
   "cell_type": "markdown",
   "metadata": {},
   "source": [
    "### 1. 表を作成する\n",
    "このセルはあらかじめンプルの表が生成されるように記述されています。<br>\n",
    "表を作成する際はサンプルのコードを書き換えて使用してください。<br>\n",
    "サンプルの表の作成に使用しているライブラリの使い方を知りたい場合は[こちら](https://pandas.pydata.org/)をクリックしてください。<br>\n",
    "セルを実行することで作成した表を出力することができます。"
   ]
  },
  {
   "cell_type": "code",
   "execution_count": null,
   "metadata": {
    "code_folding": [
     0
    ],
    "disable_pins": true
   },
   "outputs": [],
   "source": [
    "# コードセルで作成する\n",
    "\n",
    "#使用するデータフレーム(出力されたデータフレームの名前、df:{ファイル名}を入力してください)\n",
    "df1 = \"file.csv\"\n",
    "use_data = output_data[df1]\n",
    "display(use_data)\n",
    "\n",
    "use_data[['Column1', 'Column2']]\n",
    "\n",
    "display(use_data)"
   ]
  },
  {
   "cell_type": "markdown",
   "metadata": {},
   "source": [
    "#### 作成した表を保存する<br>\n",
    "作成した表の保存を行います。<br>\n",
    "コードセルに保存するファイル名を書き込み、実行してください。<br>\n",
    "作成した表はノートブックと同じフォルダに保存されます。<br>\n",
    "また、表は画像ファイル(png)として保存されます。<br>\n",
    "異なる形式で出力したい場合はセルのコードを書き換えて下さい。\n"
   ]
  },
  {
   "cell_type": "code",
   "execution_count": null,
   "metadata": {
    "code_folding": [
     0
    ],
    "disable_pins": true
   },
   "outputs": [],
   "source": [
    "# 表を保存する\n",
    "#保存する際の名前を入力してください(例：\"sample.png\")\n",
    "table_name = \"\"\n",
    "\n",
    "# matplotlibのFigureとAxesを設定\n",
    "fig, ax = plt.subplots(figsize=(8, 4))  # 表のサイズを指定\n",
    "\n",
    "# 表をプロット（データフレームをmatplotlibのtable形式で表示）\n",
    "ax.axis('tight')\n",
    "ax.axis('off')  # 軸は非表示にする\n",
    "\n",
    "# データフレームをmatplotlibのtableに変換して表示\n",
    "table = ax.table(cellText=df1.values, colLabels=df1.columns, loc='center')\n",
    "\n",
    "# 画像として保存\n",
    "plt.savefig(table_name, format='png', bbox_inches='tight', dpi=300)"
   ]
  },
  {
   "cell_type": "markdown",
   "metadata": {},
   "source": [
    "### 2. グラフを作成する\n",
    "このセルはあらかじめサンプルの棒グラフが生成されるようになっています。<br>\n",
    "グラフを作成する際はサンプルのコードを書き換えて使用してください。<br>\n",
    "他のグラフを使用したり見た目を変更したい場合はライブラリの使い方を確認してください。<br>\n",
    "サンプルグラフの作成に使用しているライブラリの使い方を知りたい場合は[こちら]( https://matplotlib.org/)をクリックしてください。<br>\n",
    "セルを実行することで作成したグラフを出力することができます。"
   ]
  },
  {
   "cell_type": "code",
   "execution_count": null,
   "metadata": {
    "code_folding": [
     0
    ],
    "disable_pins": true
   },
   "outputs": [],
   "source": [
    "# コードセルで作成する\n",
    "#使用するデータフレーム(出力されたデータフレームの名前、df:{ファイル名}を入力してください)\n",
    "df1 = \"\"\n",
    "\n",
    "# 'Name'をx軸、'Age'をy軸にして棒グラフを作成\n",
    "df1.plot(kind='bar', x='Name', y='Age', legend=False)\n",
    "\n",
    "# タイトルと軸ラベルを追加\n",
    "plt.title('Age of People')\n",
    "plt.xlabel('Name')\n",
    "plt.ylabel('Age')\n",
    "\n",
    "# グラフを表示\n",
    "plt.show()"
   ]
  },
  {
   "cell_type": "markdown",
   "metadata": {},
   "source": [
    "#### 作成したグラフを保存する<br>\n",
    "作成したグラフの保存を行います。<br>\n",
    "コードセルに保存するファイル名を書き込み、実行してください。<br>\n",
    "作成したグラフはノートブックと同じフォルダに保存されます。<br>\n",
    "また、グラフは画像ファイル(png)として保存されます。<br>\n",
    "異なる形式で出力したい場合はセルのコードを書き換えて下さい。\n"
   ]
  },
  {
   "cell_type": "code",
   "execution_count": null,
   "metadata": {
    "code_folding": [
     0
    ],
    "disable_pins": true
   },
   "outputs": [],
   "source": [
    "# グラフを保存する\n",
    "#保存する際の名前を入力してください(例：\"sample.png\")\n",
    "graph_name = \"\"\n",
    "\n",
    "\n",
    "plt.savefig(graph_name, format='png', bbox_inches='tight', dpi=300)"
   ]
  }
 ],
 "metadata": {
  "language_info": {
   "name": "python"
  }
 },
 "nbformat": 4,
 "nbformat_minor": 2
}
