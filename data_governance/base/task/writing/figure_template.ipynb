{
 "cells": [
  {
   "cell_type": "markdown",
   "metadata": {},
   "source": [
    "# 図表を作成する\n",
    "このノートブックではコードセルを使用して図表を作成することが可能です。<br>\n",
    "ノートブックは図表ごとに作成し、図表と元データの関連性がわかるようにノートブックに明記した上で図表と共に管理してください。<br>\n",
    "<span style=\"color:red\">※このノートブックを編集した際は必ず保存してから終了してください。</span>"
   ]
  },
  {
   "cell_type": "markdown",
   "metadata": {},
   "source": [
    "## 入力データを表示する\n",
    "グラフの作成に用いるデータを選択してください。<br>\n",
    "「データを読み込む」セルにファイル名を書き込むことでデータを読み込むことが可能です。<br>\n",
    "グラフの作成には論拠データとして整理したものを使用してください。<br>\n",
    "論拠データとして保存していないデータを使用したい場合は「論拠データを整理する」タスクに戻り、データを追加してください。<br>\n",
    "読み込み可能なデータの形式はcsv、excel、textのみとなっています。<br>\n",
    "それ以外の形式のファイルを読み込む場合はコードセルを修正してください。<br>"
   ]
  },
  {
   "cell_type": "code",
   "execution_count": null,
   "metadata": {
    "vscode": {
     "languageId": "plaintext"
    }
   },
   "outputs": [],
   "source": [
    "# 論拠データを表示する"
   ]
  },
  {
   "cell_type": "code",
   "execution_count": null,
   "metadata": {
    "vscode": {
     "languageId": "plaintext"
    }
   },
   "outputs": [],
   "source": [
    "# 入力データを読み込む"
   ]
  },
  {
   "cell_type": "markdown",
   "metadata": {},
   "source": [
    "## 図表を作成する\n",
    "論拠データを使用して図表の作成を行ってください。"
   ]
  },
  {
   "cell_type": "markdown",
   "metadata": {},
   "source": [
    "### 1. 表を作成する\n",
    "このセルはサンプルの表が生成されるように記述されています。<br>\n",
    "表を作成する際はサンプルのコードを書き換えて使用してください。<br>\n",
    "サンプルの表の作成に使用しているライブラリの使い方を知りたい場合は[こちら](https://pandas.pydata.org/)をクリックしてください。<br>\n",
    "セルを実行することで作成した表を出力することができます。"
   ]
  },
  {
   "cell_type": "code",
   "execution_count": null,
   "metadata": {
    "vscode": {
     "languageId": "plaintext"
    }
   },
   "outputs": [],
   "source": [
    "# コードセルで作成する"
   ]
  },
  {
   "cell_type": "markdown",
   "metadata": {},
   "source": [
    "#### 作成した表を保存する<br>\n",
    "作成した表の保存を行います。<br>\n",
    "コードセルに保存するファイル名を書き込み、実行してください。<br>\n",
    "作成した表はノートブックと同じフォルダに保存されます。<br>\n",
    "また、表は画像ファイル(png)として保存されます。<br>\n",
    "他の形式で出力したい場合はセルのコードを書き換えて下さい。\n"
   ]
  },
  {
   "cell_type": "code",
   "execution_count": null,
   "metadata": {
    "vscode": {
     "languageId": "plaintext"
    }
   },
   "outputs": [],
   "source": [
    "# 表を保存する"
   ]
  },
  {
   "cell_type": "markdown",
   "metadata": {},
   "source": [
    "### 2. グラフを作成する\n",
    "このセルはサンプルとして棒グラフが生成されるようになっています。<br>\n",
    "グラフを作成する際はサンプルのコードを書き換えて使用してください。<br>\n",
    "他のグラフを使用したり見た目を変更したい場合はライブラリの使い方を確認してください。<br>\n",
    "サンプルグラフの作成に使用しているライブラリの使い方を知りたい場合は[こちら]( https://matplotlib.org/)をクリックしてください。<br>\n",
    "セルを実行することで作成したグラフを出力することができます。"
   ]
  },
  {
   "cell_type": "code",
   "execution_count": null,
   "metadata": {
    "vscode": {
     "languageId": "plaintext"
    }
   },
   "outputs": [],
   "source": [
    "# コードセルで作成する"
   ]
  },
  {
   "cell_type": "markdown",
   "metadata": {},
   "source": [
    "#### 作成したグラフを保存する<br>\n",
    "作成したグラフの保存を行います。<br>\n",
    "コードセルに保存するファイル名を書き込み、実行してください。<br>\n",
    "作成したグラフはノートブックと同じフォルダに保存されます。<br>\n",
    "また、グラフは画像ファイル(png)として保存されます。<br>\n",
    "他の形式で出力したい場合はセルのコードを書き換えて下さい。\n"
   ]
  },
  {
   "cell_type": "code",
   "execution_count": null,
   "metadata": {
    "vscode": {
     "languageId": "plaintext"
    }
   },
   "outputs": [],
   "source": [
    "# グラフを保存する"
   ]
  }
 ],
 "metadata": {
  "language_info": {
   "name": "python"
  }
 },
 "nbformat": 4,
 "nbformat_minor": 2
}
