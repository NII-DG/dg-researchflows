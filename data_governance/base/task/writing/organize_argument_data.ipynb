{
 "cells": [
  {
   "cell_type": "markdown",
   "metadata": {},
   "source": [
    "# 論拠データを整理する\n",
    "論拠データを作成するためのタスクです。<br>\n",
    "リサーチフローにおいて論拠データは公開する論文の根拠となるデータとして作成します。<br>\n",
    "このタスクでは論拠データが公開に適したものになるよう、実験データから論文に必要のないものを除外して整理する作業をお行ってください。<br>\n",
    "また、論拠データは論文に即したものになるよう、論文の内容に合わせて適宜修正してください。"
   ]
  },
  {
   "cell_type": "markdown",
   "metadata": {},
   "source": [
    "## 論拠データを整理する\n",
    "以下の手順に従って論拠データの整理を行ってください。\n"
   ]
  },
  {
   "cell_type": "markdown",
   "metadata": {},
   "source": [
    "### 1. リサーチフローのデータをコピーする\n",
    "親サブフローになっている実験サブフローから必要な実験データをコピーして下さい。<br>\n",
    "「リサーチフローのデータをコピーする」セルを実行することで親サブフローになっている実験サブフローのフォルダと論拠データを格納するためのフォルダを表示することができます。<br>\n",
    "以下の図の説明に従ってデータのコピーを行ってください。<br>\n",
    "<br>\n",
    "![ダウンロード手順](./images/RF004003_download.png)<br>\n",
    "<br>\n",
    "![アップロード手順](./images/RF004003_upload.png)<br>\n",
    "<br>\n",
    "親サブフローを変更する場合はメインメニューに戻り親子関係を変更した後、このタスクを実行してください。<br>\n",
    "また、リサーチフローに保存していないデータを使用する場合はこのタスクで論拠データを格納するためのフォルダに追加してください。\n",
    "<br>\n",
    "※研究データのほか、ガバナンスシートなどを公開する場合はセル実行時に表示されるボタンを押下してください。\n"
   ]
  },
  {
   "cell_type": "code",
   "execution_count": null,
   "metadata": {
    "code_folding": [
     0
    ],
    "disable_pins": true
   },
   "outputs": [],
   "source": [
    "# リサーチフローのデータをコピーする\n",
    "import os\n",
    "\n",
    "from IPython.core.display import Javascript\n",
    "import panel as pn\n",
    "\n",
    "from library.task_director import TaskDirector\n",
    "from library.utils.access import open_data_folder\n",
    "from library.utils.config import path_config, message as msg_config\n",
    "from library.utils.error import NotFoundSubflowDataError\n",
    "from library.utils.setting.research_flow_status import get_subflow_type_and_id, ResearchFlowStatusOperater\n",
    "from library.utils.widgets import MessageBox\n",
    "\n",
    "\n",
    "notebook_name = 'organize_argument_data.ipynb'\n",
    "\n",
    "class AccessSubflowFolder(TaskDirector):\n",
    "    \"\"\"親となる実験サブフローと実行中のサブフローの論拠データのフォルダを表示するクラスです。\n",
    "\n",
    "    Attributes:\n",
    "        instance:\n",
    "            working_path(str): 実行Notebookファイルパス\n",
    "            _msg_output(MessageBox): メッセージ出力用のボックス\n",
    "            _form_section(pn.WidgetBox): ボタン等の出力を格納するためのボックス\n",
    "\n",
    "    \"\"\"\n",
    "    def __init__(self, working_path: str):\n",
    "        \"\"\"Displyクラスのコンストラクタです。\n",
    "\n",
    "        Args:\n",
    "            working_path (str): 実行Notebookファイルパス\n",
    "\n",
    "        \"\"\"\n",
    "        self.working_path = working_path\n",
    "        super().__init__(self.working_path, notebook_name)\n",
    "\n",
    "        # メッセージボックスの設定\n",
    "        self._msg_output = MessageBox()\n",
    "        self._msg_output.width = 900\n",
    "        # 出力用フォームの設定\n",
    "        self._form_section = pn.WidgetBox()\n",
    "\n",
    "    @TaskDirector.task_cell(\"1\")\n",
    "    def generate_folder_buttons(self):\n",
    "        \"\"\"データフォルダを表示するためのボタンを生成するメソッドです。\"\"\"\n",
    "\n",
    "        self.doing_task()\n",
    "\n",
    "        _, subflow_id = get_subflow_type_and_id(self.working_path)\n",
    "        parents_list = self.get_parent_info(subflow_id)\n",
    "\n",
    "        # 表示する実験サブフローが存在しない場合はメッセージを表示する\n",
    "        if self._msg_output.has_message():\n",
    "            self._form_section.append(self._msg_output)\n",
    "\n",
    "        else:\n",
    "            # 取得した実験サブフローのフォルダを開くボタンの作成\n",
    "            old_part= os.path.join(\"writing\", subflow_id)\n",
    "            for parent_name, parent_id in parents_list.items():\n",
    "                new_part = os.path.join(\"experiment\", parent_id)\n",
    "                new_working_path = self.working_path.replace(old_part, new_part)\n",
    "\n",
    "                button = open_data_folder(new_working_path)\n",
    "                card = pn.Card(\n",
    "                    button,\n",
    "                    title = f\"{msg_config.get('organize_argument_data', 'title_experiment')}{parent_name}\",\n",
    "                    width = 550,\n",
    "                    height = 100\n",
    "                )\n",
    "                self._form_section.append(card)\n",
    "\n",
    "            # 論拠データフォルダを開くボタンの作成\n",
    "            pn.extension(raw_css=[\".custom-card { background-color:rgba(255, 255, 0, 0.1);}\"])\n",
    "            button = open_data_folder(self.working_path, \"argument_data\")\n",
    "            card = pn.Card(\n",
    "                button,\n",
    "                title = f\"{msg_config.get('organize_argument_data', 'title_argument_data')}\",\n",
    "                width = 550,\n",
    "                height = 100,\n",
    "                css_classes = [\"custom-card\"]\n",
    "            )\n",
    "            self._form_section.append(card)\n",
    "\n",
    "        self.done_task()\n",
    "        # 表示する\n",
    "        pn.extension()\n",
    "        display(self._form_section)\n",
    "        display(Javascript('IPython.notebook.save_checkpoint();'))\n",
    "\n",
    "    def get_parent_info(self, current_subflow: str) -> dict:\n",
    "        \"\"\"親サブフローとなっている実験サブフローを取得するメソッドです。\n",
    "\n",
    "        Args:\n",
    "            current_subflow (str): 現在実行中のサブフローのID\n",
    "\n",
    "        Returns:\n",
    "            dict: 親サブフローとなっている実験サブフローの情報\n",
    "\n",
    "        \"\"\"\n",
    "        abs_root = path_config.get_abs_root_form_working_dg_file_path(self.working_path)\n",
    "        research_flow_status_file_path = path_config.get_research_flow_status_file_path(abs_root)\n",
    "        reserch_flow_status_operater = ResearchFlowStatusOperater(research_flow_status_file_path)\n",
    "\n",
    "        # 全ての親サブフローIDを取得\n",
    "        parent_ids = reserch_flow_status_operater.get_parent_ids(3, current_subflow) # 3:論文執筆フェーズのシーケンス番号\n",
    "\n",
    "        # 実験サブフローのみを取得\n",
    "        parent_subflow = {}\n",
    "        for parent_id in parent_ids:\n",
    "            try:\n",
    "                subflow_name = reserch_flow_status_operater.get_flow_name(2, parent_id) # 2:実験実験フェーズのシーケンス番号\n",
    "                parent_subflow[subflow_name] = parent_id\n",
    "            except NotFoundSubflowDataError:\n",
    "                continue\n",
    "\n",
    "        # 親サブフローに実験サブフローが存在しない場合はメッセージを格納\n",
    "        if not parent_subflow:\n",
    "            self._msg_output.update_warning(msg_config.get(\"organize_argument_data\", \"not_found_experimet_subflow\"))\n",
    "\n",
    "        return parent_subflow\n",
    "\n",
    "AccessSubflowFolder(os.path.abspath('__file__')).generate_folder_buttons()"
   ]
  },
  {
   "cell_type": "markdown",
   "metadata": {},
   "source": [
    "### 2. コピーしたデータを整理する\n",
    "コピーしたデータのフォルダを表示します。<br>\n",
    "フォルダ構成や名前の編集、不要なデータの削除などを行い、論拠データを論文に即したものになるよう整理してください。"
   ]
  },
  {
   "cell_type": "code",
   "execution_count": null,
   "metadata": {
    "code_folding": [
     0
    ],
    "disable_pins": true
   },
   "outputs": [],
   "source": [
    "# コピーしたデータを表示する\n",
    "import os\n",
    "\n",
    "import panel as pn\n",
    "from IPython.core.display import Javascript\n",
    "from IPython.display import display\n",
    "\n",
    "from library.utils.access import open_data_folder\n",
    "\n",
    "\n",
    "folder_name = 'argument_data'\n",
    "button = open_data_folder(os.path.abspath('__file__'), folder_name)\n",
    "\n",
    "pn.extension()\n",
    "display(button)\n",
    "display(Javascript('IPython.notebook.save_checkpoint();'))"
   ]
  },
  {
   "cell_type": "markdown",
   "metadata": {},
   "source": [
    "## 論拠データにメタデータを付与する\n",
    "論拠データのメタデータ登録を行ってください。<br>\n",
    "セルを実行してメタデータの登録を行った後、このタスクに戻り作業を再開してください。<br>\n",
    "GakuNin RDMにメタデータを登録する場合はGakuNin RDM上で直接行ってください。<br>"
   ]
  },
  {
   "cell_type": "code",
   "execution_count": null,
   "metadata": {
    "code_folding": [
     0
    ],
    "disable_pins": true
   },
   "outputs": [],
   "source": [
    "# メタデータを登録するタスクへアクセスするボタンを表示する\n",
    "from IPython.core.display import Javascript\n",
    "from IPython.display import display\n",
    "\n",
    "import panel as pn\n",
    "\n",
    "from library.utils.config import message as msg_config\n",
    "from library.utils.html.button import create_button\n",
    "\n",
    "\n",
    "def access_register_metadata():\n",
    "    \"\"\"検証するタスクへアクセスするボタンを表示するメソッドです。\"\"\"\n",
    "    button_width = 500\n",
    "    url = '../common/metadata.ipynb'\n",
    "    obj = create_button(\n",
    "        url=f'{url}?init_nb=true',\n",
    "        target='_blank',\n",
    "        msg=msg_config.get('task', 'access_register_metadata_task'),\n",
    "        button_width=f'{button_width}px'\n",
    "    )\n",
    "    pn.extension()\n",
    "    display(pn.pane.HTML(obj, width=button_width))\n",
    "    display(Javascript('IPython.notebook.save_checkpoint();'))\n",
    "\n",
    "access_register_metadata()"
   ]
  },
  {
   "cell_type": "markdown",
   "metadata": {},
   "source": [
    "## 再現性を確認する\n",
    "メタデータの検証と再現性の確認を行ってください。<br>\n",
    "<br>\n",
    "※再現性を確認する機能は現在開発中です。\n"
   ]
  },
  {
   "cell_type": "markdown",
   "metadata": {},
   "source": [
    "### メタデータを検証する\n",
    "論拠データのメタデータの検証を行ってください。<br>\n",
    "セルを実行してメタデータの検証を行った後、このタスクに戻り作業を再開してください。"
   ]
  },
  {
   "cell_type": "code",
   "execution_count": null,
   "metadata": {
    "code_folding": [
     0
    ],
    "disable_pins": true
   },
   "outputs": [],
   "source": [
    "# 検証するタスクへアクセスするボタンを表示する\n",
    "from IPython.core.display import Javascript\n",
    "from IPython.display import display\n",
    "\n",
    "import panel as pn\n",
    "\n",
    "from library.utils.config import message as msg_config\n",
    "from library.utils.html.button import create_button\n",
    "\n",
    "\n",
    "def access_validate():\n",
    "    \"\"\"検証するタスクへアクセスするボタンを表示するメソッドです。\"\"\"\n",
    "    button_width = 500\n",
    "    url = '../common/validate.ipynb'\n",
    "    obj = create_button(\n",
    "        url=f'{url}?init_nb=true',\n",
    "        target='_blank',\n",
    "        msg=msg_config.get('task', 'access_validate_task'),\n",
    "        button_width=f'{button_width}px'\n",
    "    )\n",
    "    pn.extension()\n",
    "    display(pn.pane.HTML(obj, width=button_width))\n",
    "    display(Javascript('IPython.notebook.save_checkpoint();'))\n",
    "\n",
    "access_validate()"
   ]
  },
  {
   "cell_type": "markdown",
   "metadata": {
    "code_folding": [
     0
    ],
    "disable_pins": true
   },
   "source": [
    "## 収集した文献を整理する\n",
    "論文執筆に向けて収集した文献を整理し、リサーチフローにアップロードしてください。<br>\n",
    "また、参考文献は論文に即したものになるよう、論文の内容に合わせて適宜編集してください。"
   ]
  },
  {
   "cell_type": "code",
   "execution_count": null,
   "metadata": {},
   "outputs": [],
   "source": [
    "# 文献データフォルダを表示する\n",
    "import os\n",
    "\n",
    "from IPython.core.display import Javascript\n",
    "from IPython.display import display\n",
    "import panel as pn\n",
    "\n",
    "from library.utils.access import open_data_folder\n",
    "\n",
    "\n",
    "folder_name = 'references'\n",
    "button = open_data_folder(os.path.abspath('__file__'), folder_name)\n",
    "\n",
    "pn.extension()\n",
    "display(button)\n",
    "display(Javascript('IPython.notebook.save_checkpoint();'))"
   ]
  },
  {
   "cell_type": "markdown",
   "metadata": {},
   "source": [
    "##  GakuNin RDMに保存する\n",
    "タスクの状態をGakuNin RDMに保存します。"
   ]
  },
  {
   "cell_type": "code",
   "execution_count": null,
   "metadata": {
    "code_folding": [
     0
    ],
    "disable_pins": true
   },
   "outputs": [],
   "source": [
    "# GakuNin RDMに保存する\n",
    "from IPython.core.display import Javascript\n",
    "from IPython.display import display\n",
    "\n",
    "import panel as pn\n",
    "\n",
    "from library.utils.config import path_config\n",
    "from library.task_director import TaskDirector\n",
    "from library.utils.setting import get_data_dir\n",
    "\n",
    "script_file_name = 'organize_argument_data'\n",
    "notebook_name = script_file_name+'.ipynb'\n",
    "\n",
    "\n",
    "class DataSaver(TaskDirector):\n",
    "    \"\"\"GRDMに保存するクラスです。\n",
    "\n",
    "    Attributes:\n",
    "        instance:\n",
    "            _abs_root_path (str): 絶対パス\n",
    "            save_form_box(pn.WidgetBox):フォームを格納する。\n",
    "            save_msg_output(Message):ユーザーに提示するメッセージを格納する。\n",
    "    \"\"\"\n",
    "\n",
    "    def __init__(self, working_path: str) -> None:\n",
    "        \"\"\"DataSaver コンストラクタメソッドです。\n",
    "\n",
    "        Args:\n",
    "            working_path (str): 実行Notebookファイルパス\n",
    "        \"\"\"\n",
    "        self.working_path = working_path\n",
    "        super().__init__(self.working_path, notebook_name)\n",
    "\n",
    "    @TaskDirector.task_cell(\"1\")\n",
    "    def generate_form_section(self):\n",
    "        \"\"\"取得したデータを表示するメソッドです。\"\"\"\n",
    "\n",
    "        # フォーム定義\n",
    "        data_dir = get_data_dir(self.working_path)\n",
    "        abs_root = path_config.get_abs_root_form_working_dg_file_path(self.working_path)\n",
    "        research_flow_status_file_path = path_config.get_research_flow_status_file_path(abs_root)\n",
    "        source = [os.path.join(data_dir, 'argument_data'), os.path.join(data_dir, 'references'), research_flow_status_file_path]\n",
    "        self.define_save_form(source)\n",
    "        # フォーム表示\n",
    "        pn.extension()\n",
    "        form_section = pn.WidgetBox()\n",
    "        form_section.append(self.save_form_box)\n",
    "        form_section.append(self.save_msg_output)\n",
    "        display(form_section)\n",
    "        display(Javascript('IPython.notebook.save_checkpoint();'))\n",
    "\n",
    "DataSaver(working_path=os.path.abspath('__file__')).generate_form_section()"
   ]
  },
  {
   "cell_type": "markdown",
   "metadata": {},
   "source": [
    "## サブフローメニューを表示する\n",
    "\n",
    "サブフローメニューへ遷移するボタンを表示します。"
   ]
  },
  {
   "cell_type": "code",
   "execution_count": null,
   "metadata": {
    "code_folding": [
     0
    ],
    "disable_pins": true
   },
   "outputs": [],
   "source": [
    "# サブフローメニューを表示する\n",
    "import os\n",
    "\n",
    "from library.task_director import TaskDirector\n",
    "\n",
    "script_file_name = \"organize_argument_data\"\n",
    "notebook_name = script_file_name+'.ipynb'\n",
    "TaskDirector(os.path.abspath('__file__'), notebook_name).return_subflow_menu()"
   ]
  }
 ],
 "metadata": {
  "language_info": {
   "name": "python"
  }
 },
 "nbformat": 4,
 "nbformat_minor": 2
}
