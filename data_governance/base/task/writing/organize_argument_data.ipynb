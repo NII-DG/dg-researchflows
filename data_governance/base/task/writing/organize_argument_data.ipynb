{
 "cells": [
  {
   "cell_type": "markdown",
   "metadata": {},
   "source": [
    "# 論拠データを整理する\n",
    "論拠データを作成するためのタスクです。<br>\n",
    "リサーチフローにおいて論拠データは公開する論文の根拠となるデータとして作成します。<br>\n",
    "そのため、実験データから論文に必要のないものを除外して公開に適したものになるよう整理する必要があります。<br>\n",
    "また、論拠データは論文に即したものになるよう、論文の内容に合わせて適宜修正してください。"
   ]
  },
  {
   "cell_type": "markdown",
   "metadata": {},
   "source": [
    "## 論拠データを整理する\n",
    "以下の手順に従って論拠データの整理を行ってください。\n"
   ]
  },
  {
   "cell_type": "markdown",
   "metadata": {},
   "source": [
    "### 1. リサーチフローのデータをコピーする\n",
    "親サブフローになっている実験サブフローから実験データをコピーします。<br>\n",
    "親サブフローを変更する場合はメインメニューに戻り親子関係を変更した後、このタスクを実行してください。<br>\n",
    "また、リサーチフローに保存していないデータを使用する場合はコピーしたデータの整理を行う際に手動で追加してください。\n"
   ]
  },
  {
   "cell_type": "code",
   "execution_count": null,
   "metadata": {},
   "outputs": [],
   "source": [
    "# リサーチフローのデータをコピーする"
   ]
  },
  {
   "cell_type": "markdown",
   "metadata": {},
   "source": [
    "### 2. コピーしたデータを整理する\n",
    "コピーしたデータのフォルダを表示します。<br>\n",
    "フォルダ構成や名前の編集、不要なデータの削除などを行い、論拠データを論文に即したものになるよう整理してください。<br>\n",
    "また、リサーチフローに保存していないデータを使用する場合はここで追加してください。"
   ]
  },
  {
   "cell_type": "code",
   "execution_count": null,
   "metadata": {},
   "outputs": [],
   "source": [
    "# コピーしたデータを整理する"
   ]
  },
  {
   "cell_type": "markdown",
   "metadata": {},
   "source": [
    "## 論拠データにメタデータを付与する\n",
    "論拠データのメタデータ登録を行ってください。<br>\n",
    "セルを実行してメタデータの登録を行った後、このタスクに戻り作業を再開してください。<br>\n",
    "GakuNin RDMにメタデータを登録する場合はGakuNin RDM上で直接行ってください。<br>"
   ]
  },
  {
   "cell_type": "code",
   "execution_count": null,
   "metadata": {
    "code_folding": [
     0
    ],
    "disable_pins": true
   },
   "outputs": [],
   "source": [
    "# メタデータを登録するタスクへアクセスするボタンを表示する"
   ]
  },
  {
   "cell_type": "markdown",
   "metadata": {},
   "source": [
    "## 再現性を確認する\n",
    "メタデータの検証と再現性の確認を行ってください。<br>\n",
    "<br>\n",
    "※再現性を確認する機能は現在開発中です。\n"
   ]
  },
  {
   "cell_type": "markdown",
   "metadata": {},
   "source": [
    "### メタデータを検証する\n",
    "論拠データのメタデータの検証を行ってください。<br>\n",
    "セルを実行してメタデータの検証を行った後、このタスクに戻り作業を再開してください。"
   ]
  },
  {
   "cell_type": "code",
   "execution_count": null,
   "metadata": {
    "code_folding": [
     0
    ],
    "disable_pins": true
   },
   "outputs": [],
   "source": [
    "# 検証するタスクへアクセスするボタンを表示する"
   ]
  },
  {
   "cell_type": "markdown",
   "metadata": {},
   "source": [
    "## 収集した文献を整理する\n",
    "論文執筆に向けて収集した文献を整理し、リサーチフローにアップロードしてください。<br>\n",
    "また、参考文献は論文に即したものになるよう、論文の内容に合わせて適宜編集してください。"
   ]
  },
  {
   "cell_type": "code",
   "execution_count": null,
   "metadata": {},
   "outputs": [],
   "source": [
    "# 参考文献を保存する"
   ]
  },
  {
   "cell_type": "markdown",
   "metadata": {},
   "source": [
    "##  GakuNin RDMに保存する\n",
    "タスクの状態をGakuNin RDMに保存します。"
   ]
  },
  {
   "cell_type": "code",
   "execution_count": null,
   "metadata": {
    "code_folding": [
     0
    ],
    "disable_pins": true
   },
   "outputs": [],
   "source": [
    "# GakuNin RDMに保存する\n",
    "import os\n",
    "\n",
    "from IPython.core.display import Javascript\n",
    "from IPython.display import display\n",
    "import panel as pn\n",
    "\n",
    "from library.task_director import TaskDirector\n",
    "from library.utils.save import all_sync_path\n",
    "\n",
    "\n",
    "script_file_name = 'save_data'\n",
    "notebook_name = script_file_name+'.ipynb'\n",
    "\n",
    "\n",
    "class DataSaver(TaskDirector):\n",
    "    \"\"\"GRDMに保存するクラスです。\n",
    "\n",
    "    Attributes:\n",
    "        instance:\n",
    "            _abs_root_path (str): 絶対パス\n",
    "            save_form_box(pn.WidgetBox):フォームを格納する。\n",
    "            save_msg_output(Message):ユーザーに提示するメッセージを格納する。\n",
    "    \"\"\"\n",
    "\n",
    "    def __init__(self, working_path: str) -> None:\n",
    "        \"\"\"DataSaver コンストラクタメソッドです。\n",
    "\n",
    "        Args:\n",
    "            working_path (str): 実行Notebookファイルパス\n",
    "        \"\"\"\n",
    "        super().__init__(working_path, notebook_name)\n",
    "\n",
    "    @TaskDirector.task_cell(\"1\")\n",
    "    def generate_form_section(self):\n",
    "        \"\"\"取得したデータを表示するメソッドです。\"\"\"\n",
    "        # タスク開始によるサブフローステータス管理JSONの更新\n",
    "        self.doing_task()\n",
    "\n",
    "        # フォーム定義\n",
    "        source = all_sync_path(self._abs_root_path)\n",
    "        self.define_save_form(source)\n",
    "        # フォーム表示\n",
    "        pn.extension()\n",
    "        form_section = pn.WidgetBox()\n",
    "        form_section.append(self.save_form_box)\n",
    "        form_section.append(self.save_msg_output)\n",
    "        display(form_section)\n",
    "        display(Javascript('IPython.notebook.save_checkpoint();'))\n",
    "\n",
    "\n",
    "DataSaver(working_path=os.path.abspath('__file__')).generate_form_section()"
   ]
  },
  {
   "cell_type": "markdown",
   "metadata": {},
   "source": [
    "## サブフローメニューを表示する\n",
    "\n",
    "サブフローメニューへ遷移するボタンを表示します。"
   ]
  },
  {
   "cell_type": "code",
   "execution_count": null,
   "metadata": {
    "code_folding": [
     0
    ],
    "disable_pins": true
   },
   "outputs": [],
   "source": [
    "# サブフローメニューを表示する\n",
    "import os\n",
    "from library.task_director import TaskDirector\n",
    "\n",
    "script_file_name = \"make_research_data_management_plan\"\n",
    "notebook_name = script_file_name+'.ipynb'\n",
    "TaskDirector(os.path.abspath('__file__'), notebook_name).return_subflow_menu()"
   ]
  }
 ],
 "metadata": {
  "language_info": {
   "name": "python"
  }
 },
 "nbformat": 4,
 "nbformat_minor": 2
}
