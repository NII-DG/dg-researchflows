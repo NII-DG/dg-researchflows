{
 "cells": [
  {
   "cell_type": "markdown",
   "metadata": {},
   "source": [
    "# 論文のメタデータを登録する\n",
    "論文のメタデータの登録を行うタスクです。<br>\n",
    "論文のPDFメタデータを入力した値で更新します。<br>\n",
    "このタスクでメタデータの登録対象となるのはPDF形式の論文のみとなるため、それ以外の形式で保存されている場合はこのタスクをスキップしてください。\n"
   ]
  },
  {
   "cell_type": "markdown",
   "metadata": {},
   "source": [
    "## メタデータの登録フォームを表示する\n",
    "論文に登録するメタデータを入力するためのフォームを表示します。<br>\n",
    "登録を行いたいPDFファイルを選択した後、「登録する」ボタンを押下することで選択したPDFファイルのメタデータを入力した値で更新します。"
   ]
  },
  {
   "cell_type": "code",
   "execution_count": null,
   "metadata": {
    "code_folding": [
     0
    ],
    "disable_pins": true
   },
   "outputs": [],
   "source": [
    "# メタデータの登録フォームを表示する\n",
    "\n",
    "import os\n",
    "\n",
    "from library.utils.pdf_metadata import PdfMetaData\n",
    "from library.utils.setting.research_flow_status import get_data_dir\n",
    "from library.task_director import TaskDirector\n",
    "\n",
    "\n",
    "notebook_name = 'register_paper_metadata.ipynb'\n",
    "\n",
    "class RegisterPaperMetadata(TaskDirector):\n",
    "    \"\"\"PDFのメタデータを登録するクラスです。\n",
    "\n",
    "    Attributes:\n",
    "        working_path(str): 実行Notebookファイルパス\n",
    "\n",
    "    \"\"\"\n",
    "    def __init__(self, working_path:str):\n",
    "        \"\"\"RegisterPaperMetadataのコンストラクタのメソッドです。\n",
    "\n",
    "        Args:\n",
    "            working_path (str): 実行Notebookファイルパス\n",
    "\n",
    "        \"\"\"\n",
    "        self.working_path = working_path\n",
    "        super().__init__(self.working_path, notebook_name)\n",
    "\n",
    "    @TaskDirector.task_cell(\"5\")\n",
    "    def register_metadata(self):\n",
    "        \"\"\"PDFのメタデータを登録するメソッドです。\"\"\"\n",
    "        self.doing_task()\n",
    "\n",
    "        data_dir = get_data_dir(self.working_path)\n",
    "        data_dir = os.path.join(data_dir, 'paper')\n",
    "\n",
    "        pdf_metadata = PdfMetaData\n",
    "        pdf_metadata.generate_pdf_metadata_form(data_dir)\n",
    "\n",
    "        self.done_task()\n",
    "\n",
    "RegisterPaperMetadata(os.path.abspath('__file__')).register_metadata()"
   ]
  },
  {
   "cell_type": "markdown",
   "metadata": {},
   "source": [
    "## GakuNin RDMに保存する"
   ]
  },
  {
   "cell_type": "code",
   "execution_count": null,
   "metadata": {
    "code_folding": [
     0
    ],
    "disable_pins": true
   },
   "outputs": [],
   "source": [
    "# GakuNin RDMに保存する\n",
    "import os\n",
    "\n",
    "from IPython.core.display import Javascript\n",
    "from IPython.display import display\n",
    "import panel as pn\n",
    "\n",
    "from library.task_director import TaskDirector\n",
    "from library.utils.setting import get_data_dir\n",
    "\n",
    "\n",
    "script_file_name = 'register_paper_metadata'\n",
    "notebook_name = script_file_name+'.ipynb'\n",
    "\n",
    "class DataSaver(TaskDirector):\n",
    "    \"\"\"GRDMに保存するクラスです。\n",
    "\n",
    "    Attributes:\n",
    "        instance:\n",
    "            _abs_root_path (str): 絶対パス\n",
    "            save_form_box(pn.WidgetBox):フォームを格納する。\n",
    "            save_msg_output(Message):ユーザーに提示するメッセージを格納する。\n",
    "\n",
    "    \"\"\"\n",
    "    def __init__(self, working_path: str) -> None:\n",
    "        \"\"\"DataSaver コンストラクタメソッドです。\n",
    "\n",
    "        Args:\n",
    "            working_path (str): 実行Notebookファイルパス\n",
    "        \"\"\"\n",
    "        self.working_path = working_path\n",
    "        super().__init__(self.working_path, notebook_name)\n",
    "\n",
    "    @TaskDirector.task_cell(\"2\")\n",
    "    def generate_form_section(self):\n",
    "        \"\"\"取得したデータを表示するメソッドです。\"\"\"\n",
    "        # タスク開始によるサブフローステータス管理JSONの更新\n",
    "        self.doing_task()\n",
    "\n",
    "        # フォーム定義\n",
    "        data_dir = get_data_dir(self.working_path)\n",
    "        source = [os.path.join(data_dir, 'paper')]\n",
    "        self.define_save_form(source)\n",
    "        # フォーム表示\n",
    "        pn.extension()\n",
    "        form_section = pn.WidgetBox()\n",
    "        form_section.append(self.save_form_box)\n",
    "        form_section.append(self.save_msg_output)\n",
    "        display(form_section)\n",
    "        display(Javascript('IPython.notebook.save_checkpoint();'))\n",
    "\n",
    "DataSaver(working_path=os.path.abspath('__file__')).generate_form_section()"
   ]
  },
  {
   "cell_type": "markdown",
   "metadata": {},
   "source": [
    "## サブフローメニューを表示する"
   ]
  },
  {
   "cell_type": "code",
   "execution_count": null,
   "metadata": {
    "code_folding": [
     0
    ],
    "disable_pins": true
   },
   "outputs": [],
   "source": [
    "# サブフローメニューを表示する\n",
    "import os\n",
    "\n",
    "from library.task_director import TaskDirector\n",
    "\n",
    "\n",
    "script_file_name = \"register_paper_metadata\"\n",
    "notebook_name = script_file_name+'.ipynb'\n",
    "TaskDirector(os.path.abspath('__file__'), notebook_name).return_subflow_menu()"
   ]
  }
 ],
 "metadata": {
  "language_info": {
   "name": "python"
  }
 },
 "nbformat": 4,
 "nbformat_minor": 2
}
