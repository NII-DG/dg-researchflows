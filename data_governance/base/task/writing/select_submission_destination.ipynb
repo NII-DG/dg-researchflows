{
 "cells": [
  {
   "cell_type": "markdown",
   "metadata": {},
   "source": [
    "# 投稿先を選定する\n",
    "投稿先の選定を行うタスクです。<br>\n",
    "執筆した論文を投稿する場合は投稿先の選定を行って下さい。<br>\n",
    "投稿先を選定する際には規定を忘れずに確認してください。"
   ]
  },
  {
   "cell_type": "markdown",
   "metadata": {},
   "source": [
    "## リサーチフローの使い方"
   ]
  },
  {
   "cell_type": "markdown",
   "metadata": {},
   "source": [
    "### 1. 投稿先が査読を必要とする場合\n",
    "このサブフローを親にして査読フェーズのサブフローを作成して下さい。<br>\n",
    "査読サブフローは投稿先ごとに作成してください。<br>\n",
    "![査読サブフローを作成](./images/RF004011_create_review.png)"
   ]
  },
  {
   "cell_type": "markdown",
   "metadata": {},
   "source": [
    "### 2. 投稿先が査読を必要としない場合\n",
    "査読サブフローをスキップして公開サブフローを作成してください。<br>\n",
    "その場合もこのサブフローを親サブフローにしてください。<br>\n",
    "![公開サブフローを作成](./images/RF004011_create_publication.png)"
   ]
  },
  {
   "cell_type": "markdown",
   "metadata": {},
   "source": [
    "## サブフローメニューを表示する"
   ]
  },
  {
   "cell_type": "code",
   "execution_count": null,
   "metadata": {
    "code_folding": [
     0
    ],
    "disable_pins": true
   },
   "outputs": [],
   "source": [
    "# サブフローメニューを表示する\n",
    "import os\n",
    "\n",
    "from library.task_director import TaskDirector\n",
    "\n",
    "\n",
    "script_file_name = \"select_submission_destination\"\n",
    "notebook_name = script_file_name+'.ipynb'\n",
    "\n",
    "task_director = TaskDirector(os.path.abspath('__file__'), notebook_name)\n",
    "task_director.doing_task()\n",
    "task_director.return_subflow_menu()\n",
    "task_director.done_task()"
   ]
  }
 ],
 "metadata": {
  "language_info": {
   "name": "python"
  }
 },
 "nbformat": 4,
 "nbformat_minor": 2
}
