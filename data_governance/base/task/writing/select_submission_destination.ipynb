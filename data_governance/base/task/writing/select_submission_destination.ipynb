{
 "cells": [
  {
   "cell_type": "markdown",
   "metadata": {},
   "source": [
    "# 投稿先を選定する\n",
    "投稿先の選定を行うタスクです。<br>\n",
    "執筆した論文を投稿する場合は投稿先の選定を行って下さい。<br>\n",
    "投稿先を選定する際には規定を忘れずに確認してください。"
   ]
  },
  {
   "cell_type": "markdown",
   "metadata": {},
   "source": [
    "## リサーチフローの使い方"
   ]
  },
  {
   "cell_type": "markdown",
   "metadata": {},
   "source": [
    "### 1. 投稿先が査読を必要とする場合\n",
    "このサブフローを親にして査読フェーズのサブフローを作成して下さい。<br>\n",
    "査読サブフローは投稿先ごとに作成してください。<br>\n",
    "｛上記の内容を実際の画面を使って説明している図｝"
   ]
  },
  {
   "cell_type": "markdown",
   "metadata": {},
   "source": [
    "### 2. 投稿先が査読を必要としない場合\n",
    "査読サブフローをスキップして公開サブフローを作成してください。<br>\n",
    "その場合もこのサブフローを親サブフローにしてください。<br>\n",
    "｛上記の内容を実際の画面を使って説明している図｝"
   ]
  },
  {
   "cell_type": "markdown",
   "metadata": {},
   "source": [
    "## サブフローメニューを表示する"
   ]
  },
  {
   "cell_type": "code",
   "execution_count": null,
   "metadata": {
    "vscode": {
     "languageId": "plaintext"
    }
   },
   "outputs": [],
   "source": [
    "# サブフローメニューを表示する"
   ]
  }
 ],
 "metadata": {
  "language_info": {
   "name": "python"
  }
 },
 "nbformat": 4,
 "nbformat_minor": 2
}
