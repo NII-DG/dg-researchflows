{
 "cells": [
  {
   "cell_type": "markdown",
   "metadata": {},
   "source": [
    "# 論文を執筆する\n",
    "論文の執筆を行うタスクです。<br>\n",
    "作成した草稿や図表を使用して論文の執筆を行ってください。<br>\n",
    "リサーチフローではLaTex（文章作成ツール）を使用して論文を執筆することが可能です。<br>\n",
    "LaTexを使用する場合は後述の「リサーチフロー上での執筆方法」の説明に従って論文の執筆、保存を行ってください。<br>\n",
    "それ以外の方法で執筆する場合は論文の執筆後、「フォルダを表示する」セルを実行してリサーチフロー上に直接アップロードしてください。<br>\n",
    "<br>\n",
    "論文を執筆する際にリサーチフローに保存した草稿や論拠データを閲覧したい場合は以下のセルを実行して下さい。"
   ]
  },
  {
   "cell_type": "code",
   "execution_count": null,
   "metadata": {
    "code_folding": [
     0
    ],
    "disable_pins": true
   },
   "outputs": [],
   "source": [
    "# 草稿・論拠データを閲覧する\n",
    "import os\n",
    "\n",
    "from IPython.core.display import Javascript\n",
    "import panel as pn\n",
    "\n",
    "from library.utils.access import open_data_folder\n",
    "from library.utils.config import message as msg_config\n",
    "\n",
    "def access_draft_and_argument_data():\n",
    "    \"\"\"草稿・論拠データフォルダを表示するメソッドです。\"\"\"\n",
    "    # 表示用のボックス\n",
    "    form_section = pn.WidgetBox()\n",
    "\n",
    "    # 草稿フォルダを表示するボタンの設定\n",
    "    draft_folder = 'draft'\n",
    "    button1 = open_data_folder(os.path.abspath('__file__'), draft_folder)\n",
    "    card1 = pn.Card(\n",
    "        button1,\n",
    "        title = f\"<b>{msg_config.get('task', 'access_draft')}</b>\",\n",
    "        width = 550,\n",
    "        height = 100\n",
    "    )\n",
    "    form_section.append(card1)\n",
    "\n",
    "    # 論拠データフォルダを表示するボタンの設定\n",
    "    argument_folder = 'argument_data'\n",
    "    button2 = open_data_folder(os.path.abspath('__file__'), argument_folder)\n",
    "    card2 = pn.Card(\n",
    "        button2,\n",
    "        title = f\"<b>{msg_config.get('task', 'access_argument_data')}</b>\",\n",
    "        width = 550,\n",
    "        height = 100\n",
    "    )\n",
    "    form_section.append(card2)\n",
    "\n",
    "    # 表示する\n",
    "    pn.extension()\n",
    "    display(form_section)\n",
    "    display(Javascript('IPython.notebook.save_checkpoint();'))\n",
    "\n",
    "access_draft_and_argument_data()"
   ]
  },
  {
   "cell_type": "markdown",
   "metadata": {},
   "source": [
    "## リサーチフロー上で執筆する\n",
    "1. 「論文フォルダを表示する」セルを実行することで論文を作成するフォルダが表示されます。<br>\n",
    "2. 画像の説明に従って論文ファイルの作成、編集を行ってください。<br>\n",
    "![ファイルを作成](./images/RF004010_create_paper.png)<br>\n",
    "![ファイルを改名](./images/RF004010_rename_paper.png)<br>\n",
    "<span style=\"color:red\">※ 論文ファイルの編集後は必ず保存してからファイルを閉じてください。</span>"
   ]
  },
  {
   "cell_type": "code",
   "execution_count": null,
   "metadata": {
    "code_folding": [
     0
    ],
    "disable_pins": true
   },
   "outputs": [],
   "source": [
    "# 論文論文フォルダを表示する\n",
    "import os\n",
    "\n",
    "from IPython.core.display import Javascript\n",
    "from IPython.display import display\n",
    "import panel as pn\n",
    "\n",
    "from library.task_director import TaskDirector\n",
    "from library.utils.access import open_data_folder\n",
    "\n",
    "\n",
    "notebook_name = 'write_paper.ipynb'\n",
    "\n",
    "def access_paper_folder(working_path: str):\n",
    "    \"\"\"論文フォルダを表示するメソッドです。\"\"\"\n",
    "\n",
    "    task_director = TaskDirector(working_path, notebook_name)\n",
    "    task_director.doing_task()\n",
    "\n",
    "    folder_name = 'paper'\n",
    "    button = open_data_folder(os.path.abspath('__file__'), folder_name)\n",
    "\n",
    "    pn.extension()\n",
    "    display(button)\n",
    "    display(Javascript('IPython.notebook.save_checkpoint();'))\n",
    "    task_director.done_task()\n",
    "\n",
    "access_paper_folder(os.path.abspath('__file__'))\n"
   ]
  },
  {
   "cell_type": "markdown",
   "metadata": {},
   "source": [
    "3. 作成したtex形式の草稿をPDFとして出力する<br>\n",
    "terminalで以下のコマンドを実行することでtex形式のファイルを同じフォルダ内にPDFで出力することができます。<br>\n",
    "PDFファイルはtexファイルと同じ名前で、同名のPDFファイルが存在していた場合は上書きします。<br>\n",
    "pdflatex {対象のファイルまでのパス}<br>\n",
    "<br>\n",
    "以下のセルにファイル名を入力して実行することでterminalを使用せずにPDF化することも可能です。<br>"
   ]
  },
  {
   "cell_type": "code",
   "execution_count": null,
   "metadata": {
    "disable_pins": true
   },
   "outputs": [],
   "source": [
    "# texファイルをPDFとして出力する\n",
    "import os\n",
    "from library.utils.setting import get_data_dir\n",
    "\n",
    "file_name =\"\" #　ここにＰＤＦ化したいファイルを入力する(.texまで含む)\n",
    "\n",
    "dir_name = os.path.join(get_data_dir(os.path.abspath('__file__')), 'paper')\n",
    "full_path = os.path.join(dir_name, file_name)\n",
    "\n",
    "# PDF化するコマンド\n",
    "!pdflatex -output-directory={dir_name} {full_path}"
   ]
  },
  {
   "cell_type": "markdown",
   "metadata": {},
   "source": [
    "必要であればこのタスクから論文に使用する図表を作成することができます。<br>\n",
    "新しい図表を作成する場合は「図表を新たに作成する」ボタンを押下することで図表作成用のノートブックが作成されます。<br>\n",
    "<br>\n",
    "既に作成した図表の編集を行いたい場合は以下の手順に従ってください。<br>\n",
    "①「図表を編集する」セルを実行して、図表と図表生成用のノートブックが保存されているフォルダを表示する。<br>\n",
    "② 編集したい図表、またはノートブックを開いて編集する。<br>\n",
    "<br>\n",
    "また、リサーチフローを用いずに図表を作成した場合は以下の手順でアップロードを行ってください。<br>\n",
    "①「図表を編集する」セルを実行して、図表と図表生成用のノートブックが保存されているフォルダを表示する。<br>\n",
    "②「upload」ボタンから作成した図表をアップロードする。<br>"
   ]
  },
  {
   "cell_type": "markdown",
   "metadata": {},
   "source": [
    "### 1. 図表を新たに作成する"
   ]
  },
  {
   "cell_type": "code",
   "execution_count": null,
   "metadata": {
    "code_folding": [
     0
    ],
    "disable_pins": true
   },
   "outputs": [],
   "source": [
    "# 図表を新たに作成する\n",
    "import os\n",
    "import shutil\n",
    "\n",
    "from IPython.core.display import Javascript\n",
    "import panel as pn\n",
    "\n",
    "from library.task_director import TaskDirector\n",
    "from library.utils.access import open_data_file\n",
    "from library.utils.config import message as msg_config\n",
    "from library.utils.setting import get_data_dir\n",
    "from library.utils.widgets import Button, MessageBox\n",
    "\n",
    "\n",
    "notebook_name = 'write_paper.ipynb'\n",
    "template_notebook_path = '/home/jovyan/data_governance/base/task/writing/figure_template.ipynb'\n",
    "\n",
    "class CreateFigureNoteBook(TaskDirector):\n",
    "    \"\"\"図表用ノートブックを作成するクラスです。\n",
    "\n",
    "    Attributes:\n",
    "        instance:\n",
    "            working_path(str): 実行Notebookファイルパス\n",
    "            output_message(MessageBox): メッセージ出力用のボックス\n",
    "            form_section(pn.WidgetBox): ボタン等出力用のボックス\n",
    "            text_input(pn.widgets.TextInput): ノートブック名を入力するためのフォーム\n",
    "            generate_button_title(str): ノートブック作成用ボタンのタイトル文\n",
    "            generte_button(Botton): ノートブック作成時に押下するボタン\n",
    "\n",
    "    \"\"\"\n",
    "    def __init__(self, working_path: str):\n",
    "        \"\"\"CreateFigureNoteBookクラスのコンストラクタです。\n",
    "\n",
    "        Args:\n",
    "            working_path (str): 実行Notebookファイルパス\n",
    "\n",
    "        \"\"\"\n",
    "        self.working_path = working_path\n",
    "        super().__init__(self.working_path,  notebook_name)\n",
    "\n",
    "        # メッセージ出力用のボックス\n",
    "        self.output_message = MessageBox()\n",
    "        self.output_message.width = 900\n",
    "        # ボタン等表示用のボックス\n",
    "        self.form_section = pn.WidgetBox()\n",
    "\n",
    "    @TaskDirector.task_cell(\"4\")\n",
    "    def generate_name_form(self):\n",
    "        \"\"\"図表用ノートブックの名前を入力し、作成するためのフォームを作成するメソッドです。\"\"\"\n",
    "        # 名前入力用フォームの設定\n",
    "        self.text_input = pn.widgets.TextInput(name=msg_config.get(\n",
    "            'create_draft', 'create_notebook_title'), width=300, height=50)\n",
    "        # 作成時に押下するボタンの設定\n",
    "        self.generate_button_title = msg_config.get(\n",
    "            'create_draft', 'create_notebook')\n",
    "        self.generate_button = Button(width=500)\n",
    "        self.generate_button.set_looks_init(self.generate_button_title)\n",
    "        self.generate_button.on_click(self.generate)\n",
    "\n",
    "        # 表示する\n",
    "        pn.extension()\n",
    "        self.form_section.append(self.text_input)\n",
    "        self.form_section.append(self.generate_button)\n",
    "        display(self.form_section)\n",
    "        display(Javascript('IPython.notebook.save_checkpoint();'))\n",
    "\n",
    "    @TaskDirector.callback_form('図表用ノートブックを作成する')\n",
    "    def generate(self, event):\n",
    "        \"\"\"ボタン押下時に図表用ノートブックを作成し、表示するためのボタンを出力するメソッドです。\"\"\"\n",
    "\n",
    "        # 値が入力されていない場合\n",
    "        if not self.text_input.value:\n",
    "            self.output_message.update_warning(\n",
    "                msg_config.get('create_draft', 'name_no_value'))\n",
    "            self.form_section.append(self.output_message)\n",
    "            return\n",
    "\n",
    "        full_file_name = self.text_input.value + \".ipynb\"\n",
    "        dir_name = os.path.join(get_data_dir(self.working_path), 'figure')\n",
    "        output_file_path = os.path.join(dir_name, full_file_name)\n",
    "\n",
    "        # 入力した値のファイルが既に存在する場合\n",
    "        if os.path.exists(os.path.join(dir_name, full_file_name)):\n",
    "            self.output_message.update_warning(\n",
    "                msg_config.get('create_draft', 'file_existed_warning'))\n",
    "            self.form_section.append(self.output_message)\n",
    "            return\n",
    "\n",
    "        # テンプレートをコピーして新しいノートブックを作成\n",
    "        shutil.copy(template_notebook_path, output_file_path)\n",
    "\n",
    "        self.output_message.update_success(\n",
    "            msg_config.get(\"create_draft\", \"success_create\"))\n",
    "        button = open_data_file(\n",
    "            self.working_path, os.path.join('figure', full_file_name))\n",
    "\n",
    "        # 表示を切り替え\n",
    "        self.form_section.clear()\n",
    "        self.form_section.append(self.output_message)\n",
    "        self.form_section.append(button)\n",
    "        display(Javascript('IPython.notebook.save_checkpoint();'))\n",
    "\n",
    "CreateFigureNoteBook(working_path=os.path.abspath('__file__')).generate_name_form()"
   ]
  },
  {
   "cell_type": "markdown",
   "metadata": {},
   "source": [
    "### 2. 図表を編集する"
   ]
  },
  {
   "cell_type": "code",
   "execution_count": null,
   "metadata": {
    "code_folding": [
     0
    ],
    "disable_pins": true
   },
   "outputs": [],
   "source": [
    "# 図表フォルダを表示する\n",
    "import os\n",
    "\n",
    "from IPython.core.display import Javascript\n",
    "from IPython.display import display\n",
    "import panel as pn\n",
    "\n",
    "from library.utils.access import open_data_folder\n",
    "\n",
    "\n",
    "folder_name = 'figure'\n",
    "button = open_data_folder(os.path.abspath('__file__'), folder_name)\n",
    "\n",
    "pn.extension()\n",
    "display(button)\n",
    "display(Javascript('IPython.notebook.save_checkpoint();'))"
   ]
  },
  {
   "cell_type": "markdown",
   "metadata": {},
   "source": [
    "## GakuNin RDMに保存する"
   ]
  },
  {
   "cell_type": "code",
   "execution_count": null,
   "metadata": {
    "code_folding": [
     0
    ],
    "disable_pins": true
   },
   "outputs": [],
   "source": [
    "# GakuNin RDMに保存する\n",
    "import os\n",
    "\n",
    "from IPython.core.display import Javascript\n",
    "from IPython.display import display\n",
    "import panel as pn\n",
    "\n",
    "from library.task_director import TaskDirector\n",
    "from library.utils.setting import get_data_dir\n",
    "\n",
    "script_file_name = 'write_paper'\n",
    "notebook_name = script_file_name+'.ipynb'\n",
    "\n",
    "\n",
    "class DataSaver(TaskDirector):\n",
    "    \"\"\"GRDMに保存するクラスです。\n",
    "\n",
    "    Attributes:\n",
    "        instance:\n",
    "            _abs_root_path (str): 絶対パス\n",
    "            save_form_box(pn.WidgetBox):フォームを格納する。\n",
    "            save_msg_output(Message):ユーザーに提示するメッセージを格納する。\n",
    "    \"\"\"\n",
    "    def __init__(self, working_path: str) -> None:\n",
    "        \"\"\"DataSaver コンストラクタメソッドです。\n",
    "\n",
    "        Args:\n",
    "            working_path (str): 実行Notebookファイルパス\n",
    "\n",
    "        \"\"\"\n",
    "        self.working_path = working_path\n",
    "        super().__init__(self.working_path, notebook_name)\n",
    "\n",
    "    @TaskDirector.task_cell(\"6\")\n",
    "    def generate_form_section(self):\n",
    "        \"\"\"取得したデータを表示するメソッドです。\"\"\"\n",
    "        # タスク開始によるサブフローステータス管理JSONの更新\n",
    "        self.doing_task()\n",
    "\n",
    "        # フォーム定義\n",
    "        data_dir = get_data_dir(self.working_path)\n",
    "        source = [os.path.join(data_dir, 'draft'), os.path.join(data_dir, 'figure'), os.path.join(data_dir, 'papper')]\n",
    "        self.define_save_form(source)\n",
    "        # フォーム表示\n",
    "        pn.extension()\n",
    "        form_section = pn.WidgetBox()\n",
    "        form_section.append(self.save_form_box)\n",
    "        form_section.append(self.save_msg_output)\n",
    "        display(form_section)\n",
    "        display(Javascript('IPython.notebook.save_checkpoint();'))\n",
    "\n",
    "DataSaver(working_path=os.path.abspath('__file__')).generate_form_section()"
   ]
  },
  {
   "cell_type": "markdown",
   "metadata": {},
   "source": [
    "## サブフローメニューを表示する"
   ]
  },
  {
   "cell_type": "code",
   "execution_count": null,
   "metadata": {
    "code_folding": [
     0
    ],
    "disable_pins": true
   },
   "outputs": [],
   "source": [
    "# サブフローメニューを表示する\n",
    "import os\n",
    "\n",
    "from library.task_director import TaskDirector\n",
    "\n",
    "script_file_name = \"write_paper\"\n",
    "notebook_name = script_file_name+'.ipynb'\n",
    "task_director = TaskDirector(os.path.abspath('__file__'), notebook_name)\n",
    "task_director.return_subflow_menu()"
   ]
  }
 ],
 "metadata": {
  "language_info": {
   "name": "python"
  }
 },
 "nbformat": 4,
 "nbformat_minor": 2
}
