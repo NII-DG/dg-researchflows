{
 "cells": [
  {
   "cell_type": "markdown",
   "metadata": {},
   "source": [
    "# 論文を執筆する\n",
    "論文の執筆を行うタスクです。<br>\n",
    "作成した草稿や図表を使用して論文の執筆を行ってください。<br>\n",
    "リサーチフローではLaTex（文章作成ツール）を使用して論文を執筆することが可能です。<br>\n",
    "LaTexを使用する場合は後述の「リサーチフロー上での執筆方法」の説明に従って論文の執筆、保存を行ってください。<br>\n",
    "それ以外の方法で執筆する場合は論文の執筆後、「フォルダを表示する」セルを実行してリサーチフロー上に直接アップロードしてください。<br>\n",
    "<br>\n",
    "論文を執筆する際にリサーチフローに保存した草稿や論拠データを閲覧したい場合は以下のセルを実行して下さい。"
   ]
  },
  {
   "cell_type": "code",
   "execution_count": null,
   "metadata": {
    "vscode": {
     "languageId": "plaintext"
    }
   },
   "outputs": [],
   "source": [
    "# データを閲覧する"
   ]
  },
  {
   "cell_type": "markdown",
   "metadata": {},
   "source": [
    "## リサーチフロー上で執筆する\n",
    "1. 「フォルダを表示する」セルを実行することで論文を作成するフォルダが表示されます。<br>\n",
    "2. 画像の説明に従って論文ファイルの作成、編集を行ってください。<br>\n",
    "｛論文ファイル（tex形式）の作成方法と編集方法を実際の画面を使って説明する図｝（アップロードの方法も記載）　\n",
    "<span style=\"color:red\">※ 論文ファイルの編集後は必ず保存してからファイルを閉じてください。</span>"
   ]
  },
  {
   "cell_type": "code",
   "execution_count": null,
   "metadata": {
    "vscode": {
     "languageId": "plaintext"
    }
   },
   "outputs": [],
   "source": [
    "# フォルダを表示する"
   ]
  },
  {
   "cell_type": "markdown",
   "metadata": {},
   "source": [
    "\n",
    "notebookを使用して論文に使用するグラフをリサーチフロー上で作成することが可能です。<br>\n",
    "新規作成のセルを実行し、「図表を作成する」ボタンを押下することで図表作成用のノートブックが作成されます。<br>\n",
    "<br>\n",
    "既に作成した図表の編集を行いたい場合は以下の手順に従ってください。<br>\n",
    "①「図表を編集する」セルを実行して、図表と図表生成用のノートブックが保存されているフォルダを表示する。<br>\n",
    "② 編集したい図表、またはノートブックを開いて編集する。<br>\n",
    "<br>\n",
    "また、リサーチフローを用いずに図表を作成した場合は以下の手順でアップロードを行ってください。<br>\n",
    "①「図表を編集する」セルを実行して、図表と図表生成用のノートブックが保存されているフォルダを表示する。<br>\n",
    "②「upload」ボタンから作成した図表をアップロードする。<br>"
   ]
  },
  {
   "cell_type": "markdown",
   "metadata": {},
   "source": [
    "### 1. グラフを新たに作成する"
   ]
  },
  {
   "cell_type": "code",
   "execution_count": null,
   "metadata": {
    "vscode": {
     "languageId": "plaintext"
    }
   },
   "outputs": [],
   "source": [
    "# グラフを新たに作成する"
   ]
  },
  {
   "cell_type": "markdown",
   "metadata": {},
   "source": [
    "### 2. グラフを編集する"
   ]
  },
  {
   "cell_type": "code",
   "execution_count": null,
   "metadata": {
    "vscode": {
     "languageId": "plaintext"
    }
   },
   "outputs": [],
   "source": [
    "# グラフを編集する"
   ]
  },
  {
   "cell_type": "markdown",
   "metadata": {},
   "source": [
    "terminalで以下のコマンドを実行することでtex形式のファイルをPDFで出力することができます。<br>\n",
    "｛PDF化のコマンド｝<br>\n",
    "以下のセルを実行することでterminalを使用せずにPDF化することも可能です。<br>\n",
    "※同名のtexファイルをPDF化する場合は自動的に上書きされるので注意してください。"
   ]
  },
  {
   "cell_type": "code",
   "execution_count": null,
   "metadata": {
    "vscode": {
     "languageId": "plaintext"
    }
   },
   "outputs": [],
   "source": [
    "# texファイルをPDFとして出力する"
   ]
  },
  {
   "cell_type": "markdown",
   "metadata": {},
   "source": [
    "## GakuNin RDMに保存する"
   ]
  },
  {
   "cell_type": "code",
   "execution_count": null,
   "metadata": {
    "vscode": {
     "languageId": "plaintext"
    }
   },
   "outputs": [],
   "source": [
    "# GakuNin RDMに保存する"
   ]
  },
  {
   "cell_type": "markdown",
   "metadata": {},
   "source": [
    "## サブフローメニューを表示する"
   ]
  },
  {
   "cell_type": "code",
   "execution_count": null,
   "metadata": {
    "vscode": {
     "languageId": "plaintext"
    }
   },
   "outputs": [],
   "source": [
    "# サブフローメニューを表示する"
   ]
  }
 ],
 "metadata": {
  "language_info": {
   "name": "python"
  }
 },
 "nbformat": 4,
 "nbformat_minor": 2
}
