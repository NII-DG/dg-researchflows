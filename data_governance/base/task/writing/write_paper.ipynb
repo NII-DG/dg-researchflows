{
 "cells": [
  {
   "cell_type": "markdown",
   "metadata": {},
   "source": [
    "# 論文を執筆する\n",
    "論文の執筆を行うタスクです。<br>\n",
    "作成した草稿や図表を使用して論文の執筆を行ってください。<br>\n",
    "リサーチフローではLaTex（文章作成ツール）を使用して論文を執筆することが可能です。<br>\n",
    "LaTexを使用する場合は後述の「リサーチフロー上での執筆方法」の説明に従って論文の執筆、保存を行ってください。<br>\n",
    "それ以外の方法で執筆する場合は論文の執筆後、「フォルダを表示する」セルを実行してリサーチフロー上に直接アップロードしてください。<br>\n",
    "<br>\n",
    "論文を執筆する際にリサーチフローに保存した草稿や論拠データを閲覧したい場合は以下のセルを実行して下さい。"
   ]
  },
  {
   "cell_type": "code",
   "execution_count": null,
   "metadata": {},
   "outputs": [],
   "source": [
    "# データを閲覧する\n",
    "import os\n",
    "\n",
    "import panel as pn\n",
    "\n",
    "from library.utils.access import open_data_folder\n",
    "from library.utils.config import message as msg_config\n",
    "\n",
    "draft_folder = 'draft'\n",
    "open_data_folder(os.path.abspath('__file__'), draft_folder)\n",
    "button_title = pn.pane.HTML(f\"<b>{msg_config.get('task', 'access_draft')}</b>\", width=500)\n",
    "button_frame1 = pn.Column(button_title)\n",
    "\n",
    "argument_folder = 'argument_data'\n",
    "open_data_folder(os.path.abspath('__file__'), argument_folder)\n",
    "button_title = pn.pane.HTML(f\"<b>{msg_config.get('task', 'access_draft')}</b>\", width=500)\n",
    "button_frame2 = pn.Column(button_title)\n",
    "\n",
    "main_panel = pn.Row(button_frame1, button_frame2)\n"
   ]
  },
  {
   "cell_type": "markdown",
   "metadata": {},
   "source": [
    "## リサーチフロー上で執筆する\n",
    "1. 「フォルダを表示する」セルを実行することで論文を作成するフォルダが表示されます。<br>\n",
    "2. 画像の説明に従って論文ファイルの作成、編集を行ってください。<br>\n",
    "｛論文ファイル（tex形式）の作成方法と編集方法を実際の画面を使って説明する図｝（アップロードの方法も記載）　<br>\n",
    "<span style=\"color:red\">※ 論文ファイルの編集後は必ず保存してからファイルを閉じてください。</span>"
   ]
  },
  {
   "cell_type": "code",
   "execution_count": null,
   "metadata": {},
   "outputs": [],
   "source": [
    "# フォルダを表示する\n",
    "import os\n",
    "\n",
    "from library.utils.access import open_data_folder\n",
    "\n",
    "folder_name = 'paper'\n",
    "\n",
    "open_data_folder(os.path.abspath('__file__'), folder_name)"
   ]
  },
  {
   "cell_type": "markdown",
   "metadata": {},
   "source": [
    "3. 作成したtex形式の草稿をPDFとして出力する<br>\n",
    "terminalで以下のコマンドを実行することでtex形式のファイルを同じフォルダ内にPDFで出力することができます。<br>\n",
    "PDFファイルはtexファイルと同じ名前で、同名のPDFファイルが存在していた場合は上書きします。<br>\n",
    "pdflatex {対象のファイルまでのパス}<br>\n",
    "<br>\n",
    "以下のセルにファイル名を入力して実行することでterminalを使用せずにPDF化することも可能です。<br>"
   ]
  },
  {
   "cell_type": "code",
   "execution_count": null,
   "metadata": {},
   "outputs": [],
   "source": [
    "# texファイルをPDFとして出力する\n",
    "import os\n",
    "from library.utils.setting import get_data_dir\n",
    "\n",
    "fail_name =\"\" #　ここにＰＤＦ化したいファイルを入力する(.texまで含む)\n",
    "\n",
    "dir_name = get_data_dir(os.path.abspath('__file__'))\n",
    "full_path = os.path.join(dir_name, 'papper', fail_name)\n",
    "\n",
    "# PDF化するコマンド\n",
    "!pdelatex {full_path}"
   ]
  },
  {
   "cell_type": "markdown",
   "metadata": {},
   "source": [
    "必要であればこのタスクから論文に使用する図表を作成することができます。<br>\n",
    "新しい図表を作成する場合は「図表を新たに作成する」ボタンを押下することで図表作成用のノートブックが作成されます。<br>\n",
    "<br>\n",
    "既に作成した図表の編集を行いたい場合は以下の手順に従ってください。<br>\n",
    "①「図表を編集する」セルを実行して、図表と図表生成用のノートブックが保存されているフォルダを表示する。<br>\n",
    "② 編集したい図表、またはノートブックを開いて編集する。<br>\n",
    "<br>\n",
    "また、リサーチフローを用いずに図表を作成した場合は以下の手順でアップロードを行ってください。<br>\n",
    "①「図表を編集する」セルを実行して、図表と図表生成用のノートブックが保存されているフォルダを表示する。<br>\n",
    "②「upload」ボタンから作成した図表をアップロードする。<br>"
   ]
  },
  {
   "cell_type": "markdown",
   "metadata": {},
   "source": [
    "### 1. 図表を新たに作成する"
   ]
  },
  {
   "cell_type": "code",
   "execution_count": null,
   "metadata": {},
   "outputs": [],
   "source": [
    "# 図表を新たに作成する\n",
    "import shutil\n",
    "\n",
    "import panel as pn\n",
    "\n",
    "from library.utils.access import open_notebook_file\n",
    "from library.task_director import TaskDirector\n",
    "from library.utils.config import message as msg_config\n",
    "from library.utils.setting import get_data_dir\n",
    "from library.utils.widgets import Button, MessageBox\n",
    "\n",
    "\n",
    "notebook_name = 'create_draft.ipynb'\n",
    "template_notebook_path = '/home/jovyan/data_gorvanance/base/task/writing/figure_template.ipynb'\n",
    "\n",
    "class CreateFigureNoteBook(TaskDirector):\n",
    "\n",
    "    def __init__(self, working_path: str):\n",
    "\n",
    "        self.working_path = working_path\n",
    "        super().__init__(self.working_path)\n",
    "\n",
    "    @TaskDirector.task_cell(\"3\")\n",
    "    def generate_name_form(self):\n",
    "\n",
    "        self.text_input = pn.widgets.TextInput(name= msg_config.get('create_draft', 'name_form_default'))\n",
    "        self.generate_button_title = msg_config.get('create_draft', 'create_notebook')\n",
    "        self.generate_button = Button(width=500)\n",
    "        self.generate_button.set_looks_init(self.generate_button_title)\n",
    "        self.generate_button.on_click(self.generate)\n",
    "\n",
    "        self.name_form_message = MessageBox()\n",
    "        self.name_form_message.width = 900\n",
    "\n",
    "    @TaskDirector.callback_form('図表用ノートブックを作成する')\n",
    "    def generate(self, event):\n",
    "\n",
    "        if not self.text_input.value or self.text_input.value == msg_config.get('create_draft', 'name_form_default'):\n",
    "            self.name_form_message.update_warning(msg_config.get('create_draft', 'name_form_warning'))\n",
    "            display(self.name_form_message)\n",
    "            return\n",
    "\n",
    "        full_file_name = self.text_input.value + \".ipynb\"\n",
    "        dir_name = os.path.join(get_data_dir(self.working_path), 'figure')\n",
    "\n",
    "        if os.path.exists(os.path.join(dir_name, full_file_name)):\n",
    "            self.name_form_message.update_warning(msg_config.get('create_draft', 'file_existed_warning'))\n",
    "            display(self.name_form_message)\n",
    "            return\n",
    "\n",
    "        else:\n",
    "            output_file_path = os.path.join(dir_name, full_file_name)\n",
    "            shutil.copy(template_notebook_path, output_file_path)\n",
    "            open_notebook_file(self.working_path, full_file_name)\n",
    "\n",
    "\n",
    "CreateFigureNoteBook(working_path=os.path.abspath('__file__')).generate_name_form()"
   ]
  },
  {
   "cell_type": "markdown",
   "metadata": {},
   "source": [
    "### 2. 図表を編集する"
   ]
  },
  {
   "cell_type": "code",
   "execution_count": null,
   "metadata": {},
   "outputs": [],
   "source": [
    "# 図表フォルダを表示する\n",
    "import os\n",
    "\n",
    "from library.utils.access import open_data_folder\n",
    "\n",
    "folder_name = 'figure'\n",
    "\n",
    "open_data_folder(os.path.abspath('__file__'), folder_name)"
   ]
  },
  {
   "cell_type": "markdown",
   "metadata": {},
   "source": [
    "## GakuNin RDMに保存する"
   ]
  },
  {
   "cell_type": "code",
   "execution_count": null,
   "metadata": {},
   "outputs": [],
   "source": [
    "# GakuNin RDMに保存する\n",
    "from IPython.core.display import Javascript\n",
    "from IPython.display import display\n",
    "\n",
    "import panel as pn\n",
    "\n",
    "from library.task_director import TaskDirector\n",
    "from library.utils.setting import get_data_dir\n",
    "\n",
    "script_file_name = 'save_data'\n",
    "notebook_name = script_file_name+'.ipynb'\n",
    "\n",
    "\n",
    "class DataSaver(TaskDirector):\n",
    "    \"\"\"GRDMに保存するクラスです。\n",
    "\n",
    "    Attributes:\n",
    "        instance:\n",
    "            _abs_root_path (str): 絶対パス\n",
    "            save_form_box(pn.WidgetBox):フォームを格納する。\n",
    "            save_msg_output(Message):ユーザーに提示するメッセージを格納する。\n",
    "    \"\"\"\n",
    "\n",
    "    def __init__(self, working_path: str) -> None:\n",
    "        \"\"\"DataSaver コンストラクタメソッドです。\n",
    "\n",
    "        Args:\n",
    "            working_path (str): 実行Notebookファイルパス\n",
    "        \"\"\"\n",
    "        self.working_path = working_path\n",
    "        super().__init__(self.working_path, notebook_name)\n",
    "\n",
    "    @TaskDirector.task_cell(\"1\")\n",
    "    def generate_form_section(self):\n",
    "        \"\"\"取得したデータを表示するメソッドです。\"\"\"\n",
    "        # タスク開始によるサブフローステータス管理JSONの更新\n",
    "        self.doing_task()\n",
    "\n",
    "        # フォーム定義\n",
    "        data_dir = get_data_dir(self.working_path)\n",
    "        source = [os.path.join(data_dir, 'draft'), os.path.join(data_dir, 'figure'), os.path.join(data_dir, 'papper')]\n",
    "        self.define_save_form(source)\n",
    "        # フォーム表示\n",
    "        pn.extension()\n",
    "        form_section = pn.WidgetBox()\n",
    "        form_section.append(self.save_form_box)\n",
    "        form_section.append(self.save_msg_output)\n",
    "        display(form_section)\n",
    "        display(Javascript('IPython.notebook.save_checkpoint();'))\n",
    "\n",
    "\n",
    "DataSaver(working_path=os.path.abspath('__file__')).generate_form_section()"
   ]
  },
  {
   "cell_type": "markdown",
   "metadata": {},
   "source": [
    "## サブフローメニューを表示する"
   ]
  },
  {
   "cell_type": "code",
   "execution_count": null,
   "metadata": {},
   "outputs": [],
   "source": [
    "# サブフローメニューを表示する\n",
    "import os\n",
    "\n",
    "from library.task_director import TaskDirector\n",
    "\n",
    "script_file_name = \"make_research_data_management_plan\"\n",
    "notebook_name = script_file_name+'.ipynb'\n",
    "TaskDirector(os.path.abspath('__file__'), notebook_name).return_subflow_menu()"
   ]
  }
 ],
 "metadata": {
  "language_info": {
   "name": "python"
  }
 },
 "nbformat": 4,
 "nbformat_minor": 2
}
