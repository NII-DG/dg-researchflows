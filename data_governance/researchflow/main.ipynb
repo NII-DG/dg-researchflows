{
 "cells": [
  {
   "cell_type": "markdown",
   "metadata": {},
   "source": [
    "# メインメニュー\n",
    "\n",
    "リサーチフローは、研究プロセスで生じる研究者のタスクを半機械的に実行支援します。<br>\n",
    "リサーチフローはJupyter Notebook形式で実行可能な手順書として記述されています。<br>\n",
    "※Jupyter Notebookの使い方については[こちら](https://support.rdm.nii.ac.jp/usermanual/60/#jn_operation)を参照ください。<br>\n",
    "リサーチフローでは、研究プロセスを研究準備、実験、論文執筆、査読、キュレーション、公開準備というサブフローに大別し、それぞれのサブフローのタスクはガバナンスシートによって決定します。<br>\n",
    "ガバナンスシートとは、研究データの管理において守られるべきルールが記述されたものです。<br>\n",
    "ガバナンスシートの登録は自分で登録するかデフォルトのガバナンスシートを登録するかになります。<br>\n",
    "デフォルトのガバナンスシートとは最低限のタスクが用意されるように設定されたものです。<br>\n",
    "<br>\n",
    "Notebook上に記載されている説明文やコードはご自身に合わせて編集することが可能です。<br>\n",
    "ただし、編集内容によってはコードが正常に動作しなくなる可能性がありますのでご留意ください。<br>\n"
   ]
  },
  {
   "cell_type": "markdown",
   "metadata": {},
   "source": [
    "## メインメニューを表示する\n",
    "\n",
    "メインメニューの詳しい利用方法については、[こちら](https://support.rdm.nii.ac.jp/usermanual/60/#rf01)をご参照ください。"
   ]
  },
  {
   "cell_type": "code",
   "execution_count": null,
   "metadata": {
    "code_folding": [
     0
    ],
    "disable_pins": true
   },
   "outputs": [],
   "source": [
    "# メインメニューを表示する\n",
    "import os\n",
    "from library.main_menu import MainMenu\n",
    "mm = MainMenu.generate(working_path=os.path.abspath('__file__'))"
   ]
  }
 ],
 "metadata": {
  "kernelspec": {
   "display_name": "env",
   "language": "python",
   "name": "python3"
  },
  "language_info": {
   "codemirror_mode": {
    "name": "ipython",
    "version": 3
   },
   "file_extension": ".py",
   "mimetype": "text/x-python",
   "name": "python",
   "nbconvert_exporter": "python",
   "pygments_lexer": "ipython3",
   "version": "3.12.2"
  },
  "orig_nbformat": 4
 },
 "nbformat": 4,
 "nbformat_minor": 2
}
