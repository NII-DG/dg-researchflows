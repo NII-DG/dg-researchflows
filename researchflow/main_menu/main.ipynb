{
 "cells": [
  {
   "cell_type": "markdown",
   "metadata": {},
   "source": [
    "# メインメニュー\n",
    "\n",
    "{機能概要}<br>\n",
    "リサーチフローは、研究プロセスで生じる研究者のタスクを半機械的に実行支援します。<br>\n",
    "研究プロセスを研究準備、実験、論文執筆、査読、キュレーション、公開準備というサブフローに大別し、それぞれのサブフローの特徴に沿ったタスクの実行支援を行います。<br>\n",
    "個々のタスクの実行支援は、Jupyter Notebook形式で実行可能な手順書として記述されています。<br>\n",
    "各タスクに書かれているコードはご自身に合わせて編集することが可能です。<br>\n",
    "ただし、編集内容によってはコードが正常に動作しなくなる可能性がありますのでご留意ください。<br>\n"
   ]
  },
  {
   "cell_type": "markdown",
   "metadata": {},
   "source": [
    "## メニューバー"
   ]
  },
  {
   "cell_type": "code",
   "execution_count": null,
   "metadata": {},
   "outputs": [],
   "source": [
    "# TODO: Implement the menu bar"
   ]
  },
  {
   "cell_type": "markdown",
   "metadata": {},
   "source": [
    "## メインメニューを表示\n",
    "\n",
    "メインメニューの利用方法については、[こちら]()をご参照ください。新規タブで開きます。"
   ]
  },
  {
   "cell_type": "code",
   "execution_count": null,
   "metadata": {},
   "outputs": [],
   "source": [
    "# Displays main menu and research flow diagram\n"
   ]
  }
 ],
 "metadata": {
  "kernelspec": {
   "display_name": "env",
   "language": "python",
   "name": "python3"
  },
  "language_info": {
   "name": "python",
   "version": "3.10.9"
  },
  "orig_nbformat": 4
 },
 "nbformat": 4,
 "nbformat_minor": 2
}
