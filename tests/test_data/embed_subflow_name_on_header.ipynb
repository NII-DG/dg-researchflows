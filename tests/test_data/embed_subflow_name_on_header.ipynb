{
 "cells": [
  {
   "cell_type": "markdown",
   "metadata": {},
   "source": [
    "# ＜:subflow_name＞ テストNotebook\n",
    "\n",
    "NoteBookのヘッダーのサブフロー名の置換テスト用"
   ]
  },
  {
   "cell_type": "code",
   "execution_count": null,
   "metadata": {},
   "outputs": [],
   "source": [
    "# ＜:subflow_name＞ テストNotebook\n",
    "print('test')"
   ]
  }
 ],
 "metadata": {
  "language_info": {
   "name": "python"
  }
 },
 "nbformat": 4,
 "nbformat_minor": 2
}
